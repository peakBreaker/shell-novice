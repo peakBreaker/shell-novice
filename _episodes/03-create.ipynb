{
 "cells": [
  {
   "cell_type": "raw",
   "id": "17f9952d",
   "metadata": {},
   "source": [
    "---\n",
    "\n",
    "---"
   ]
  },
  {
   "cell_type": "markdown",
   "id": "697237a3",
   "metadata": {},
   "source": [
    "\n",
    "```\n",
    "```\n",
    "\n",
    "---\n",
    "title: \"Working With Files and Directories\"\n",
    "teaching: 30\n",
    "exercises: 20\n",
    "questions:\n",
    "- \"How can I create, copy, and delete files and directories?\"\n",
    "- \"How can I edit files?\"\n",
    "objectives:\n",
    "- \"Create a directory hierarchy that matches a given diagram.\"\n",
    "- \"Create files in that hierarchy using an editor or by copying and renaming existing files.\"\n",
    "- \"Delete, copy and move specified files and/or directories.\"\n",
    "keypoints:\n",
    "- \"`cp [old] [new]` copies a file.\"\n",
    "- \"`mkdir [path]` creates a new directory.\"\n",
    "- \"`mv [old] [new]` moves (renames) a file or directory.\"\n",
    "- \"`rm [path]` removes (deletes) a file.\"\n",
    "- \"`*` matches zero or more characters in a filename, so `*.txt` matches all files ending in `.txt`.\"\n",
    "- \"`?` matches any single character in a filename, so `?.txt` matches `a.txt` but not `any.txt`.\"\n",
    "- \"Use of the Control key may be described in many ways, including `Ctrl-X`, `Control-X`, and `^X`.\"\n",
    "- \"The shell does not have a trash bin: once something is deleted, it's really gone.\"\n",
    "- \"Most files' names are `something.extension`. The extension isn't required, and doesn't guarantee anything, but is normally used to indicate the type of data in the file.\"\n",
    "- \"Depending on the type of work you do, you may need a more powerful text editor than Nano.\"\n",
    "---\n",
    "## Creating directories\n",
    "We now know how to explore files and directories,\n",
    "but how do we create them in the first place?\n",
    "### Step one: see where we are and what we already have\n",
    "Let's go back to our `shell-lesson-data` directory on the Desktop\n",
    "and use `ls -F` to see what it contains:"
   ]
  },
  {
   "cell_type": "code",
   "execution_count": null,
   "id": "3b6c4a8a",
   "metadata": {},
   "outputs": [],
   "source": [
    "%%bash\n",
    "$ pwd"
   ]
  },
  {
   "cell_type": "markdown",
   "id": "b86bfc2c",
   "metadata": {},
   "source": [
    "{: .language-bash}\n",
    "\n",
    "```\n",
    "/Users/nelle/Desktop/shell-lesson-data\n",
    "```\n",
    "\n",
    "{: .output}"
   ]
  },
  {
   "cell_type": "code",
   "execution_count": null,
   "id": "87e2a563",
   "metadata": {},
   "outputs": [],
   "source": [
    "%%bash\n",
    "$ ls -F"
   ]
  },
  {
   "cell_type": "markdown",
   "id": "9ed700b3",
   "metadata": {},
   "source": [
    "{: .language-bash}\n",
    "\n",
    "```\n",
    "creatures/  data/  molecules/  north-pacific-gyre/  notes.txt  pizza.cfg  solar.pdf  writing/\n",
    "```\n",
    "\n",
    "{: .output}\n",
    "### Create a directory\n",
    "Let's create a new directory called `thesis` using the command `mkdir thesis`\n",
    "(which has no output):"
   ]
  },
  {
   "cell_type": "code",
   "execution_count": null,
   "id": "40c0e0c0",
   "metadata": {},
   "outputs": [],
   "source": [
    "%%bash\n",
    "$ mkdir thesis"
   ]
  },
  {
   "cell_type": "markdown",
   "id": "8708fd14",
   "metadata": {},
   "source": [
    "```\n",
    "```\n",
    "\n",
    "{: .language-bash}\n",
    "As you might guess from its name,\n",
    "`mkdir` means 'make directory'.\n",
    "Since `thesis` is a relative path\n",
    "(i.e., does not have a leading slash, like `/what/ever/thesis`),\n",
    "the new directory is created in the current working directory:"
   ]
  },
  {
   "cell_type": "code",
   "execution_count": null,
   "id": "17567c26",
   "metadata": {},
   "outputs": [],
   "source": [
    "%%bash\n",
    "$ ls -F"
   ]
  },
  {
   "cell_type": "markdown",
   "id": "7b51eb6f",
   "metadata": {},
   "source": [
    "{: .language-bash}\n",
    "\n",
    "```\n",
    "creatures/  data/  molecules/  north-pacific-gyre/  notes.txt  pizza.cfg\n",
    "solar.pdf  thesis/  writing/\n",
    "```\n",
    "\n",
    "{: .output}\n",
    "Since we've just created the `thesis` directory, there's nothing in it yet:"
   ]
  },
  {
   "cell_type": "code",
   "execution_count": null,
   "id": "39e1230b",
   "metadata": {},
   "outputs": [],
   "source": [
    "%%bash\n",
    "$ ls -F thesis"
   ]
  },
  {
   "cell_type": "markdown",
   "id": "2c5c1998",
   "metadata": {},
   "source": [
    "```\n",
    "```\n",
    "\n",
    "{: .language-bash}\n",
    "Note that `mkdir` is not limited to creating single directories one at a time.\n",
    "The `-p` option allows `mkdir` to create a directory with nested subdirectories\n",
    "in a single operation:"
   ]
  },
  {
   "cell_type": "code",
   "execution_count": null,
   "id": "01d1e9da",
   "metadata": {},
   "outputs": [],
   "source": [
    "%%bash\n",
    "$ mkdir -p project/data project/results"
   ]
  },
  {
   "cell_type": "markdown",
   "id": "fdb9394c",
   "metadata": {},
   "source": [
    "```\n",
    "```\n",
    "\n",
    "{: .language-bash}\n",
    "The `-R` option to the `ls` command will list all nested subdirectories within a directory.\n",
    "Let's use `ls -FR` to recursively list the new directory hierarchy we just created in the\n",
    "`project` directory:"
   ]
  },
  {
   "cell_type": "code",
   "execution_count": null,
   "id": "8feb2064",
   "metadata": {},
   "outputs": [],
   "source": [
    "%%bash\n",
    "$ ls -FR project"
   ]
  },
  {
   "cell_type": "markdown",
   "id": "077e95d6",
   "metadata": {},
   "source": [
    "{: .language-bash}\n",
    "\n",
    "```\n",
    "project/:\n",
    "data/  results/\n",
    "project/data:\n",
    "project/results:\n",
    "```\n",
    "\n",
    "{: .output}\n",
    "> ## Two ways of doing the same thing\n",
    "> Using the shell to create a directory is no different than using a file explorer.\n",
    "> If you open the current directory using your operating system's graphical file explorer,\n",
    "> the `thesis` directory will appear there too.\n",
    "> While the shell and the file explorer are two different ways of interacting with the files,\n",
    "> the files and directories themselves are the same.\n",
    "{: .callout}\n",
    "> ## Good names for files and directories\n",
    ">\n",
    "> Complicated names of files and directories can make your life painful\n",
    "> when working on the command line. Here we provide a few useful\n",
    "> tips for the names of your files and directories.\n",
    ">\n",
    "> 1. Don't use spaces.\n",
    ">\n",
    ">    Spaces can make a name more meaningful,\n",
    ">    but since spaces are used to separate arguments on the command line\n",
    ">    it is better to avoid them in names of files and directories.\n",
    ">    You can use `-` or `_` instead (e.g. `north-pacific-gyre/` rather than `north pacific gyre/`).\n",
    ">    To test this out, try typing `mkdir north pacific gyre`and see what directory (or directories!)\n",
    ">    are made when you check with `ls -F`.\n",
    ">\n",
    "> 2. Don't begin the name with `-` (dash).\n",
    ">\n",
    ">    Commands treat names starting with `-` as options.\n",
    ">\n",
    "> 3. Stick with letters, numbers, `.` (period or 'full stop'), `-` (dash) and `_` (underscore).\n",
    ">\n",
    ">    Many other characters have special meanings on the command line.\n",
    ">    We will learn about some of these during this lesson.\n",
    ">    There are special characters that can cause your command to not work as\n",
    ">    expected and can even result in data loss.\n",
    ">\n",
    "> If you need to refer to names of files or directories that have spaces\n",
    "> or other special characters, you should surround the name in quotes (`\"\"`).\n",
    "{: .callout}\n",
    "### Create a text file\n",
    "Let's change our working directory to `thesis` using `cd`,\n",
    "then run a text editor called Nano to create a file called `draft.txt`:"
   ]
  },
  {
   "cell_type": "code",
   "execution_count": null,
   "id": "3af130e2",
   "metadata": {},
   "outputs": [],
   "source": [
    "%%bash\n",
    "$ cd thesis\n",
    "$ nano draft.txt"
   ]
  },
  {
   "cell_type": "markdown",
   "id": "05a047b4",
   "metadata": {},
   "source": [
    "```\n",
    "```\n",
    "\n",
    "{: .language-bash}\n",
    "> ## Which Editor?\n",
    ">\n",
    "> When we say, '`nano` is a text editor' we really do mean 'text': it can\n",
    "> only work with plain character data, not tables, images, or any other\n",
    "> human-friendly media. We use it in examples because it is one of the\n",
    "> least complex text editors. However, because of this trait, it may\n",
    "> not be powerful enough or flexible enough for the work you need to do\n",
    "> after this workshop. On Unix systems (such as Linux and macOS),\n",
    "> many programmers use [Emacs](http://www.gnu.org/software/emacs/) or\n",
    "> [Vim](http://www.vim.org/) (both of which require more time to learn),\n",
    "> or a graphical editor such as\n",
    "> [Gedit](http://projects.gnome.org/gedit/). On Windows, you may wish to\n",
    "> use [Notepad++](http://notepad-plus-plus.org/).  Windows also has a built-in\n",
    "> editor called `notepad` that can be run from the command line in the same\n",
    "> way as `nano` for the purposes of this lesson.\n",
    ">\n",
    "> No matter what editor you use, you will need to know where it searches\n",
    "> for and saves files. If you start it from the shell, it will (probably)\n",
    "> use your current working directory as its default location. If you use\n",
    "> your computer's start menu, it may want to save files in your desktop or\n",
    "> documents directory instead. You can change this by navigating to\n",
    "> another directory the first time you 'Save As...'\n",
    "{: .callout}\n",
    "Let's type in a few lines of text.\n",
    "Once we're happy with our text, we can press <kbd>Ctrl</kbd>+<kbd>O</kbd>\n",
    "(press the <kbd>Ctrl</kbd> or <kbd>Control</kbd> key and, while\n",
    "holding it down, press the <kbd>O</kbd> key) to write our data to disk\n",
    "(we'll be asked what file we want to save this to:\n",
    "press <kbd>Return</kbd> to accept the suggested default of `draft.txt`).\n",
    "<div style=\"width:80%; margin: auto;\"><img alt=\"screenshot of nano text editor in action\"\n",
    "src=\"../fig/nano-screenshot.png\"></div>\n",
    "Once our file is saved, we can use <kbd>Ctrl</kbd>+<kbd>X</kbd> to quit the editor and\n",
    "return to the shell.\n",
    "> ## Control, Ctrl, or ^ Key\n",
    ">\n",
    "> The Control key is also called the 'Ctrl' key. There are various ways\n",
    "> in which using the Control key may be described. For example, you may\n",
    "> see an instruction to press the <kbd>Control</kbd> key and, while holding it down,\n",
    "> press the <kbd>X</kbd> key, described as any of:\n",
    ">\n",
    "> * `Control-X`\n",
    "> * `Control+X`\n",
    "> * `Ctrl-X`\n",
    "> * `Ctrl+X`\n",
    "> * `^X`\n",
    "> * `C-x`\n",
    ">\n",
    "> In nano, along the bottom of the screen you'll see `^G Get Help ^O WriteOut`.\n",
    "> This means that you can use `Control-G` to get help and `Control-O` to save your\n",
    "> file.\n",
    "{: .callout}\n",
    "`nano` doesn't leave any output on the screen after it exits,\n",
    "but `ls` now shows that we have created a file called `draft.txt`:"
   ]
  },
  {
   "cell_type": "code",
   "execution_count": null,
   "id": "b9a20c2b",
   "metadata": {},
   "outputs": [],
   "source": [
    "%%bash\n",
    "$ ls"
   ]
  },
  {
   "cell_type": "markdown",
   "id": "1e403148",
   "metadata": {},
   "source": [
    "{: .language-bash}\n",
    "\n",
    "```\n",
    "draft.txt\n",
    "```\n",
    "\n",
    "{: .output}\n",
    "> ## Creating Files a Different Way\n",
    ">\n",
    "> We have seen how to create text files using the `nano` editor.\n",
    "> Now, try the following command:\n",
    ">"
   ]
  },
  {
   "cell_type": "code",
   "execution_count": null,
   "id": "68548018",
   "metadata": {},
   "outputs": [],
   "source": [
    "%%bash\n",
    "> $ touch my_file.txt"
   ]
  },
  {
   "cell_type": "code",
   "execution_count": null,
   "id": "9f414f5f",
   "metadata": {},
   "outputs": [],
   "source": [
    "%%bash\n"
   ]
  },
  {
   "cell_type": "markdown",
   "id": "0e922e25",
   "metadata": {},
   "source": [
    "```\n",
    "```\n",
    "\n",
    "> {: .language-bash}\n",
    ">\n",
    "> 1.  What did the `touch` command do?\n",
    ">     When you look at your current directory using the GUI file explorer,\n",
    ">     does the file show up?\n",
    ">\n",
    "> 2.  Use `ls -l` to inspect the files.  How large is `my_file.txt`?\n",
    ">\n",
    "> 3.  When might you want to create a file this way?\n",
    ">\n",
    "> > ## Solution\n",
    "> > 1.  The `touch` command generates a new file called `my_file.txt` in\n",
    "> >     your current directory.  You\n",
    "> >     can observe this newly generated file by typing `ls` at the\n",
    "> >     command line prompt.  `my_file.txt` can also be viewed in your\n",
    "> >     GUI file explorer.\n",
    "> >\n",
    "> > 2.  When you inspect the file with `ls -l`, note that the size of\n",
    "> >     `my_file.txt` is 0 bytes.  In other words, it contains no data.\n",
    "> >     If you open `my_file.txt` using your text editor it is blank.\n",
    "> >\n",
    "> > 3.  Some programs do not generate output files themselves, but\n",
    "> >     instead require that empty files have already been generated.\n",
    "> >     When the program is run, it searches for an existing file to\n",
    "> >     populate with its output.  The touch command allows you to\n",
    "> >     efficiently generate a blank text file to be used by such\n",
    "> >     programs.\n",
    "> {: .solution}\n",
    "{: .challenge}\n",
    "> ## What's In A Name?\n",
    ">\n",
    "> You may have noticed that all of Nelle's files are named 'something dot\n",
    "> something', and in this part of the lesson, we always used the extension\n",
    "> `.txt`.  This is just a convention: we can call a file `mythesis` or\n",
    "> almost anything else we want. However, most people use two-part names\n",
    "> most of the time to help them (and their programs) tell different kinds\n",
    "> of files apart. The second part of such a name is called the\n",
    "> **filename extension** and indicates\n",
    "> what type of data the file holds: `.txt` signals a plain text file, `.pdf`\n",
    "> indicates a PDF document, `.cfg` is a configuration file full of parameters\n",
    "> for some program or other, `.png` is a PNG image, and so on.\n",
    ">\n",
    "> This is just a convention, albeit an important one. Files contain\n",
    "> bytes: it's up to us and our programs to interpret those bytes\n",
    "> according to the rules for plain text files, PDF documents, configuration\n",
    "> files, images, and so on.\n",
    ">\n",
    "> Naming a PNG image of a whale as `whale.mp3` doesn't somehow\n",
    "> magically turn it into a recording of whale song, though it *might*\n",
    "> cause the operating system to try to open it with a music player\n",
    "> when someone double-clicks it.\n",
    "{: .callout}\n",
    "## Moving files and directories\n",
    "Returning to the `shell-lesson-data` directory,\n",
    "```\n",
    "cd ~/Desktop/shell-lesson-data/\n",
    "```\n",
    "{: .language-bash}\n",
    "In our `thesis` directory we have a file `draft.txt`\n",
    "which isn't a particularly informative name,\n",
    "so let's change the file's name using `mv`,\n",
    "which is short for 'move':"
   ]
  },
  {
   "cell_type": "code",
   "execution_count": null,
   "id": "02dffd80",
   "metadata": {},
   "outputs": [],
   "source": [
    "%%bash\n",
    "$ mv thesis/draft.txt thesis/quotes.txt"
   ]
  },
  {
   "cell_type": "markdown",
   "id": "f148d64e",
   "metadata": {},
   "source": [
    "```\n",
    "```\n",
    "\n",
    "{: .language-bash}\n",
    "The first argument tells `mv` what we're 'moving',\n",
    "while the second is where it's to go.\n",
    "In this case,\n",
    "we're moving `thesis/draft.txt` to `thesis/quotes.txt`,\n",
    "which has the same effect as renaming the file.\n",
    "Sure enough,\n",
    "`ls` shows us that `thesis` now contains one file called `quotes.txt`:"
   ]
  },
  {
   "cell_type": "code",
   "execution_count": null,
   "id": "8c944ce7",
   "metadata": {},
   "outputs": [],
   "source": [
    "%%bash\n",
    "$ ls thesis"
   ]
  },
  {
   "cell_type": "markdown",
   "id": "9d60ddd0",
   "metadata": {},
   "source": [
    "{: .language-bash}\n",
    "\n",
    "```\n",
    "quotes.txt\n",
    "```\n",
    "\n",
    "{: .output}\n",
    "One must be careful when specifying the target file name, since `mv` will\n",
    "silently overwrite any existing file with the same name, which could\n",
    "lead to data loss. An additional option, `mv -i` (or `mv --interactive`),\n",
    "can be used to make `mv` ask you for confirmation before overwriting.\n",
    "Note that `mv` also works on directories.\n",
    "Let's move `quotes.txt` into the current working directory.\n",
    "We use `mv` once again,\n",
    "but this time we'll use just the name of a directory as the second argument\n",
    "to tell `mv` that we want to keep the filename\n",
    "but put the file somewhere new.\n",
    "(This is why the command is called 'move'.)\n",
    "In this case,\n",
    "the directory name we use is the special directory name`.` that we mentioned earlier."
   ]
  },
  {
   "cell_type": "code",
   "execution_count": null,
   "id": "37e64c95",
   "metadata": {},
   "outputs": [],
   "source": [
    "%%bash\n",
    "$ mv thesis/quotes.txt ."
   ]
  },
  {
   "cell_type": "markdown",
   "id": "1f49c615",
   "metadata": {},
   "source": [
    "```\n",
    "```\n",
    "\n",
    "{: .language-bash}\n",
    "The effect is to move the file from the directory it was in to the current working directory.\n",
    "`ls` now shows us that `thesis` is empty:"
   ]
  },
  {
   "cell_type": "code",
   "execution_count": null,
   "id": "38f2aa39",
   "metadata": {},
   "outputs": [],
   "source": [
    "%%bash\n",
    "$ ls thesis"
   ]
  },
  {
   "cell_type": "markdown",
   "id": "c01af874",
   "metadata": {},
   "source": [
    "{: .language-bash}\n",
    "\n",
    "```\n",
    "$\n",
    "```\n",
    "\n",
    "{: .output}\n",
    "Alternatively, we can confirm the file `quotes.txt` is no longer present in the `thesis` directory\n",
    "by explicitly trying to list it:"
   ]
  },
  {
   "cell_type": "code",
   "execution_count": null,
   "id": "441fb78f",
   "metadata": {},
   "outputs": [],
   "source": [
    "%%bash\n",
    "$ ls thesis/quotes.txt"
   ]
  },
  {
   "cell_type": "markdown",
   "id": "9eccf075",
   "metadata": {},
   "source": [
    "```\n",
    "```\n",
    "\n",
    "{: .language-bash}\n",
    "```\n",
    "ls: cannot access 'thesis/quotes.txt': No such file or directory\n",
    "```\n",
    "{: .output}\n",
    "`ls` with a filename or directory as an argument only lists the requested file or directory.\n",
    "If the file given as the argument doesn't exist, the shell returns an error as we saw above.\n",
    "We can use this to see that `quotes.txt` is now present in our current directory:"
   ]
  },
  {
   "cell_type": "code",
   "execution_count": null,
   "id": "607cc64a",
   "metadata": {},
   "outputs": [],
   "source": [
    "%%bash\n",
    "$ ls quotes.txt"
   ]
  },
  {
   "cell_type": "markdown",
   "id": "05a46a77",
   "metadata": {},
   "source": [
    "{: .language-bash}\n",
    "\n",
    "```\n",
    "quotes.txt\n",
    "```\n",
    "\n",
    "{: .output}\n",
    "> ## Moving Files to a new folder\n",
    ">\n",
    "> After running the following commands,\n",
    "> Jamie realizes that she put the files `sucrose.dat` and `maltose.dat` into the wrong folder.\n",
    "> The files should have been placed in the `raw` folder.\n",
    ">"
   ]
  },
  {
   "cell_type": "code",
   "execution_count": null,
   "id": "a0f16f07",
   "metadata": {},
   "outputs": [],
   "source": [
    "%%bash\n",
    "> $ ls -F\n",
    ">  analyzed/ raw/\n",
    "> $ ls -F analyzed\n",
    "> fructose.dat glucose.dat maltose.dat sucrose.dat\n",
    "> $ cd analyzed"
   ]
  },
  {
   "cell_type": "markdown",
   "id": "35f2a9ce",
   "metadata": {},
   "source": [
    "```\n",
    "```\n",
    "\n",
    "> {: .language-bash}\n",
    ">\n",
    "> Fill in the blanks to move these files to the `raw/` folder\n",
    "> (i.e. the one she forgot to put them in)\n",
    ">"
   ]
  },
  {
   "cell_type": "code",
   "execution_count": null,
   "id": "98c5d27b",
   "metadata": {},
   "outputs": [],
   "source": [
    "%%bash\n",
    "> $ mv sucrose.dat maltose.dat ____/____"
   ]
  },
  {
   "cell_type": "code",
   "execution_count": null,
   "id": "e962cf4a",
   "metadata": {},
   "outputs": [],
   "source": [
    "%%bash\n"
   ]
  },
  {
   "cell_type": "markdown",
   "id": "54692422",
   "metadata": {},
   "source": [
    "```\n",
    "```\n",
    "\n",
    "> {: .language-bash}\n",
    "> > ## Solution\n",
    "> > ```\n",
    "> > $ mv sucrose.dat maltose.dat ../raw\n",
    "> > ```\n",
    "> > {: .language-bash}\n",
    "> > Recall that `..` refers to the parent directory (i.e. one above the current directory)\n",
    "> > and that `.` refers to the current directory.\n",
    "> {: .solution}\n",
    "{: .challenge}\n",
    "## Copying files and directories\n",
    "The `cp` command works very much like `mv`,\n",
    "except it copies a file instead of moving it.\n",
    "We can check that it did the right thing using `ls`\n",
    "with two paths as arguments --- like most Unix commands,\n",
    "`ls` can be given multiple paths at once:"
   ]
  },
  {
   "cell_type": "code",
   "execution_count": null,
   "id": "1eae87b8",
   "metadata": {},
   "outputs": [],
   "source": [
    "%%bash\n",
    "$ cp quotes.txt thesis/quotations.txt\n",
    "$ ls quotes.txt thesis/quotations.txt"
   ]
  },
  {
   "cell_type": "markdown",
   "id": "51a8dc99",
   "metadata": {},
   "source": [
    "{: .language-bash}"
   ]
  },
  {
   "cell_type": "code",
   "execution_count": null,
   "id": "b06e56d9",
   "metadata": {},
   "outputs": [],
   "source": [
    "%%bash\n",
    "quotes.txt   thesis/quotations.txt"
   ]
  },
  {
   "cell_type": "code",
   "execution_count": null,
   "id": "2a9d0545",
   "metadata": {},
   "outputs": [],
   "source": [
    "%%bash\n"
   ]
  },
  {
   "cell_type": "markdown",
   "id": "d75c8bf3",
   "metadata": {},
   "source": [
    "```\n",
    "```\n",
    "\n",
    "{: .output}\n",
    "We can also copy a directory and all its contents by using the\n",
    "[recursive](https://en.wikipedia.org/wiki/Recursion) option `-r`,\n",
    "e.g. to back up a directory:\n",
    "```\n",
    "$ cp -r thesis thesis_backup\n",
    "```\n",
    "{: .language-bash}\n",
    "We can check the result by listing the contents of both the `thesis` and `thesis_backup` directory:\n",
    "```\n",
    "$ ls thesis thesis_backup\n",
    "```\n",
    "{: .language-bash}\n",
    "```\n",
    "thesis:\n",
    "quotations.txt\n",
    "thesis_backup:\n",
    "quotations.txt\n",
    "```\n",
    "{: .output}\n",
    "> ## Renaming Files\n",
    ">\n",
    "> Suppose that you created a plain-text file in your current directory to contain a list of the\n",
    "> statistical tests you will need to do to analyze your data, and named it: `statstics.txt`\n",
    ">\n",
    "> After creating and saving this file you realize you misspelled the filename! You want to\n",
    "> correct the mistake, which of the following commands could you use to do so?\n",
    ">\n",
    "> 1. `cp statstics.txt statistics.txt`\n",
    "> 2. `mv statstics.txt statistics.txt`\n",
    "> 3. `mv statstics.txt .`\n",
    "> 4. `cp statstics.txt .`\n",
    ">\n",
    "> > ## Solution\n",
    "> > 1. No.  While this would create a file with the correct name,\n",
    "> > the incorrectly named file still exists in the directory\n",
    "> > and would need to be deleted.\n",
    "> > 2. Yes, this would work to rename the file.\n",
    "> > 3. No, the period(.) indicates where to move the file, but does not provide a new file name;\n",
    "> > identical file names\n",
    "> > cannot be created.\n",
    "> > 4. No, the period(.) indicates where to copy the file, but does not provide a new file name;\n",
    "> > identical file names cannot be created.\n",
    "> {: .solution}\n",
    "{: .challenge}\n",
    "> ## Moving and Copying\n",
    ">\n",
    "> What is the output of the closing `ls` command in the sequence shown below?\n",
    ">"
   ]
  },
  {
   "cell_type": "code",
   "execution_count": null,
   "id": "bb05dc73",
   "metadata": {},
   "outputs": [],
   "source": [
    "%%bash\n",
    "> $ pwd"
   ]
  },
  {
   "cell_type": "markdown",
   "id": "f433e38a",
   "metadata": {},
   "source": [
    "> {: .language-bash}\n",
    "\n",
    "```\n",
    "> /Users/jamie/data\n",
    "```\n",
    "\n",
    "> {: .output}"
   ]
  },
  {
   "cell_type": "code",
   "execution_count": null,
   "id": "511232b5",
   "metadata": {},
   "outputs": [],
   "source": [
    "%%bash\n",
    "> $ ls"
   ]
  },
  {
   "cell_type": "markdown",
   "id": "b29d59e4",
   "metadata": {},
   "source": [
    "> {: .language-bash}\n",
    "\n",
    "```\n",
    "> proteins.dat\n",
    "```\n",
    "\n",
    "> {: .output}"
   ]
  },
  {
   "cell_type": "code",
   "execution_count": null,
   "id": "c659c00f",
   "metadata": {},
   "outputs": [],
   "source": [
    "%%bash\n",
    "> $ mkdir recombined\n",
    "> $ mv proteins.dat recombined/\n",
    "> $ cp recombined/proteins.dat ../proteins-saved.dat\n",
    "> $ ls"
   ]
  },
  {
   "cell_type": "markdown",
   "id": "cdd34f2a",
   "metadata": {},
   "source": [
    "```\n",
    "```\n",
    "\n",
    "> {: .language-bash}\n",
    ">\n",
    ">\n",
    "> 1.   `proteins-saved.dat recombined`\n",
    "> 2.   `recombined`\n",
    "> 3.   `proteins.dat recombined`\n",
    "> 4.   `proteins-saved.dat`\n",
    ">\n",
    "> > ## Solution\n",
    "> > We start in the `/Users/jamie/data` directory, and create a new folder called `recombined`.\n",
    "> > The second line moves (`mv`) the file `proteins.dat` to the new folder (`recombined`).\n",
    "> > The third line makes a copy of the file we just moved.\n",
    "> > The tricky part here is where the file was copied to.\n",
    "> > Recall that `..` means 'go up a level', so the copied file is now in `/Users/jamie`.\n",
    "> > Notice that `..` is interpreted with respect to the current working\n",
    "> > directory, **not** with respect to the location of the file being copied.\n",
    "> > So, the only thing that will show using ls (in `/Users/jamie/data`) is the recombined folder.\n",
    "> >\n",
    "> > 1. No, see explanation above.  `proteins-saved.dat` is located at `/Users/jamie`\n",
    "> > 2. Yes\n",
    "> > 3. No, see explanation above.  `proteins.dat` is located at `/Users/jamie/data/recombined`\n",
    "> > 4. No, see explanation above.  `proteins-saved.dat` is located at `/Users/jamie`\n",
    "> {: .solution}\n",
    "{: .challenge}\n",
    "## Removing files and directories\n",
    "Returning to the `shell-lesson-data` directory,\n",
    "let's tidy up this directory by removing the `quotes.txt` file we created.\n",
    "The Unix command we'll use for this is `rm` (short for 'remove'):"
   ]
  },
  {
   "cell_type": "code",
   "execution_count": null,
   "id": "9162a867",
   "metadata": {},
   "outputs": [],
   "source": [
    "%%bash\n",
    "$ rm quotes.txt"
   ]
  },
  {
   "cell_type": "markdown",
   "id": "a85a37d0",
   "metadata": {},
   "source": [
    "```\n",
    "```\n",
    "\n",
    "{: .language-bash}\n",
    "We can confirm the file has gone using `ls`:"
   ]
  },
  {
   "cell_type": "code",
   "execution_count": null,
   "id": "37a1d826",
   "metadata": {},
   "outputs": [],
   "source": [
    "%%bash\n",
    "$ ls quotes.txt"
   ]
  },
  {
   "cell_type": "code",
   "execution_count": null,
   "id": "298c9841",
   "metadata": {},
   "outputs": [],
   "source": [
    "%%bash\n"
   ]
  },
  {
   "cell_type": "markdown",
   "id": "a58bbb3e",
   "metadata": {},
   "source": [
    "```\n",
    "```\n",
    "\n",
    "{: .language-bash}\n",
    "```\n",
    "ls: cannot access 'quotes.txt': No such file or directory\n",
    "```\n",
    "{: .output}\n",
    "> ## Deleting Is Forever\n",
    ">\n",
    "> The Unix shell doesn't have a trash bin that we can recover deleted\n",
    "> files from (though most graphical interfaces to Unix do).  Instead,\n",
    "> when we delete files, they are unlinked from the file system so that\n",
    "> their storage space on disk can be recycled. Tools for finding and\n",
    "> recovering deleted files do exist, but there's no guarantee they'll\n",
    "> work in any particular situation, since the computer may recycle the\n",
    "> file's disk space right away.\n",
    "{: .callout}\n",
    "> ## Using `rm` Safely\n",
    ">\n",
    "> What happens when we execute `rm -i thesis_backup/quotations.txt`?\n",
    "> Why would we want this protection when using `rm`?\n",
    ">\n",
    "> > ## Solution\n",
    "> > ```\n",
    "> > $ rm: remove regular file 'thesis_backup/quotations.txt'? y\n",
    "> > ```\n",
    "> > {: .language-bash}\n",
    "> > The `-i` option will prompt before (every) removal (use <kbd>Y</kbd> to confirm deletion\n",
    "> > or <kbd>N</kbd> to keep the file).\n",
    "> > The Unix shell doesn't have a trash bin, so all the files removed will disappear forever.\n",
    "> > By using the `-i` option, we have the chance to check that we are deleting only the files\n",
    "> > that we want to remove.\n",
    "> {: .solution}\n",
    "{: .challenge}\n",
    "If we try to remove the `thesis` directory using `rm thesis`,\n",
    "we get an error message:"
   ]
  },
  {
   "cell_type": "code",
   "execution_count": null,
   "id": "922be4ce",
   "metadata": {},
   "outputs": [],
   "source": [
    "%%bash\n",
    "$ rm thesis"
   ]
  },
  {
   "cell_type": "markdown",
   "id": "f802dcc0",
   "metadata": {},
   "source": [
    "{: .language-bash}\n",
    "\n",
    "```\n",
    "rm: cannot remove `thesis': Is a directory\n",
    "```\n",
    "\n",
    "{: .error}\n",
    "This happens because `rm` by default only works on files, not directories.\n",
    "`rm` can remove a directory *and all its contents* if we use the\n",
    "recursive option `-r`, and it will do so *without any confirmation prompts*:"
   ]
  },
  {
   "cell_type": "code",
   "execution_count": null,
   "id": "55536d79",
   "metadata": {},
   "outputs": [],
   "source": [
    "%%bash\n",
    "$ rm -r thesis"
   ]
  },
  {
   "cell_type": "markdown",
   "id": "efe1dfcd",
   "metadata": {},
   "source": [
    "```\n",
    "```\n",
    "\n",
    "{: .language-bash}\n",
    "Given that there is no way to retrieve files deleted using the shell,\n",
    "`rm -r` *should be used with great caution*\n",
    "(you might consider adding the interactive option `rm -r -i`).\n",
    "## Operations with multiple files and directories\n",
    "Oftentimes one needs to copy or move several files at once.\n",
    "This can be done by providing a list of individual filenames,\n",
    "or specifying a naming pattern using wildcards.\n",
    "> ## Copy with Multiple Filenames\n",
    ">\n",
    "> For this exercise, you can test the commands in the `shell-lesson-data/data` directory.\n",
    ">\n",
    "> In the example below, what does `cp` do when given several filenames and a directory name?\n",
    ">"
   ]
  },
  {
   "cell_type": "code",
   "execution_count": null,
   "id": "3a6626c2",
   "metadata": {},
   "outputs": [],
   "source": [
    "%%bash\n",
    "> $ mkdir backup\n",
    "> $ cp amino-acids.txt animals.txt backup/"
   ]
  },
  {
   "cell_type": "markdown",
   "id": "a10ca59d",
   "metadata": {},
   "source": [
    "```\n",
    "```\n",
    "\n",
    "> {: .language-bash}\n",
    ">\n",
    "> In the example below, what does `cp` do when given three or more file names?\n",
    ">"
   ]
  },
  {
   "cell_type": "code",
   "execution_count": null,
   "id": "6b31f9e6",
   "metadata": {},
   "outputs": [],
   "source": [
    "%%bash\n",
    "> $ ls -F"
   ]
  },
  {
   "cell_type": "markdown",
   "id": "1272a2bb",
   "metadata": {},
   "source": [
    "> {: .language-bash}\n",
    "\n",
    "```\n",
    "> amino-acids.txt  animals.txt  backup/  elements/  morse.txt  pdb/\n",
    "> planets.txt  salmon.txt  sunspot.txt\n",
    "```\n",
    "\n",
    "> {: .output}"
   ]
  },
  {
   "cell_type": "code",
   "execution_count": null,
   "id": "ed082ef1",
   "metadata": {},
   "outputs": [],
   "source": [
    "%%bash\n",
    "> $ cp amino-acids.txt animals.txt morse.txt"
   ]
  },
  {
   "cell_type": "markdown",
   "id": "7e23d83b",
   "metadata": {},
   "source": [
    "```\n",
    "```\n",
    "\n",
    "> {: .language-bash}\n",
    ">\n",
    "> > ## Solution\n",
    "> > If given more than one file name followed by a directory name\n",
    "> > (i.e. the destination directory must be the last argument),\n",
    "> > `cp` copies the files to the named directory.\n",
    "> >\n",
    "> > If given three file names, `cp` throws an error such as the one below,\n",
    "> > because it is expecting a directory name as the last argument.\n",
    "> >\n",
    "> > ```\n",
    "> > cp: target ‘morse.txt’ is not a directory\n",
    "> > ```\n",
    "> > {: .output}\n",
    "> {: .solution}\n",
    "{: .challenge}\n",
    "### Using wildcards for accessing multiple files at once\n",
    "> ## Wildcards\n",
    ">\n",
    "> `*` is a **wildcard**, which matches zero or more  characters.\n",
    "> Let's consider the `shell-lesson-data/molecules` directory:\n",
    "> `*.pdb` matches `ethane.pdb`, `propane.pdb`, and every\n",
    "> file that ends with '.pdb'. On the other hand, `p*.pdb` only matches\n",
    "> `pentane.pdb` and `propane.pdb`, because the 'p' at the front only\n",
    "> matches filenames that begin with the letter 'p'.\n",
    ">\n",
    "> `?` is also a wildcard, but it matches exactly one character.\n",
    "> So `?ethane.pdb` would match `methane.pdb` whereas\n",
    "> `*ethane.pdb` matches both `ethane.pdb`, and `methane.pdb`.\n",
    ">\n",
    "> Wildcards can be used in combination with each other\n",
    "> e.g. `???ane.pdb` matches three characters followed by `ane.pdb`,\n",
    "> giving `cubane.pdb  ethane.pdb  octane.pdb`.\n",
    ">\n",
    "> When the shell sees a wildcard, it expands the wildcard to create a\n",
    "> list of matching filenames *before* running the command that was\n",
    "> asked for. As an exception, if a wildcard expression does not match\n",
    "> any file, Bash will pass the expression as an argument to the command\n",
    "> as it is. For example, typing `ls *.pdf` in the `molecules` directory\n",
    "> (which contains only files with names ending with `.pdb`) results in\n",
    "> an error message that there is no file called `*.pdf`.\n",
    "> However, generally commands like `wc` and `ls` see the lists of\n",
    "> file names matching these expressions, but not the wildcards\n",
    "> themselves. It is the shell, not the other programs, that deals with\n",
    "> expanding wildcards.\n",
    "{: .callout}\n",
    "> ## List filenames matching a pattern\n",
    ">\n",
    "> When run in the `molecules` directory, which `ls` command(s) will\n",
    "> produce this output?\n",
    ">\n",
    "> `ethane.pdb   methane.pdb`\n",
    ">\n",
    "> 1. `ls *t*ane.pdb`\n",
    "> 2. `ls *t?ne.*`\n",
    "> 3. `ls *t??ne.pdb`\n",
    "> 4. `ls ethane.*`\n",
    ">\n",
    "> > ## Solution\n",
    ">>  The solution is `3.`\n",
    ">>\n",
    ">> `1.` shows all files whose names contain zero or more characters (`*`)\n",
    ">> followed by the letter `t`,\n",
    ">> then zero or more characters (`*`) followed by `ane.pdb`.\n",
    ">> This gives `ethane.pdb  methane.pdb  octane.pdb  pentane.pdb`.\n",
    ">>\n",
    ">> `2.` shows all files whose names start with zero or more characters (`*`) followed by\n",
    ">> the letter `t`,\n",
    ">> then a single character (`?`), then `ne.` followed by zero or more characters (`*`).\n",
    ">> This will give us `octane.pdb` and `pentane.pdb` but doesn't match anything\n",
    ">> which ends in `thane.pdb`.\n",
    ">>\n",
    ">> `3.` fixes the problems of option 2 by matching two characters (`??`) between `t` and `ne`.\n",
    ">> This is the solution.\n",
    ">>\n",
    ">> `4.` only shows files starting with `ethane.`.\n",
    "> {: .solution}\n",
    "{: .challenge}\n",
    "> ## More on Wildcards\n",
    ">\n",
    "> Sam has a directory containing calibration data, datasets, and descriptions of\n",
    "> the datasets:\n",
    ">"
   ]
  },
  {
   "cell_type": "code",
   "execution_count": null,
   "id": "20258623",
   "metadata": {},
   "outputs": [],
   "source": [
    "%%bash\n",
    "> .\n",
    "> ├── 2015-10-23-calibration.txt\n",
    "> ├── 2015-10-23-dataset1.txt\n",
    "> ├── 2015-10-23-dataset2.txt\n",
    "> ├── 2015-10-23-dataset_overview.txt\n",
    "> ├── 2015-10-26-calibration.txt\n",
    "> ├── 2015-10-26-dataset1.txt\n",
    "> ├── 2015-10-26-dataset2.txt\n",
    "> ├── 2015-10-26-dataset_overview.txt\n",
    "> ├── 2015-11-23-calibration.txt\n",
    "> ├── 2015-11-23-dataset1.txt\n",
    "> ├── 2015-11-23-dataset2.txt\n",
    "> ├── 2015-11-23-dataset_overview.txt\n",
    "> ├── backup\n",
    "> │   ├── calibration\n",
    "> │   └── datasets\n",
    "> └── send_to_bob\n",
    ">     ├── all_datasets_created_on_a_23rd\n",
    ">     └── all_november_files"
   ]
  },
  {
   "cell_type": "markdown",
   "id": "38713f86",
   "metadata": {},
   "source": [
    "```\n",
    "```\n",
    "\n",
    "> {: .language-bash}\n",
    ">\n",
    "> Before heading off to another field trip, she wants to back up her data and\n",
    "> send some datasets to her colleague Bob. Sam uses the following commands\n",
    "> to get the job done:\n",
    ">"
   ]
  },
  {
   "cell_type": "code",
   "execution_count": null,
   "id": "4e81063e",
   "metadata": {},
   "outputs": [],
   "source": [
    "%%bash\n",
    "> $ cp *dataset* backup/datasets\n",
    "> $ cp ____calibration____ backup/calibration\n",
    "> $ cp 2015-____-____ send_to_bob/all_november_files/\n",
    "> $ cp ____ send_to_bob/all_datasets_created_on_a_23rd/"
   ]
  },
  {
   "cell_type": "code",
   "execution_count": null,
   "id": "8951cb4f",
   "metadata": {},
   "outputs": [],
   "source": [
    "%%bash\n"
   ]
  },
  {
   "cell_type": "code",
   "execution_count": null,
   "id": "905bc00e",
   "metadata": {},
   "outputs": [],
   "source": [
    "%%bash\n"
   ]
  },
  {
   "cell_type": "markdown",
   "id": "f2f19a24",
   "metadata": {},
   "source": [
    "```\n",
    "```\n",
    "\n",
    "> {: .language-bash}\n",
    ">\n",
    "> Help Sam by filling in the blanks.\n",
    ">\n",
    "> The resulting directory structure should look like this\n",
    "> ```\n",
    "> .\n",
    "> ├── 2015-10-23-calibration.txt\n",
    "> ├── 2015-10-23-dataset1.txt\n",
    "> ├── 2015-10-23-dataset2.txt\n",
    "> ├── 2015-10-23-dataset_overview.txt\n",
    "> ├── 2015-10-26-calibration.txt\n",
    "> ├── 2015-10-26-dataset1.txt\n",
    "> ├── 2015-10-26-dataset2.txt\n",
    "> ├── 2015-10-26-dataset_overview.txt\n",
    "> ├── 2015-11-23-calibration.txt\n",
    "> ├── 2015-11-23-dataset1.txt\n",
    "> ├── 2015-11-23-dataset2.txt\n",
    "> ├── 2015-11-23-dataset_overview.txt\n",
    "> ├── backup\n",
    "> │   ├── calibration\n",
    "> │   │   ├── 2015-10-23-calibration.txt\n",
    "> │   │   ├── 2015-10-26-calibration.txt\n",
    "> │   │   └── 2015-11-23-calibration.txt\n",
    "> │   └── datasets\n",
    "> │       ├── 2015-10-23-dataset1.txt\n",
    "> │       ├── 2015-10-23-dataset2.txt\n",
    "> │       ├── 2015-10-23-dataset_overview.txt\n",
    "> │       ├── 2015-10-26-dataset1.txt\n",
    "> │       ├── 2015-10-26-dataset2.txt\n",
    "> │       ├── 2015-10-26-dataset_overview.txt\n",
    "> │       ├── 2015-11-23-dataset1.txt\n",
    "> │       ├── 2015-11-23-dataset2.txt\n",
    "> │       └── 2015-11-23-dataset_overview.txt\n",
    "> └── send_to_bob\n",
    ">     ├── all_datasets_created_on_a_23rd\n",
    ">     │   ├── 2015-10-23-dataset1.txt\n",
    ">     │   ├── 2015-10-23-dataset2.txt\n",
    ">     │   ├── 2015-10-23-dataset_overview.txt\n",
    ">     │   ├── 2015-11-23-dataset1.txt\n",
    ">     │   ├── 2015-11-23-dataset2.txt\n",
    ">     │   └── 2015-11-23-dataset_overview.txt\n",
    ">     └── all_november_files\n",
    ">         ├── 2015-11-23-calibration.txt\n",
    ">         ├── 2015-11-23-dataset1.txt\n",
    ">         ├── 2015-11-23-dataset2.txt\n",
    ">         └── 2015-11-23-dataset_overview.txt\n",
    "> ```\n",
    "> {: .language-bash}\n",
    ">\n",
    "> > ## Solution\n",
    "> > ```\n",
    "> > $ cp *calibration.txt backup/calibration\n",
    "> > $ cp 2015-11-* send_to_bob/all_november_files/\n",
    "> > $ cp *-23-dataset* send_to_bob/all_datasets_created_on_a_23rd/\n",
    "> > ```\n",
    "> > {: .language-bash}\n",
    "> {: .solution}\n",
    "{: .challenge}\n",
    "> ## Organizing Directories and Files\n",
    ">\n",
    "> Jamie is working on a project and she sees that her files aren't very well\n",
    "> organized:\n",
    ">"
   ]
  },
  {
   "cell_type": "code",
   "execution_count": null,
   "id": "d2bc57dd",
   "metadata": {},
   "outputs": [],
   "source": [
    "%%bash\n",
    "> $ ls -F"
   ]
  },
  {
   "cell_type": "markdown",
   "id": "8707d484",
   "metadata": {},
   "source": [
    "> {: .language-bash}\n",
    "\n",
    "```\n",
    "> analyzed/  fructose.dat    raw/   sucrose.dat\n",
    "```\n",
    "\n",
    "> {: .output}\n",
    ">\n",
    "> The `fructose.dat` and `sucrose.dat` files contain output from her data\n",
    "> analysis. What command(s) covered in this lesson does she need to run\n",
    "> so that the commands below will produce the output shown?\n",
    ">"
   ]
  },
  {
   "cell_type": "code",
   "execution_count": null,
   "id": "56dbaed0",
   "metadata": {},
   "outputs": [],
   "source": [
    "%%bash\n",
    "> $ ls -F"
   ]
  },
  {
   "cell_type": "markdown",
   "id": "bec83b77",
   "metadata": {},
   "source": [
    "> {: .language-bash}\n",
    "\n",
    "```\n",
    "> analyzed/   raw/\n",
    "```\n",
    "\n",
    "> {: .output}"
   ]
  },
  {
   "cell_type": "code",
   "execution_count": null,
   "id": "676dcdae",
   "metadata": {},
   "outputs": [],
   "source": [
    "%%bash\n",
    "> $ ls analyzed"
   ]
  },
  {
   "cell_type": "markdown",
   "id": "4ab4ad4f",
   "metadata": {},
   "source": [
    "> {: .language-bash}"
   ]
  },
  {
   "cell_type": "code",
   "execution_count": null,
   "id": "98b6527f",
   "metadata": {},
   "outputs": [],
   "source": [
    "%%bash\n",
    "> fructose.dat    sucrose.dat"
   ]
  },
  {
   "cell_type": "markdown",
   "id": "41010aea",
   "metadata": {},
   "source": [
    "```\n",
    "```\n",
    "\n",
    "> {: .output}\n",
    ">\n",
    "> > ## Solution\n",
    "> > ```\n",
    "> > mv *.dat analyzed\n",
    "> > ```\n",
    "> > {: .language-bash}\n",
    "> > Jamie needs to move her files `fructose.dat` and `sucrose.dat` to the `analyzed` directory.\n",
    "> > The shell will expand *.dat to match all .dat files in the current directory.\n",
    "> > The `mv` command then moves the list of .dat files to the 'analyzed' directory.\n",
    "> {: .solution}\n",
    "{: .challenge}\n",
    "> ## Reproduce a folder structure\n",
    ">\n",
    "> You're starting a new experiment and would like to duplicate the directory\n",
    "> structure from your previous experiment so you can add new data.\n",
    ">\n",
    "> Assume that the previous experiment is in a folder called '2016-05-18',\n",
    "> which contains a `data` folder that in turn contains folders named `raw` and\n",
    "> `processed` that contain data files.  The goal is to copy the folder structure\n",
    "> of the `2016-05-18-data` folder into a folder called `2016-05-20`\n",
    "> so that your final directory structure looks like this:\n",
    ">\n",
    "\n",
    "```\n",
    "> 2016-05-20/\n",
    "> └── data\n",
    ">    ├── processed\n",
    ">    └── raw\n",
    "```\n",
    "\n",
    "> {: .output}\n",
    ">\n",
    "> Which of the following set of commands would achieve this objective?\n",
    "> What would the other commands do?\n",
    ">"
   ]
  },
  {
   "cell_type": "code",
   "execution_count": null,
   "id": "2743180a",
   "metadata": {},
   "outputs": [],
   "source": [
    "%%bash\n",
    "> $ mkdir 2016-05-20\n",
    "> $ mkdir 2016-05-20/data\n",
    "> $ mkdir 2016-05-20/data/processed\n",
    "> $ mkdir 2016-05-20/data/raw"
   ]
  },
  {
   "cell_type": "markdown",
   "id": "746cfb2f",
   "metadata": {},
   "source": [
    "> {: .language-bash}"
   ]
  },
  {
   "cell_type": "code",
   "execution_count": null,
   "id": "46932a15",
   "metadata": {},
   "outputs": [],
   "source": [
    "%%bash\n",
    "> $ mkdir 2016-05-20\n",
    "> $ cd 2016-05-20\n",
    "> $ mkdir data\n",
    "> $ cd data\n",
    "> $ mkdir raw processed"
   ]
  },
  {
   "cell_type": "markdown",
   "id": "9e48a852",
   "metadata": {},
   "source": [
    "> {: .language-bash}"
   ]
  },
  {
   "cell_type": "code",
   "execution_count": null,
   "id": "118b48aa",
   "metadata": {},
   "outputs": [],
   "source": [
    "%%bash\n",
    "> $ mkdir 2016-05-20/data/raw\n",
    "> $ mkdir 2016-05-20/data/processed"
   ]
  },
  {
   "cell_type": "markdown",
   "id": "e7cf0976",
   "metadata": {},
   "source": [
    "> {: .language-bash}"
   ]
  },
  {
   "cell_type": "code",
   "execution_count": null,
   "id": "14d3c790",
   "metadata": {},
   "outputs": [],
   "source": [
    "%%bash\n",
    "> $ mkdir -p 2016-05-20/data/raw\n",
    "> $ mkdir -p 2016-05-20/data/processed"
   ]
  },
  {
   "cell_type": "markdown",
   "id": "3c683d2a",
   "metadata": {},
   "source": [
    "> {: .language-bash}"
   ]
  },
  {
   "cell_type": "code",
   "execution_count": null,
   "id": "b8de400f",
   "metadata": {
    "lines_to_next_cell": 0
   },
   "outputs": [],
   "source": [
    "%%bash\n",
    "> $ mkdir 2016-05-20\n",
    "> $ cd 2016-05-20\n",
    "> $ mkdir data\n",
    "> $ mkdir raw processed"
   ]
  },
  {
   "cell_type": "markdown",
   "id": "9cf58ae1",
   "metadata": {},
   "source": []
  }
 ],
 "metadata": {
  "jupytext": {
   "formats": "ipynb,md"
  },
  "kernelspec": {
   "display_name": "Python 3 (ipykernel)",
   "language": "python",
   "name": "python3"
  }
 },
 "nbformat": 4,
 "nbformat_minor": 5
}
