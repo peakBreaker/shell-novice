{
 "cells": [
  {
   "cell_type": "raw",
   "id": "8817b6aa",
   "metadata": {},
   "source": [
    "---\n",
    "\n",
    "---"
   ]
  },
  {
   "cell_type": "markdown",
   "id": "16c2d0aa",
   "metadata": {
    "lines_to_next_cell": 0
   },
   "source": []
  },
  {
   "cell_type": "code",
   "execution_count": null,
   "id": "86447658",
   "metadata": {},
   "outputs": [],
   "source": [
    "%%bash\n"
   ]
  },
  {
   "cell_type": "code",
   "execution_count": null,
   "id": "cd2c05eb",
   "metadata": {},
   "outputs": [],
   "source": [
    "%%bash\n"
   ]
  },
  {
   "cell_type": "code",
   "execution_count": null,
   "id": "3b27504e",
   "metadata": {},
   "outputs": [],
   "source": [
    "%%bash\n"
   ]
  },
  {
   "cell_type": "markdown",
   "id": "19342e8e",
   "metadata": {},
   "source": [
    "```\n",
    "```\n",
    "\n",
    "---\n",
    "title: \"Loops\"\n",
    "teaching: 40\n",
    "exercises: 10\n",
    "questions:\n",
    "- \"How can I perform the same actions on many different files?\"\n",
    "objectives:\n",
    "- \"Write a loop that applies one or more commands separately to each file in a set of files.\"\n",
    "- \"Trace the values taken on by a loop variable during execution of the loop.\"\n",
    "- \"Explain the difference between a variable's name and its value.\"\n",
    "- \"Explain why spaces and some punctuation characters shouldn't be used in file names.\"\n",
    "- \"Demonstrate how to see what commands have recently been executed.\"\n",
    "- \"Re-run recently executed commands without retyping them.\"\n",
    "keypoints:\n",
    "- \"A `for` loop repeats commands once for every thing in a list.\"\n",
    "- \"Every `for` loop needs a variable to refer to the thing it is currently operating on.\"\n",
    "- \"Use `$name` to expand a variable (i.e., get its value). `${name}` can also be used.\"\n",
    "- \"Do not use spaces, quotes, or wildcard characters such as '*' or '?' in filenames, as it complicates variable expansion.\"\n",
    "- \"Give files consistent names that are easy to match with wildcard patterns to make it easy to select them for looping.\"\n",
    "- \"Use the up-arrow key to scroll up through previous commands to edit and repeat them.\"\n",
    "- \"Use <kbd>Ctrl</kbd>+<kbd>R</kbd> to search through the previously entered commands.\"\n",
    "- \"Use `history` to display recent commands, and `![number]` to repeat a command by number.\"\n",
    "---\n",
    "**Loops** are a programming construct which allow us to repeat a command or set of commands\n",
    "for each item in a list.\n",
    "As such they are key to productivity improvements through automation.\n",
    "Similar to wildcards and tab completion, using loops also reduces the\n",
    "amount of typing required (and hence reduces the number of typing mistakes).\n",
    "Suppose we have several hundred genome data files named `basilisk.dat`, `minotaur.dat`, and\n",
    "`unicorn.dat`.\n",
    "For this example, we'll use the `creatures` directory which only has three example files,\n",
    "but the principles can be applied to many many more files at once.\n",
    "The structure of these files is the same: the common name, classification, and updated date are\n",
    "presented on the first three lines, with DNA sequences on the following lines.\n",
    "Let's look at the files:\n",
    "```\n",
    "$ head -n 5 basilisk.dat minotaur.dat unicorn.dat\n",
    "```\n",
    "{: .language-bash}\n",
    "We would like to print out the classification for each species, which is given on the second\n",
    "line of each file.\n",
    "For each file, we would need to execute the command `head -n 2` and pipe this to `tail -n 1`.\n",
    "We’ll use a loop to solve this problem, but first let’s look at the general form of a loop:\n",
    "```\n",
    "for thing in list_of_things\n",
    "do\n",
    "operation_using $thing    # Indentation within the loop is not required, but aids legibility\n",
    "done\n",
    "```\n",
    "{: .language-bash}\n",
    "and we can apply this to our example like this:\n",
    "```\n",
    "$ for filename in basilisk.dat minotaur.dat unicorn.dat\n",
    "> do\n",
    ">     head -n 2 $filename | tail -n 1\n",
    "> done\n",
    "```\n",
    "{: .language-bash}\n",
    "```\n",
    "CLASSIFICATION: basiliscus vulgaris\n",
    "CLASSIFICATION: bos hominus\n",
    "CLASSIFICATION: equus monoceros\n",
    "```\n",
    "{: .output}\n",
    "> ## Follow the Prompt\n",
    ">\n",
    "> The shell prompt changes from `$` to `>` and back again as we were\n",
    "> typing in our loop. The second prompt, `>`, is different to remind\n",
    "> us that we haven't finished typing a complete command yet. A semicolon, `;`,\n",
    "> can be used to separate two commands written on a single line.\n",
    "{: .callout}\n",
    "When the shell sees the keyword `for`,\n",
    "it knows to repeat a command (or group of commands) once for each item in a list.\n",
    "Each time the loop runs (called an iteration), an item in the list is assigned in sequence to\n",
    "the **variable**, and the commands inside the loop are executed, before moving on to\n",
    "the next item in the list.\n",
    "Inside the loop,\n",
    "we call for the variable's value by putting `$` in front of it.\n",
    "The `$` tells the shell interpreter to treat\n",
    "the variable as a variable name and substitute its value in its place,\n",
    "rather than treat it as text or an external command.\n",
    "In this example, the list is three filenames: `basilisk.dat`, `minotaur.dat`, and `unicorn.dat`.\n",
    "Each time the loop iterates, it will assign a file name to the variable `filename`\n",
    "and run the `head` command.\n",
    "The first time through the loop,\n",
    "`$filename` is `basilisk.dat`.\n",
    "The interpreter runs the command `head` on `basilisk.dat`\n",
    "and pipes the first two lines to the `tail` command,\n",
    "which then prints the second line of `basilisk.dat`.\n",
    "For the second iteration, `$filename` becomes\n",
    "`minotaur.dat`. This time, the shell runs `head` on `minotaur.dat`\n",
    "and pipes the first two lines to the `tail` command,\n",
    "which then prints the second line of `minotaur.dat`.\n",
    "For the third iteration, `$filename` becomes\n",
    "`unicorn.dat`, so the shell runs the `head` command on that file,\n",
    "and `tail` on the output of that.\n",
    "Since the list was only three items, the shell exits the `for` loop.\n",
    "> ## Same Symbols, Different Meanings\n",
    ">\n",
    "> Here we see `>` being used as a shell prompt, whereas `>` is also\n",
    "> used to redirect output.\n",
    "> Similarly, `$` is used as a shell prompt, but, as we saw earlier,\n",
    "> it is also used to ask the shell to get the value of a variable.\n",
    ">\n",
    "> If the *shell* prints `>` or `$` then it expects you to type something,\n",
    "> and the symbol is a prompt.\n",
    ">\n",
    "> If *you* type `>` or `$` yourself, it is an instruction from you that\n",
    "> the shell should redirect output or get the value of a variable.\n",
    "{: .callout}\n",
    "When using variables it is also\n",
    "possible to put the names into curly braces to clearly delimit the variable\n",
    "name: `$filename` is equivalent to `${filename}`, but is different from\n",
    "`${file}name`. You may find this notation in other people's programs.\n",
    "We have called the variable in this loop `filename`\n",
    "in order to make its purpose clearer to human readers.\n",
    "The shell itself doesn't care what the variable is called;\n",
    "if we wrote this loop as:"
   ]
  },
  {
   "cell_type": "code",
   "execution_count": null,
   "id": "85ee5369",
   "metadata": {},
   "outputs": [],
   "source": [
    "%%bash\n",
    "$ for x in basilisk.dat minotaur.dat unicorn.dat\n",
    "> do\n",
    ">     head -n 2 $x | tail -n 1\n",
    "> done"
   ]
  },
  {
   "cell_type": "markdown",
   "id": "88556b05",
   "metadata": {},
   "source": [
    "```\n",
    "```\n",
    "\n",
    "{: .language-bash}\n",
    "or:"
   ]
  },
  {
   "cell_type": "code",
   "execution_count": null,
   "id": "57f7c0b0",
   "metadata": {},
   "outputs": [],
   "source": [
    "%%bash\n",
    "$ for temperature in basilisk.dat minotaur.dat unicorn.dat\n",
    "> do\n",
    ">     head -n 2 $temperature | tail -n 1\n",
    "> done"
   ]
  },
  {
   "cell_type": "markdown",
   "id": "2a56d987",
   "metadata": {},
   "source": [
    "```\n",
    "```\n",
    "\n",
    "{: .language-bash}\n",
    "it would work exactly the same way.\n",
    "*Don't do this.*\n",
    "Programs are only useful if people can understand them,\n",
    "so meaningless names (like `x`) or misleading names (like `temperature`)\n",
    "increase the odds that the program won't do what its readers think it does.\n",
    "> ## Variables in Loops\n",
    ">\n",
    "> This exercise refers to the `shell-lesson-data/molecules` directory.\n",
    "> `ls` gives the following output:\n",
    ">\n",
    "\n",
    "```\n",
    "> cubane.pdb  ethane.pdb  methane.pdb  octane.pdb  pentane.pdb  propane.pdb\n",
    "```\n",
    "\n",
    "> {: .output}\n",
    ">\n",
    "> What is the output of the following code?\n",
    ">"
   ]
  },
  {
   "cell_type": "code",
   "execution_count": null,
   "id": "8ccb81f3",
   "metadata": {},
   "outputs": [],
   "source": [
    "%%bash\n",
    "> $ for datafile in *.pdb\n",
    "> > do\n",
    "> >     ls *.pdb\n",
    "> > done"
   ]
  },
  {
   "cell_type": "markdown",
   "id": "acc196b8",
   "metadata": {},
   "source": [
    "```\n",
    "```\n",
    "\n",
    "> {: .language-bash}\n",
    ">\n",
    "> Now, what is the output of the following code?\n",
    ">"
   ]
  },
  {
   "cell_type": "code",
   "execution_count": null,
   "id": "64b21252",
   "metadata": {},
   "outputs": [],
   "source": [
    "%%bash\n",
    "> $ for datafile in *.pdb\n",
    "> > do\n",
    "> >\tls $datafile\n",
    "> > done"
   ]
  },
  {
   "cell_type": "code",
   "execution_count": null,
   "id": "f1bec2c5",
   "metadata": {},
   "outputs": [],
   "source": [
    "%%bash\n"
   ]
  },
  {
   "cell_type": "markdown",
   "id": "e0fc02fb",
   "metadata": {},
   "source": [
    "```\n",
    "```\n",
    "\n",
    "> {: .language-bash}\n",
    ">\n",
    "> Why do these two loops give different outputs?\n",
    ">\n",
    "> > ## Solution\n",
    "> > The first code block gives the same output on each iteration through\n",
    "> > the loop.\n",
    "> > Bash expands the wildcard `*.pdb` within the loop body (as well as\n",
    "> > before the loop starts) to match all files ending in `.pdb`\n",
    "> > and then lists them using `ls`.\n",
    "> > The expanded loop would look like this:\n",
    "> > ```\n",
    "> > $ for datafile in cubane.pdb  ethane.pdb  methane.pdb  octane.pdb  pentane.pdb  propane.pdb\n",
    "> > > do\n",
    "> > >     ls cubane.pdb  ethane.pdb  methane.pdb  octane.pdb  pentane.pdb  propane.pdb\n",
    "> > > done\n",
    "> > ```\n",
    "> > {: .language-bash}\n",
    "> >\n",
    "> > ```\n",
    "> > cubane.pdb  ethane.pdb  methane.pdb  octane.pdb  pentane.pdb  propane.pdb\n",
    "> > cubane.pdb  ethane.pdb  methane.pdb  octane.pdb  pentane.pdb  propane.pdb\n",
    "> > cubane.pdb  ethane.pdb  methane.pdb  octane.pdb  pentane.pdb  propane.pdb\n",
    "> > cubane.pdb  ethane.pdb  methane.pdb  octane.pdb  pentane.pdb  propane.pdb\n",
    "> > cubane.pdb  ethane.pdb  methane.pdb  octane.pdb  pentane.pdb  propane.pdb\n",
    "> > cubane.pdb  ethane.pdb  methane.pdb  octane.pdb  pentane.pdb  propane.pdb\n",
    "> > ```\n",
    "> > {: .output}\n",
    "> >\n",
    "> > The second code block lists a different file on each loop iteration.\n",
    "> > The value of the `datafile` variable is evaluated using `$datafile`,\n",
    "> > and then listed using `ls`.\n",
    "> >\n",
    "> > ```\n",
    "> > cubane.pdb\n",
    "> > ethane.pdb\n",
    "> > methane.pdb\n",
    "> > octane.pdb\n",
    "> > pentane.pdb\n",
    "> > propane.pdb\n",
    "> > ```\n",
    "> > {: .output}\n",
    "> {: .solution}\n",
    "{: .challenge}\n",
    "> ## Limiting Sets of Files\n",
    ">\n",
    "> What would be the output of running the following loop in the\n",
    "> `shell-lesson-data/molecules` directory?\n",
    ">"
   ]
  },
  {
   "cell_type": "code",
   "execution_count": null,
   "id": "03d6fc3c",
   "metadata": {},
   "outputs": [],
   "source": [
    "%%bash\n",
    "> $ for filename in c*\n",
    "> > do\n",
    "> >     ls $filename\n",
    "> > done"
   ]
  },
  {
   "cell_type": "markdown",
   "id": "7b0fd20f",
   "metadata": {},
   "source": [
    "```\n",
    "```\n",
    "\n",
    "> {: .language-bash}\n",
    ">\n",
    "> 1.  No files are listed.\n",
    "> 2.  All files are listed.\n",
    "> 3.  Only `cubane.pdb`, `octane.pdb` and `pentane.pdb` are listed.\n",
    "> 4.  Only `cubane.pdb` is listed.\n",
    ">\n",
    "> > ## Solution\n",
    "> > 4 is the correct answer. `*` matches zero or more characters, so any file name starting with\n",
    "> > the letter c, followed by zero or more other characters will be matched.\n",
    "> {: .solution}\n",
    ">\n",
    "> How would the output differ from using this command instead?\n",
    ">"
   ]
  },
  {
   "cell_type": "code",
   "execution_count": null,
   "id": "5c98c102",
   "metadata": {},
   "outputs": [],
   "source": [
    "%%bash\n",
    "> $ for filename in *c*\n",
    "> > do\n",
    "> >     ls $filename\n",
    "> > done"
   ]
  },
  {
   "cell_type": "markdown",
   "id": "519bdafd",
   "metadata": {},
   "source": [
    "```\n",
    "```\n",
    "\n",
    "> {: .language-bash}\n",
    ">\n",
    "> 1.  The same files would be listed.\n",
    "> 2.  All the files are listed this time.\n",
    "> 3.  No files are listed this time.\n",
    "> 4.  The files `cubane.pdb` and `octane.pdb` will be listed.\n",
    "> 5.  Only the file `octane.pdb` will be listed.\n",
    ">\n",
    "> > ## Solution\n",
    "> > 4 is the correct answer. `*` matches zero or more characters, so a file name with zero or more\n",
    "> > characters before a letter c and zero or more characters after the letter c will be matched.\n",
    "> {: .solution}\n",
    "{: .challenge}\n",
    "> ## Saving to a File in a Loop - Part One\n",
    ">\n",
    "> In the `shell-lesson-data/molecules` directory, what is the effect of this loop?\n",
    ">"
   ]
  },
  {
   "cell_type": "code",
   "execution_count": null,
   "id": "dd12d686",
   "metadata": {},
   "outputs": [],
   "source": [
    "%%bash\n",
    "> for alkanes in *.pdb\n",
    "> do\n",
    ">     echo $alkanes\n",
    ">     cat $alkanes > alkanes.pdb\n",
    "> done"
   ]
  },
  {
   "cell_type": "markdown",
   "id": "4b0bba1f",
   "metadata": {},
   "source": [
    "```\n",
    "```\n",
    "\n",
    "> {: .language-bash}\n",
    ">\n",
    "> 1.  Prints `cubane.pdb`, `ethane.pdb`, `methane.pdb`, `octane.pdb`, `pentane.pdb` and\n",
    ">    `propane.pdb`, and the text from `propane.pdb` will be saved to a file called `alkanes.pdb`.\n",
    "> 2.  Prints `cubane.pdb`, `ethane.pdb`, and `methane.pdb`, and the text from all three files\n",
    ">     would be concatenated and saved to a file called `alkanes.pdb`.\n",
    "> 3.  Prints `cubane.pdb`, `ethane.pdb`, `methane.pdb`, `octane.pdb`, and `pentane.pdb`,\n",
    ">     and the text from `propane.pdb` will be saved to a file called `alkanes.pdb`.\n",
    "> 4.  None of the above.\n",
    ">\n",
    "> > ## Solution\n",
    "> > 1. The text from each file in turn gets written to the `alkanes.pdb` file.\n",
    "> > However, the file gets overwritten on each loop iteration, so the final content of `alkanes.pdb`\n",
    "> > is the text from the `propane.pdb` file.\n",
    "> {: .solution}\n",
    "{: .challenge}\n",
    "> ## Saving to a File in a Loop - Part Two\n",
    ">\n",
    "> Also in the `shell-lesson-data/molecules` directory,\n",
    "> what would be the output of the following loop?\n",
    ">"
   ]
  },
  {
   "cell_type": "code",
   "execution_count": null,
   "id": "ab5fc2af",
   "metadata": {},
   "outputs": [],
   "source": [
    "%%bash\n",
    "> for datafile in *.pdb\n",
    "> do\n",
    ">     cat $datafile >> all.pdb\n",
    "> done"
   ]
  },
  {
   "cell_type": "markdown",
   "id": "9c5a2bd5",
   "metadata": {},
   "source": [
    "```\n",
    "```\n",
    "\n",
    "> {: .language-bash}\n",
    ">\n",
    "> 1.  All of the text from `cubane.pdb`, `ethane.pdb`, `methane.pdb`, `octane.pdb`, and\n",
    ">     `pentane.pdb` would be concatenated and saved to a file called `all.pdb`.\n",
    "> 2.  The text from `ethane.pdb` will be saved to a file called `all.pdb`.\n",
    "> 3.  All of the text from `cubane.pdb`, `ethane.pdb`, `methane.pdb`, `octane.pdb`, `pentane.pdb`\n",
    ">     and `propane.pdb` would be concatenated and saved to a file called `all.pdb`.\n",
    "> 4.  All of the text from `cubane.pdb`, `ethane.pdb`, `methane.pdb`, `octane.pdb`, `pentane.pdb`\n",
    ">     and `propane.pdb` would be printed to the screen and saved to a file called `all.pdb`.\n",
    ">\n",
    "> > ## Solution\n",
    "> > 3 is the correct answer. `>>` appends to a file, rather than overwriting it with the redirected\n",
    "> > output from a command.\n",
    "> > Given the output from the `cat` command has been redirected, nothing is printed to the screen.\n",
    "> {: .solution}\n",
    "{: .challenge}\n",
    "Let's continue with our example in the `shell-lesson-data/creatures` directory.\n",
    "Here's a slightly more complicated loop:"
   ]
  },
  {
   "cell_type": "code",
   "execution_count": null,
   "id": "a11c7639",
   "metadata": {},
   "outputs": [],
   "source": [
    "%%bash\n",
    "$ for filename in *.dat\n",
    "> do\n",
    ">     echo $filename\n",
    ">     head -n 100 $filename | tail -n 20\n",
    "> done"
   ]
  },
  {
   "cell_type": "markdown",
   "id": "9ad74888",
   "metadata": {},
   "source": [
    "```\n",
    "```\n",
    "\n",
    "{: .language-bash}\n",
    "The shell starts by expanding `*.dat` to create the list of files it will process.\n",
    "The **loop body**\n",
    "then executes two commands for each of those files.\n",
    "The first command, `echo`, prints its command-line arguments to standard output.\n",
    "For example:"
   ]
  },
  {
   "cell_type": "code",
   "execution_count": null,
   "id": "edcd075b",
   "metadata": {},
   "outputs": [],
   "source": [
    "%%bash\n",
    "$ echo hello there"
   ]
  },
  {
   "cell_type": "markdown",
   "id": "4b6ae8ea",
   "metadata": {},
   "source": [
    "```\n",
    "```\n",
    "\n",
    "{: .language-bash}\n",
    "prints:\n",
    "\n",
    "```\n",
    "hello there\n",
    "```\n",
    "\n",
    "{: .output}\n",
    "In this case,\n",
    "since the shell expands `$filename` to be the name of a file,\n",
    "`echo $filename` prints the name of the file.\n",
    "Note that we can't write this as:"
   ]
  },
  {
   "cell_type": "code",
   "execution_count": null,
   "id": "3d97b165",
   "metadata": {},
   "outputs": [],
   "source": [
    "%%bash\n",
    "$ for filename in *.dat\n",
    "> do\n",
    ">     $filename\n",
    ">     head -n 100 $filename | tail -n 20\n",
    "> done"
   ]
  },
  {
   "cell_type": "markdown",
   "id": "5bf134d6",
   "metadata": {},
   "source": [
    "```\n",
    "```\n",
    "\n",
    "{: .language-bash}\n",
    "because then the first time through the loop,\n",
    "when `$filename` expanded to `basilisk.dat`, the shell would try to run `basilisk.dat` as a program.\n",
    "Finally,\n",
    "the `head` and `tail` combination selects lines 81-100\n",
    "from whatever file is being processed\n",
    "(assuming the file has at least 100 lines).\n",
    "> ## Spaces in Names\n",
    ">\n",
    "> Spaces are used to separate the elements of the list\n",
    "> that we are going to loop over. If one of those elements\n",
    "> contains a space character, we need to surround it with\n",
    "> quotes, and do the same thing to our loop variable.\n",
    "> Suppose our data files are named:\n",
    ">\n",
    "\n",
    "```\n",
    "> red dragon.dat\n",
    "> purple unicorn.dat\n",
    "```\n",
    "\n",
    "> {: .source}\n",
    ">\n",
    "> To loop over these files, we would need to add double quotes like so:\n",
    ">"
   ]
  },
  {
   "cell_type": "code",
   "execution_count": null,
   "id": "8e8d5823",
   "metadata": {},
   "outputs": [],
   "source": [
    "%%bash\n",
    "> $ for filename in \"red dragon.dat\" \"purple unicorn.dat\"\n",
    "> > do\n",
    "> >     head -n 100 \"$filename\" | tail -n 20\n",
    "> > done"
   ]
  },
  {
   "cell_type": "markdown",
   "id": "a28ea0c2",
   "metadata": {},
   "source": [
    "```\n",
    "```\n",
    "\n",
    "> {: .language-bash}\n",
    ">\n",
    "> It is simpler to avoid using spaces (or other special characters) in filenames.\n",
    ">\n",
    "> The files above don't exist, so if we run the above code, the `head` command will be unable\n",
    "> to find them, however the error message returned will show the name of the files it is\n",
    "> expecting:\n",
    ">\n",
    "\n",
    "```\n",
    "> head: cannot open ‘red dragon.dat’ for reading: No such file or directory\n",
    "> head: cannot open ‘purple unicorn.dat’ for reading: No such file or directory\n",
    "```\n",
    "\n",
    "> {: .output}\n",
    ">\n",
    "> Try removing the quotes around `$filename` in the loop above to see the effect of the quote\n",
    "> marks on spaces. Note that we get a result from the loop command for unicorn.dat\n",
    "> when we run this code in the `creatures` directory:\n",
    ">\n",
    "\n",
    "```\n",
    "> head: cannot open ‘red’ for reading: No such file or directory\n",
    "> head: cannot open ‘dragon.dat’ for reading: No such file or directory\n",
    "> head: cannot open ‘purple’ for reading: No such file or directory\n",
    "> CGGTACCGAA\n",
    "> AAGGGTCGCG\n",
    "> CAAGTGTTCC\n",
    "> ...\n",
    "```\n",
    "\n",
    "> {: .output}\n",
    "{: .callout}\n",
    "We would like to modify each of the files in `shell-lesson-data/creatures`, but also save a version\n",
    "of the original files, naming the copies `original-basilisk.dat` and `original-unicorn.dat`.\n",
    "We can't use:"
   ]
  },
  {
   "cell_type": "code",
   "execution_count": null,
   "id": "6e06c8a5",
   "metadata": {},
   "outputs": [],
   "source": [
    "%%bash\n",
    "$ cp *.dat original-*.dat"
   ]
  },
  {
   "cell_type": "markdown",
   "id": "c808e954",
   "metadata": {},
   "source": [
    "```\n",
    "```\n",
    "\n",
    "{: .language-bash}\n",
    "because that would expand to:"
   ]
  },
  {
   "cell_type": "code",
   "execution_count": null,
   "id": "46d565eb",
   "metadata": {},
   "outputs": [],
   "source": [
    "%%bash\n",
    "$ cp basilisk.dat minotaur.dat unicorn.dat original-*.dat"
   ]
  },
  {
   "cell_type": "markdown",
   "id": "1f2a8e0e",
   "metadata": {},
   "source": [
    "```\n",
    "```\n",
    "\n",
    "{: .language-bash}\n",
    "This wouldn't back up our files, instead we get an error:\n",
    "\n",
    "```\n",
    "cp: target `original-*.dat' is not a directory\n",
    "```\n",
    "\n",
    "{: .error}\n",
    "This problem arises when `cp` receives more than two inputs. When this happens, it\n",
    "expects the last input to be a directory where it can copy all the files it was passed.\n",
    "Since there is no directory named `original-*.dat` in the `creatures` directory we get an\n",
    "error.\n",
    "Instead, we can use a loop:"
   ]
  },
  {
   "cell_type": "code",
   "execution_count": null,
   "id": "ba875ab6",
   "metadata": {},
   "outputs": [],
   "source": [
    "%%bash\n",
    "$ for filename in *.dat\n",
    "> do\n",
    ">     cp $filename original-$filename\n",
    "> done"
   ]
  },
  {
   "cell_type": "markdown",
   "id": "2eb7fef5",
   "metadata": {},
   "source": [
    "```\n",
    "```\n",
    "\n",
    "{: .language-bash}\n",
    "This loop runs the `cp` command once for each filename.\n",
    "The first time,\n",
    "when `$filename` expands to `basilisk.dat`,\n",
    "the shell executes:"
   ]
  },
  {
   "cell_type": "code",
   "execution_count": null,
   "id": "68b1fe5f",
   "metadata": {},
   "outputs": [],
   "source": [
    "%%bash\n",
    "cp basilisk.dat original-basilisk.dat"
   ]
  },
  {
   "cell_type": "markdown",
   "id": "3f3f4e46",
   "metadata": {},
   "source": [
    "```\n",
    "```\n",
    "\n",
    "{: .language-bash}\n",
    "The second time, the command is:"
   ]
  },
  {
   "cell_type": "code",
   "execution_count": null,
   "id": "d7893150",
   "metadata": {},
   "outputs": [],
   "source": [
    "%%bash\n",
    "cp minotaur.dat original-minotaur.dat"
   ]
  },
  {
   "cell_type": "markdown",
   "id": "42825627",
   "metadata": {},
   "source": [
    "```\n",
    "```\n",
    "\n",
    "{: .language-bash}\n",
    "The third and last time, the command is:"
   ]
  },
  {
   "cell_type": "code",
   "execution_count": null,
   "id": "2f7cdda4",
   "metadata": {},
   "outputs": [],
   "source": [
    "%%bash\n",
    "cp unicorn.dat original-unicorn.dat"
   ]
  },
  {
   "cell_type": "markdown",
   "id": "205cb597",
   "metadata": {},
   "source": [
    "```\n",
    "```\n",
    "\n",
    "{: .language-bash}\n",
    "Since the `cp` command does not normally produce any output, it's hard to check\n",
    "that the loop is doing the correct thing.\n",
    "However, we learned earlier how to print strings using `echo`, and we can modify the loop\n",
    "to use `echo` to print our commands without actually executing them.\n",
    "As such we can check what commands *would be* run in the unmodified loop.\n",
    "The following diagram\n",
    "shows what happens when the modified loop is executed, and demonstrates how the\n",
    "judicious use of `echo` is a good debugging technique.\n",
    "![The for loop \"for filename in *.dat; do echo cp $filename original-$filename;\n",
    "done\" will successively assign the names of all \"*.dat\" files in your current\n",
    "directory to the variable \"$filename\" and then execute the command. With the\n",
    "files \"basilisk.dat\", \"minotaur.dat\" and \"unicorn.dat\" in the current directory\n",
    "the loop will successively call the echo command three times and print three\n",
    "lines: \"cp basislisk.dat original-basilisk.dat\", then \"cp minotaur.dat\n",
    "original-minotaur.dat\" and finally \"cp unicorn.dat\n",
    "original-unicorn.dat\"](../fig/shell_script_for_loop_flow_chart.svg)\n",
    "## Nelle's Pipeline: Processing Files\n",
    "Nelle is now ready to process her data files using `goostats.sh` ---\n",
    "a shell script written by her supervisor.\n",
    "This calculates some statistics from a protein sample file, and takes two arguments:\n",
    "1. an input file (containing the raw data)\n",
    "2. an output file (to store the calculated statistics)\n",
    "Since she's still learning how to use the shell,\n",
    "she decides to build up the required commands in stages.\n",
    "Her first step is to make sure that she can select the right input files --- remember,\n",
    "these are ones whose names end in 'A' or 'B', rather than 'Z'.\n",
    "Starting from her home directory, Nelle types:"
   ]
  },
  {
   "cell_type": "code",
   "execution_count": null,
   "id": "a943c5b7",
   "metadata": {},
   "outputs": [],
   "source": [
    "%%bash\n",
    "$ cd north-pacific-gyre/2012-07-03\n",
    "$ for datafile in NENE*A.txt NENE*B.txt\n",
    "> do\n",
    ">     echo $datafile\n",
    "> done"
   ]
  },
  {
   "cell_type": "markdown",
   "id": "9283bc1c",
   "metadata": {},
   "source": [
    "{: .language-bash}\n",
    "\n",
    "```\n",
    "NENE01729A.txt\n",
    "NENE01729B.txt\n",
    "NENE01736A.txt\n",
    "...\n",
    "NENE02043A.txt\n",
    "NENE02043B.txt\n",
    "```\n",
    "\n",
    "{: .output}\n",
    "Her next step is to decide\n",
    "what to call the files that the `goostats.sh` analysis program will create.\n",
    "Prefixing each input file's name with 'stats' seems simple,\n",
    "so she modifies her loop to do that:"
   ]
  },
  {
   "cell_type": "code",
   "execution_count": null,
   "id": "d18ed476",
   "metadata": {},
   "outputs": [],
   "source": [
    "%%bash\n",
    "$ for datafile in NENE*A.txt NENE*B.txt\n",
    "> do\n",
    ">     echo $datafile stats-$datafile\n",
    "> done"
   ]
  },
  {
   "cell_type": "markdown",
   "id": "f093392a",
   "metadata": {},
   "source": [
    "{: .language-bash}\n",
    "\n",
    "```\n",
    "NENE01729A.txt stats-NENE01729A.txt\n",
    "NENE01729B.txt stats-NENE01729B.txt\n",
    "NENE01736A.txt stats-NENE01736A.txt\n",
    "...\n",
    "NENE02043A.txt stats-NENE02043A.txt\n",
    "NENE02043B.txt stats-NENE02043B.txt\n",
    "```\n",
    "\n",
    "{: .output}\n",
    "She hasn't actually run `goostats.sh` yet,\n",
    "but now she's sure she can select the right files and generate the right output filenames.\n",
    "Typing in commands over and over again is becoming tedious,\n",
    "though,\n",
    "and Nelle is worried about making mistakes,\n",
    "so instead of re-entering her loop,\n",
    "she presses <kbd>↑</kbd>.\n",
    "In response,\n",
    "the shell redisplays the whole loop on one line\n",
    "(using semi-colons to separate the pieces):"
   ]
  },
  {
   "cell_type": "code",
   "execution_count": null,
   "id": "47d4fbbe",
   "metadata": {},
   "outputs": [],
   "source": [
    "%%bash\n",
    "$ for datafile in NENE*A.txt NENE*B.txt; do echo $datafile stats-$datafile; done"
   ]
  },
  {
   "cell_type": "markdown",
   "id": "d7140a47",
   "metadata": {},
   "source": [
    "```\n",
    "```\n",
    "\n",
    "{: .language-bash}\n",
    "Using the left arrow key,\n",
    "Nelle backs up and changes the command `echo` to `bash goostats.sh`:"
   ]
  },
  {
   "cell_type": "code",
   "execution_count": null,
   "id": "c0cf48e7",
   "metadata": {},
   "outputs": [],
   "source": [
    "%%bash\n",
    "$ for datafile in NENE*A.txt NENE*B.txt; do bash goostats.sh $datafile stats-$datafile; done"
   ]
  },
  {
   "cell_type": "markdown",
   "id": "438b51f3",
   "metadata": {},
   "source": [
    "```\n",
    "```\n",
    "\n",
    "{: .language-bash}\n",
    "When she presses <kbd>Enter</kbd>,\n",
    "the shell runs the modified command.\n",
    "However, nothing appears to happen --- there is no output.\n",
    "After a moment, Nelle realizes that since her script doesn't print anything to the screen\n",
    "any longer, she has no idea whether it is running, much less how quickly.\n",
    "She kills the running command by typing <kbd>Ctrl</kbd>+<kbd>C</kbd>,\n",
    "uses <kbd>↑</kbd> to repeat the command,\n",
    "and edits it to read:"
   ]
  },
  {
   "cell_type": "code",
   "execution_count": null,
   "id": "9a8a55d1",
   "metadata": {},
   "outputs": [],
   "source": [
    "%%bash\n",
    "$ for datafile in NENE*A.txt NENE*B.txt; do echo $datafile;\n",
    "bash goostats.sh $datafile stats-$datafile; done"
   ]
  },
  {
   "cell_type": "markdown",
   "id": "2a7f498a",
   "metadata": {},
   "source": [
    "```\n",
    "```\n",
    "\n",
    "{: .language-bash}\n",
    "> ## Beginning and End\n",
    ">\n",
    "> We can move to the beginning of a line in the shell by typing <kbd>Ctrl</kbd>+<kbd>A</kbd>\n",
    "> and to the end using <kbd>Ctrl</kbd>+<kbd>E</kbd>.\n",
    "{: .callout}\n",
    "When she runs her program now,\n",
    "it produces one line of output every five seconds or so:\n",
    "\n",
    "```\n",
    "NENE01729A.txt\n",
    "NENE01729B.txt\n",
    "NENE01736A.txt\n",
    "...\n",
    "```\n",
    "\n",
    "{: .output}\n",
    "1518 times 5 seconds,\n",
    "divided by 60,\n",
    "tells her that her script will take about two hours to run.\n",
    "As a final check,\n",
    "she opens another terminal window,\n",
    "goes into `north-pacific-gyre/2012-07-03`,\n",
    "and uses `cat stats-NENE01729B.txt`\n",
    "to examine one of the output files.\n",
    "It looks good,\n",
    "so she decides to get some coffee and catch up on her reading.\n",
    "> ## Those Who Know History Can Choose to Repeat It\n",
    ">\n",
    "> Another way to repeat previous work is to use the `history` command to\n",
    "> get a list of the last few hundred commands that have been executed, and\n",
    "> then to use `!123` (where '123' is replaced by the command number) to\n",
    "> repeat one of those commands. For example, if Nelle types this:\n",
    ">"
   ]
  },
  {
   "cell_type": "code",
   "execution_count": null,
   "id": "2bdc5b2d",
   "metadata": {},
   "outputs": [],
   "source": [
    "%%bash\n",
    "> $ history | tail -n 5"
   ]
  },
  {
   "cell_type": "markdown",
   "id": "e75256d5",
   "metadata": {},
   "source": [
    "> {: .language-bash}\n",
    "\n",
    "```\n",
    ">   456  ls -l NENE0*.txt\n",
    ">   457  rm stats-NENE01729B.txt.txt\n",
    ">   458  bash goostats.sh NENE01729B.txt stats-NENE01729B.txt\n",
    ">   459  ls -l NENE0*.txt\n",
    ">   460  history\n",
    "```\n",
    "\n",
    "> {: .output}\n",
    ">\n",
    "> then she can re-run `goostats.sh` on `NENE01729B.txt` simply by typing\n",
    "> `!458`.\n",
    "{: .callout}\n",
    "> ## Other History Commands\n",
    ">\n",
    "> There are a number of other shortcut commands for getting at the history.\n",
    ">\n",
    "> - <kbd>Ctrl</kbd>+<kbd>R</kbd> enters a history search mode 'reverse-i-search' and finds the\n",
    "> most recent command in your history that matches the text you enter next.\n",
    "> Press <kbd>Ctrl</kbd>+<kbd>R</kbd> one or more additional times to search for earlier matches.\n",
    "> You can then use the left and right arrow keys to choose that line and edit\n",
    "> it then hit <kbd>Return</kbd> to run the command.\n",
    "> - `!!` retrieves the immediately preceding command\n",
    "> (you may or may not find this more convenient than using <kbd>↑</kbd>)\n",
    "> - `!$` retrieves the last word of the last command.\n",
    "> That's useful more often than you might expect: after\n",
    "> `bash goostats.sh NENE01729B.txt stats-NENE01729B.txt`, you can type\n",
    "> `less !$` to look at the file `stats-NENE01729B.txt`, which is\n",
    "> quicker than doing <kbd>↑</kbd> and editing the command-line.\n",
    "{: .callout}\n",
    "> ## Doing a Dry Run\n",
    ">\n",
    "> A loop is a way to do many things at once --- or to make many mistakes at\n",
    "> once if it does the wrong thing. One way to check what a loop *would* do\n",
    "> is to `echo` the commands it would run instead of actually running them.\n",
    ">\n",
    "> Suppose we want to preview the commands the following loop will execute\n",
    "> without actually running those commands:\n",
    ">"
   ]
  },
  {
   "cell_type": "code",
   "execution_count": null,
   "id": "eb56403e",
   "metadata": {},
   "outputs": [],
   "source": [
    "%%bash\n",
    "> $ for datafile in *.pdb\n",
    "> > do\n",
    "> >     cat $datafile >> all.pdb\n",
    "> > done"
   ]
  },
  {
   "cell_type": "markdown",
   "id": "f05813ae",
   "metadata": {},
   "source": [
    "```\n",
    "```\n",
    "\n",
    "> {: .language-bash}\n",
    ">\n",
    "> What is the difference between the two loops below, and which one would we\n",
    "> want to run?\n",
    ">"
   ]
  },
  {
   "cell_type": "code",
   "execution_count": null,
   "id": "f2291410",
   "metadata": {},
   "outputs": [],
   "source": [
    "%%bash\n",
    "> # Version 1\n",
    "> $ for datafile in *.pdb\n",
    "> > do\n",
    "> >     echo cat $datafile >> all.pdb\n",
    "> > done"
   ]
  },
  {
   "cell_type": "markdown",
   "id": "008fda1c",
   "metadata": {},
   "source": [
    "```\n",
    "```\n",
    "\n",
    "> {: .language-bash}\n",
    ">"
   ]
  },
  {
   "cell_type": "code",
   "execution_count": null,
   "id": "51b16e50",
   "metadata": {},
   "outputs": [],
   "source": [
    "%%bash\n",
    "> # Version 2\n",
    "> $ for datafile in *.pdb\n",
    "> > do\n",
    "> >     echo \"cat $datafile >> all.pdb\"\n",
    "> > done"
   ]
  },
  {
   "cell_type": "markdown",
   "id": "da43b9f1",
   "metadata": {},
   "source": [
    "```\n",
    "```\n",
    "\n",
    "> {: .language-bash}\n",
    ">\n",
    "> > ## Solution\n",
    "> > The second version is the one we want to run.\n",
    "> > This prints to screen everything enclosed in the quote marks, expanding the\n",
    "> > loop variable name because we have prefixed it with a dollar sign.\n",
    "> > It also *does not* modify nor create the file `all.pdb`, as the `>>`\n",
    "> > is treated literally as part of a string rather than as a\n",
    "> > redirection instruction.\n",
    "> >\n",
    "> > The first version appends the output from the command `echo cat $datafile`\n",
    "> > to the file, `all.pdb`. This file will just contain the list;\n",
    "> > `cat cubane.pdb`, `cat ethane.pdb`, `cat methane.pdb` etc.\n",
    "> >\n",
    "> > Try both versions for yourself to see the output! Be sure to open the\n",
    "> > `all.pdb` file to view its contents.\n",
    "> {: .solution}\n",
    "{: .challenge}\n",
    "> ## Nested Loops\n",
    ">\n",
    "> Suppose we want to set up a directory structure to organize\n",
    "> some experiments measuring reaction rate constants with different compounds\n",
    "> *and* different temperatures.  What would be the\n",
    "> result of the following code:\n",
    ">"
   ]
  },
  {
   "cell_type": "code",
   "execution_count": null,
   "id": "4c1ccc78",
   "metadata": {
    "lines_to_next_cell": 0
   },
   "outputs": [],
   "source": [
    "%%bash\n",
    "> $ for species in cubane ethane methane\n",
    "> > do\n",
    "> >     for temperature in 25 30 37 40\n",
    "> >     do\n",
    "> >         mkdir $species-$temperature\n",
    "> >     done\n",
    "> > done"
   ]
  },
  {
   "cell_type": "markdown",
   "id": "171a40f3",
   "metadata": {},
   "source": []
  }
 ],
 "metadata": {
  "jupytext": {
   "formats": "ipynb,md"
  },
  "kernelspec": {
   "display_name": "Python 3 (ipykernel)",
   "language": "python",
   "name": "python3"
  }
 },
 "nbformat": 4,
 "nbformat_minor": 5
}
