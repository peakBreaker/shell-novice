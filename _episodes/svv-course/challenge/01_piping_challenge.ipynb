{
  "nbformat": 4,
  "nbformat_minor": 0,
  "metadata": {
    "colab": {
      "name": "piping-challenge-solution.ipynb",
      "provenance": []
    },
    "kernelspec": {
      "name": "python3",
      "display_name": "Python 3"
    },
    "language_info": {
      "name": "python"
    }
  },
  "cells": [
    {
      "cell_type": "markdown",
      "source": [
        "## Piping challenge\n",
        "\n",
        "In this challenge, your goal is to process text using what we've learned so far."
      ],
      "metadata": {
        "id": "xWbPyjUtw7rQ"
      }
    },
    {
      "cell_type": "code",
      "source": [
        "! wget https://raw.githubusercontent.com/peakBreaker/shell-novice/gh-pages/shell-lesson-data/writing/data/LittleWomen.txt"
      ],
      "metadata": {
        "colab": {
          "base_uri": "https://localhost:8080/"
        },
        "id": "ExUo2u48xMxZ",
        "outputId": "e129d397-c726-4fa5-ad3e-496790be0f3c"
      },
      "execution_count": 3,
      "outputs": [
        {
          "output_type": "stream",
          "name": "stdout",
          "text": [
            "--2021-12-21 20:48:23--  https://raw.githubusercontent.com/peakBreaker/shell-novice/gh-pages/shell-lesson-data/writing/data/LittleWomen.txt\n",
            "Resolving raw.githubusercontent.com (raw.githubusercontent.com)... 185.199.108.133, 185.199.109.133, 185.199.110.133, ...\n",
            "Connecting to raw.githubusercontent.com (raw.githubusercontent.com)|185.199.108.133|:443... connected.\n",
            "HTTP request sent, awaiting response... 200 OK\n",
            "Length: 1053440 (1.0M) [text/plain]\n",
            "Saving to: ‘LittleWomen.txt’\n",
            "\n",
            "LittleWomen.txt     100%[===================>]   1.00M  --.-KB/s    in 0.05s   \n",
            "\n",
            "2021-12-21 20:48:23 (18.7 MB/s) - ‘LittleWomen.txt’ saved [1053440/1053440]\n",
            "\n"
          ]
        }
      ]
    },
    {
      "cell_type": "code",
      "source": [
        "%%bash\n",
        "ls "
      ],
      "metadata": {
        "colab": {
          "base_uri": "https://localhost:8080/"
        },
        "id": "9gJggEqhxY9s",
        "outputId": "98d1d232-53f4-47fa-c8be-c74cfbcc5f2a"
      },
      "execution_count": 4,
      "outputs": [
        {
          "output_type": "stream",
          "name": "stdout",
          "text": [
            "LittleWomen.txt\n",
            "read_text.py\n",
            "sample_data\n"
          ]
        }
      ]
    },
    {
      "cell_type": "markdown",
      "source": [
        "## Challenge 1:\n",
        "\n",
        "Pipe the first 10 lines of the text into python. Change the text into uppercase letters, and output the data into std out.\n",
        "\n",
        "Hint: Use head, print and handle the string in python"
      ],
      "metadata": {
        "id": "xFzcJE7szVW-"
      }
    },
    {
      "cell_type": "code",
      "source": [
        "%%writefile read_text.py\n",
        "import sys \n",
        "\n",
        "\n",
        "data = sys.stdin.readlines()\n",
        "\n",
        "# Your code starts here\n"
      ],
      "metadata": {
        "colab": {
          "base_uri": "https://localhost:8080/"
        },
        "id": "wQuFRB3Ixgih",
        "outputId": "8fe94516-64ee-4958-da60-baf79377f9fb"
      },
      "execution_count": 5,
      "outputs": [
        {
          "output_type": "stream",
          "name": "stdout",
          "text": [
            "Overwriting read_text.py\n"
          ]
        }
      ]
    },
    {
      "cell_type": "code",
      "source": [
        "%%bash\n",
        "# Pipe the first 10 lines into your program\n",
        "cat LittleWomen.txt |"
      ],
      "metadata": {
        "colab": {
          "base_uri": "https://localhost:8080/"
        },
        "id": "L_jRIDuYxn3t",
        "outputId": "f11aee39-20f4-4912-bd06-c5b2ecced013"
      },
      "execution_count": 6,
      "outputs": [
        {
          "output_type": "stream",
          "name": "stdout",
          "text": [
            "﻿THE PROJECT GUTENBERG EBOOK OF LITTLE WOMEN, BY LOUISA MAY ALCOTT\n",
            "\n",
            "THIS EBOOK IS FOR THE USE OF ANYONE ANYWHERE AT NO COST AND WITH\n",
            "ALMOST NO RESTRICTIONS WHATSOEVER.  YOU MAY COPY IT, GIVE IT AWAY OR\n",
            "RE-USE IT UNDER THE TERMS OF THE PROJECT GUTENBERG LICENSE INCLUDED\n",
            "WITH THIS EBOOK OR ONLINE AT WWW.GUTENBERG.NET\n",
            "\n",
            "\n",
            "TITLE: LITTLE WOMEN\n",
            "\n"
          ]
        }
      ]
    },
    {
      "cell_type": "markdown",
      "source": [
        "### Challenge 2: Counting\n",
        "\n",
        "Use the [Python Builtin Counter](https://docs.python.org/3/library/collections.html#collections.Counter) to count the number of occurrences of each word.\n",
        "\n",
        "Print out the 100 least occuring words\n",
        "\n",
        "Hint: use python .split and in the end, pipe through sort"
      ],
      "metadata": {
        "id": "GgwzmVugzKNv"
      }
    },
    {
      "cell_type": "code",
      "source": [
        "%%writefile read_text.py\n",
        "import sys \n",
        "from collections import Counter\n",
        "\n",
        "data = sys.stdin.readlines()\n",
        "\n",
        "c = Counter()\n",
        "\n",
        "# Your code starts here"
      ],
      "metadata": {
        "colab": {
          "base_uri": "https://localhost:8080/"
        },
        "id": "MZvsUaAfxzuN",
        "outputId": "0c693d10-4e66-4d9e-fa39-58271299f95b"
      },
      "execution_count": 7,
      "outputs": [
        {
          "output_type": "stream",
          "name": "stdout",
          "text": [
            "Overwriting read_text.py\n"
          ]
        }
      ]
    },
    {
      "cell_type": "code",
      "source": [
        "cat LittleWomen.txt | "
      ],
      "metadata": {
        "colab": {
          "base_uri": "https://localhost:8080/"
        },
        "id": "upJugHQcy3a4",
        "outputId": "5b9121df-afa3-4480-e59b-210a50c5217e"
      },
      "execution_count": 9,
      "outputs": [
        {
          "output_type": "stream",
          "name": "stdout",
          "text": [
            "necessarily 1\n",
            "edition. 1\n",
            "Most 1\n",
            "main 1\n",
            "PG 1\n",
            "facility: 1\n",
            "http://www.gutenberg.net 1\n",
            "Gutenberg-tm, 1\n",
            "subscribe 1\n",
            "newsletter 1\n"
          ]
        }
      ]
    }
  ]
}