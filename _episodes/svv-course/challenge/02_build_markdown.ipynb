{
  "nbformat": 4,
  "nbformat_minor": 0,
  "metadata": {
    "colab": {
      "name": "02-build-markdown.ipynb",
      "provenance": []
    },
    "kernelspec": {
      "name": "python3",
      "display_name": "Python 3"
    },
    "language_info": {
      "name": "python"
    }
  },
  "cells": [
    {
      "cell_type": "markdown",
      "source": [
        "# Building markdown dynamically\n",
        "\n",
        "In this exercise we will be building markdown dynamically using the shell.\n",
        "\n",
        "## Challenge 1: Fetch a notebook\n",
        "\n",
        "Fetch a notebook to your filesystem. This can be from earlier exercises, or your own. \n",
        "\n",
        "1. Go into a github repository\n",
        "2. Select a desired notebook\n",
        "3. Open the notebook in raw format by pressing \"raw\"\n",
        "4. use wget to download the notebook to your workspace\n",
        "\n",
        "Download more than notebook. Put them under a folder, for example notebooks/ so your filesystem looks like this"
      ],
      "metadata": {
        "id": "rvamqv6QxN9w"
      }
    },
    {
      "cell_type": "code",
      "source": [
        "ls notebooks"
      ],
      "metadata": {
        "colab": {
          "base_uri": "https://localhost:8080/"
        },
        "id": "mUkvLqc61-bm",
        "outputId": "07c10276-0378-41bf-b0e2-4700b883c1dc"
      },
      "execution_count": 5,
      "outputs": [
        {
          "output_type": "stream",
          "name": "stdout",
          "text": [
            "first-plot.ipynb  helloworld.ipynb\n"
          ]
        }
      ]
    },
    {
      "cell_type": "markdown",
      "source": [
        "## Challenge 2: Convert notebooks to html\n",
        "\n",
        "Use the command as an example:\n",
        "\n",
        "$ jupyter nbconvert --to html --execute <notebooks> --output-dir <build directory>\n",
        "\n",
        "To convert your notebooks to a markdown document. \n",
        "\n",
        "Hint: Perhaps wildcard can be used here to select the notebooks?"
      ],
      "metadata": {
        "id": "pCOPKahc1UlU"
      }
    },
    {
      "cell_type": "code",
      "source": [
        "%%bash \n",
        "mkdir -p build"
      ],
      "metadata": {
        "id": "dgliyJYo1T6j"
      },
      "execution_count": 23,
      "outputs": []
    },
    {
      "cell_type": "code",
      "source": [
        "! ls output/build"
      ],
      "metadata": {
        "colab": {
          "base_uri": "https://localhost:8080/"
        },
        "id": "k3O2oysQ2djk",
        "outputId": "cb314b9a-ead3-465a-9e86-8dbb5a4d3750"
      },
      "execution_count": 22,
      "outputs": [
        {
          "output_type": "stream",
          "name": "stdout",
          "text": [
            "first-plot_files  first-plot.md\n"
          ]
        }
      ]
    },
    {
      "cell_type": "markdown",
      "source": [
        "## Challenge 2: Build an overview of notebooks\n",
        "\n",
        "Now we will build up an index of our notebooks.\n",
        "\n",
        "For loop over all the notebooks youve built as markdown documents\n",
        "\n",
        "Hint: remember the for f in *.txt syntax?"
      ],
      "metadata": {
        "id": "z2L1pc8OzBW9"
      }
    },
    {
      "cell_type": "code",
      "source": [
        "%%bash\n",
        "# your code here"
      ],
      "metadata": {
        "id": "zeQasOkMzAlc"
      },
      "execution_count": null,
      "outputs": []
    },
    {
      "cell_type": "markdown",
      "source": [
        "## Challenge 3: Make a base document\n",
        "\n",
        "Write this document in markdown. Feel free to some personal flavor to it\n",
        "\n",
        "We will append to this file, so add a \"Content:\" comment at the end of the file."
      ],
      "metadata": {
        "id": "kxb-b8S5zkCs"
      }
    },
    {
      "cell_type": "code",
      "source": [
        "%%writefile base_document.md\n",
        "## Hello world\n",
        "\n",
        "This is landing page with an index of my notebooks!\n",
        "\n",
        "Content:"
      ],
      "metadata": {
        "id": "51zFdsoLzd_o"
      },
      "execution_count": null,
      "outputs": []
    },
    {
      "cell_type": "markdown",
      "source": [
        "## Challenge 4: Make a script\n",
        "\n",
        "Use what we've learned so far, and build a shell script we can call, which will build up.\n",
        "\n",
        "The script will take parameters:\n",
        "\n",
        "- A parameter for where the markdown jupyter notebooks are located\n",
        "- A parameter for the base document (created in challenge 3)\n",
        "- A paramenter for the output path\n",
        "\n",
        "The script will combine the path to the "
      ],
      "metadata": {
        "id": "d9UO7xbozUVr"
      }
    },
    {
      "cell_type": "code",
      "source": [
        "%%writefile compile_index.sh\n",
        "\n",
        "JUPYTER_FOLDER=${1?Must provide first argument as output folder}\n",
        "BASE_DOCUMENT=...\n"
      ],
      "metadata": {
        "id": "ucxNR0XozTHt"
      },
      "execution_count": null,
      "outputs": []
    },
    {
      "cell_type": "markdown",
      "source": [
        "Your final compiled document should look something like this:\n",
        "\n",
        "```\n",
        "## Hello world\n",
        "\n",
        "This is landing page with an index of my notebooks!\n",
        "\n",
        "Content:\n",
        "base_string/notebook1.html\n",
        "base_string/notebook2.html\n",
        "```"
      ],
      "metadata": {
        "id": "uXef135r4Z4d"
      }
    },
    {
      "cell_type": "markdown",
      "source": [
        ""
      ],
      "metadata": {
        "id": "w24Lbo0S0BeM"
      }
    }
  ]
}