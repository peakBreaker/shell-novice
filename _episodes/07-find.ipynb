{
 "cells": [
  {
   "cell_type": "markdown",
   "id": "334f00e3",
   "metadata": {},
   "source": [
    "\n",
    "```\n",
    "```\n",
    "\n",
    "---\n",
    "title: \"Finding Things\"\n",
    "teaching: 25\n",
    "exercises: 20\n",
    "questions:\n",
    "- \"How can I find files?\"\n",
    "- \"How can I find things in files?\"\n",
    "objectives:\n",
    "- \"Use `grep` to select lines from text files that match simple patterns.\"\n",
    "- \"Use `find` to find files and directories whose names match simple patterns.\"\n",
    "- \"Use the output of one command as the command-line argument(s) to another command.\"\n",
    "- \"Explain what is meant by 'text' and 'binary' files, and why many common tools don't handle the latter well.\"\n",
    "keypoints:\n",
    "- \"`find` finds files with specific properties that match patterns.\"\n",
    "- \"`grep` selects lines in files that match patterns.\"\n",
    "- \"`--help` is an option supported by many bash commands, and programs that can be run from within Bash, to display more information on how to use these commands or programs.\"\n",
    "- \"`man [command]` displays the manual page for a given command.\"\n",
    "- \"`$([command])` inserts a command's output in place.\"\n",
    "---\n",
    "In the same way that many of us now use 'Google' as a\n",
    "verb meaning 'to find', Unix programmers often use the\n",
    "word 'grep'.\n",
    "'grep' is a contraction of 'global/regular expression/print',\n",
    "a common sequence of operations in early Unix text editors.\n",
    "It is also the name of a very useful command-line program.\n",
    "`grep` finds and prints lines in files that match a pattern.\n",
    "For our examples,\n",
    "we will use a file that contains three haiku taken from a\n",
    "1998 competition in *Salon* magazine. For this set of examples,\n",
    "we're going to be working in the writing subdirectory:"
   ]
  },
  {
   "cell_type": "code",
   "execution_count": null,
   "id": "25de05c7",
   "metadata": {},
   "outputs": [],
   "source": [
    "%%bash\n",
    "$ cd\n",
    "$ cd Desktop/shell-lesson-data/writing\n",
    "$ cat haiku.txt"
   ]
  },
  {
   "cell_type": "markdown",
   "id": "2071991e",
   "metadata": {},
   "source": [
    "{: .language-bash}\n",
    "\n",
    "```\n",
    "The Tao that is seen\n",
    "Is not the true Tao, until\n",
    "You bring fresh toner.\n",
    "With searching comes loss\n",
    "and the presence of absence:\n",
    "\"My Thesis\" not found.\n",
    "Yesterday it worked\n",
    "Today it is not working\n",
    "Software is like that.\n",
    "```\n",
    "\n",
    "{: .output}\n",
    "> ## Forever, or Five Years\n",
    ">\n",
    "> We haven't linked to the original haiku because\n",
    "> they don't appear to be on *Salon*'s site any longer.\n",
    "> As [Jeff Rothenberg said](https://www.clir.org/wp-content/uploads/sites/6/ensuring.pdf),\n",
    "> 'Digital information lasts forever --- or five years, whichever comes first.'\n",
    "> Luckily, popular content often [has backups](http://wiki.c2.com/?ComputerErrorHaiku).\n",
    "{: .callout}\n",
    "Let's find lines that contain the word 'not':"
   ]
  },
  {
   "cell_type": "code",
   "execution_count": null,
   "id": "238713e7",
   "metadata": {},
   "outputs": [],
   "source": [
    "%%bash\n",
    "$ grep not haiku.txt"
   ]
  },
  {
   "cell_type": "markdown",
   "id": "173e64e6",
   "metadata": {},
   "source": [
    "{: .language-bash}\n",
    "\n",
    "```\n",
    "Is not the true Tao, until\n",
    "\"My Thesis\" not found\n",
    "Today it is not working\n",
    "```\n",
    "\n",
    "{: .output}\n",
    "Here, `not` is the pattern we're searching for.\n",
    "The grep command searches through the file, looking for matches to the pattern specified.\n",
    "To use it type `grep`, then the pattern we're searching for and finally\n",
    "the name of the file (or files) we're searching in.\n",
    "The output is the three lines in the file that contain the letters 'not'.\n",
    "By default, grep searches for a pattern in a case-sensitive way.\n",
    "In addition, the search pattern we have selected does not have to form a complete word,\n",
    "as we will see in the next example.\n",
    "Let's search for the pattern: 'The'."
   ]
  },
  {
   "cell_type": "code",
   "execution_count": null,
   "id": "22eeb5f9",
   "metadata": {},
   "outputs": [],
   "source": [
    "%%bash\n",
    "$ grep The haiku.txt"
   ]
  },
  {
   "cell_type": "markdown",
   "id": "3001016f",
   "metadata": {},
   "source": [
    "{: .language-bash}\n",
    "\n",
    "```\n",
    "The Tao that is seen\n",
    "\"My Thesis\" not found.\n",
    "```\n",
    "\n",
    "{: .output}\n",
    "This time, two lines that include the letters 'The' are outputted,\n",
    "one of which contained our search pattern within a larger word, 'Thesis'.\n",
    "To restrict matches to lines containing the word 'The' on its own,\n",
    "we can give `grep` with the `-w` option.\n",
    "This will limit matches to word boundaries.\n",
    "Later in this lesson, we will also see how we can change the search behavior of grep\n",
    "with respect to its case sensitivity."
   ]
  },
  {
   "cell_type": "code",
   "execution_count": null,
   "id": "d34aa3d7",
   "metadata": {},
   "outputs": [],
   "source": [
    "%%bash\n",
    "$ grep -w The haiku.txt"
   ]
  },
  {
   "cell_type": "markdown",
   "id": "443367a5",
   "metadata": {},
   "source": [
    "{: .language-bash}\n",
    "\n",
    "```\n",
    "The Tao that is seen\n",
    "```\n",
    "\n",
    "{: .output}\n",
    "Note that a 'word boundary' includes the start and end of a line, so not\n",
    "just letters surrounded by spaces.\n",
    "Sometimes we don't\n",
    "want to search for a single word, but a phrase. This is also easy to do with\n",
    "`grep` by putting the phrase in quotes."
   ]
  },
  {
   "cell_type": "code",
   "execution_count": null,
   "id": "9ee302af",
   "metadata": {},
   "outputs": [],
   "source": [
    "%%bash\n",
    "$ grep -w \"is not\" haiku.txt"
   ]
  },
  {
   "cell_type": "markdown",
   "id": "70c6aa18",
   "metadata": {},
   "source": [
    "{: .language-bash}\n",
    "\n",
    "```\n",
    "Today it is not working\n",
    "```\n",
    "\n",
    "{: .output}\n",
    "We've now seen that you don't have to have quotes around single words,\n",
    "but it is useful to use quotes when searching for multiple words.\n",
    "It also helps to make it easier to distinguish between the search term or phrase\n",
    "and the file being searched.\n",
    "We will use quotes in the remaining examples.\n",
    "Another useful option is `-n`, which numbers the lines that match:"
   ]
  },
  {
   "cell_type": "code",
   "execution_count": null,
   "id": "486b2794",
   "metadata": {},
   "outputs": [],
   "source": [
    "%%bash\n",
    "$ grep -n \"it\" haiku.txt"
   ]
  },
  {
   "cell_type": "markdown",
   "id": "5b8f8512",
   "metadata": {},
   "source": [
    "{: .language-bash}\n",
    "\n",
    "```\n",
    "5:With searching comes loss\n",
    "9:Yesterday it worked\n",
    "10:Today it is not working\n",
    "```\n",
    "\n",
    "{: .output}\n",
    "Here, we can see that lines 5, 9, and 10 contain the letters 'it'.\n",
    "We can combine options (i.e. flags) as we do with other Unix commands.\n",
    "For example, let's find the lines that contain the word 'the'.\n",
    "We can combine the option `-w` to find the lines that contain the word 'the'\n",
    "and `-n` to number the lines that match:"
   ]
  },
  {
   "cell_type": "code",
   "execution_count": null,
   "id": "92225549",
   "metadata": {},
   "outputs": [],
   "source": [
    "%%bash\n",
    "$ grep -n -w \"the\" haiku.txt"
   ]
  },
  {
   "cell_type": "markdown",
   "id": "ff8a038b",
   "metadata": {},
   "source": [
    "{: .language-bash}\n",
    "\n",
    "```\n",
    "2:Is not the true Tao, until\n",
    "6:and the presence of absence:\n",
    "```\n",
    "\n",
    "{: .output}\n",
    "Now we want to use the option `-i` to make our search case-insensitive:"
   ]
  },
  {
   "cell_type": "code",
   "execution_count": null,
   "id": "dc49748c",
   "metadata": {},
   "outputs": [],
   "source": [
    "%%bash\n",
    "$ grep -n -w -i \"the\" haiku.txt"
   ]
  },
  {
   "cell_type": "markdown",
   "id": "ad1df58e",
   "metadata": {},
   "source": [
    "{: .language-bash}\n",
    "\n",
    "```\n",
    "1:The Tao that is seen\n",
    "2:Is not the true Tao, until\n",
    "6:and the presence of absence:\n",
    "```\n",
    "\n",
    "{: .output}\n",
    "Now, we want to use the option `-v` to invert our search, i.e., we want to output\n",
    "the lines that do not contain the word 'the'."
   ]
  },
  {
   "cell_type": "code",
   "execution_count": null,
   "id": "c5396113",
   "metadata": {},
   "outputs": [],
   "source": [
    "%%bash\n",
    "$ grep -n -w -v \"the\" haiku.txt"
   ]
  },
  {
   "cell_type": "markdown",
   "id": "c06344af",
   "metadata": {},
   "source": [
    "{: .language-bash}"
   ]
  },
  {
   "cell_type": "code",
   "execution_count": null,
   "id": "d4fd6559",
   "metadata": {},
   "outputs": [],
   "source": [
    "%%bash\n",
    "1:The Tao that is seen\n",
    "3:You bring fresh toner.\n",
    "4:\n",
    "5:With searching comes loss\n",
    "7:\"My Thesis\" not found.\n",
    "8:\n",
    "9:Yesterday it worked\n",
    "10:Today it is not working\n",
    "11:Software is like that."
   ]
  },
  {
   "cell_type": "markdown",
   "id": "eaad89e8",
   "metadata": {},
   "source": [
    "```\n",
    "```\n",
    "\n",
    "{: .output}\n",
    "If we use the `-r` (recursive) option,\n",
    "`grep` can search for a pattern recursively through a set of files in subdirectories.\n",
    "Let's search recursively for `Yesterday` in the `shell-lesson-data/writing` directory:\n",
    "```\n",
    "$ grep -r Yesterday .\n",
    "```\n",
    "{: .language-bash}\n",
    "```\n",
    "data/LittleWomen.txt:\"Yesterday, when Aunt was asleep and I was trying to be as still as a\n",
    "data/LittleWomen.txt:Yesterday at dinner, when an Austrian officer stared at us and then\n",
    "data/LittleWomen.txt:Yesterday was a quiet day spent in teaching, sewing, and writing in my\n",
    "haiku.txt:Yesterday it worked\n",
    "```\n",
    "{: .output}\n",
    "`grep` has lots of other options. To find out what they are, we can type:"
   ]
  },
  {
   "cell_type": "code",
   "execution_count": null,
   "id": "4bb22ec5",
   "metadata": {},
   "outputs": [],
   "source": [
    "%%bash\n",
    "$ grep --help"
   ]
  },
  {
   "cell_type": "markdown",
   "id": "736c374d",
   "metadata": {},
   "source": [
    "{: .language-bash}\n",
    "\n",
    "```\n",
    "Usage: grep [OPTION]... PATTERN [FILE]...\n",
    "Search for PATTERN in each FILE or standard input.\n",
    "PATTERN is, by default, a basic regular expression (BRE).\n",
    "Example: grep -i 'hello world' menu.h main.c\n",
    "Regexp selection and interpretation:\n",
    "-E, --extended-regexp     PATTERN is an extended regular expression (ERE)\n",
    "-F, --fixed-strings       PATTERN is a set of newline-separated fixed strings\n",
    "-G, --basic-regexp        PATTERN is a basic regular expression (BRE)\n",
    "-P, --perl-regexp         PATTERN is a Perl regular expression\n",
    "-e, --regexp=PATTERN      use PATTERN for matching\n",
    "-f, --file=FILE           obtain PATTERN from FILE\n",
    "-i, --ignore-case         ignore case distinctions\n",
    "-w, --word-regexp         force PATTERN to match only whole words\n",
    "-x, --line-regexp         force PATTERN to match only whole lines\n",
    "-z, --null-data           a data line ends in 0 byte, not newline\n",
    "Miscellaneous:\n",
    "...        ...        ...\n",
    "```\n",
    "\n",
    "## Wildcards\n",
    "\n",
    ">\n",
    "> `grep`'s real power doesn't come from its options, though; it comes from\n",
    "> the fact that patterns can include wildcards. (The technical name for\n",
    "> these is **regular expressions**, which\n",
    "> is what the 're' in 'grep' stands for.) Regular expressions are both complex\n",
    "> and powerful; if you want to do complex searches, please look at the lesson\n",
    "> on [our website](http://v4.software-carpentry.org/regexp/index.html). As a taster, we can\n",
    "> find lines that have an 'o' in the second position like this:\n",
    ">"
   ]
  },
  {
   "cell_type": "code",
   "execution_count": null,
   "id": "69a505a0",
   "metadata": {},
   "outputs": [],
   "source": [
    "%%bash\n",
    "> $ grep -E \"^.o\" haiku.txt"
   ]
  },
  {
   "cell_type": "markdown",
   "id": "0b027d9f",
   "metadata": {},
   "source": [
    "```\n",
    "```\n",
    "\n",
    "> {: .language-bash}\n",
    ">\n",
    "\n",
    "```\n",
    "> You bring fresh toner.\n",
    "> Today it is not working\n",
    "> Software is like that.\n",
    "```\n",
    "\n",
    "> {: .output}\n",
    ">\n",
    "> We use the `-E` option and put the pattern in quotes to prevent the shell\n",
    "> from trying to interpret it. (If the pattern contained a `*`, for\n",
    "> example, the shell would try to expand it before running `grep`.) The\n",
    "> `^` in the pattern anchors the match to the start of the line. The `.`\n",
    "> matches a single character (just like `?` in the shell), while the `o`\n",
    "> matches an actual 'o'.\n"
   ]
  },
  {
   "cell_type": "markdown",
   "id": "aab877cc",
   "metadata": {},
   "source": [
    "While `grep` finds lines in files,\n",
    "the `find` command finds files themselves.\n",
    "Again,\n",
    "it has a lot of options;\n",
    "to show how the simplest ones work, we'll use the directory tree shown below.\n",
    "\n",
    "![A file tree under the directory \"writing\" contians several sub-directories and\n",
    "files such that \"writing\" contains directories \"data\", \"thesis\", \"tools\" and a\n",
    "file \"haiku.txt\"; \"writing/data\" contains the files \"Little Women.txt\",\n",
    "\"one.txt\" and \"two.txt\"; \"writing/thesis\" contains the file \"empty-draft.md\";\n",
    "\"writing/tools\" contains the directory \"old\" and the files \"format\" and \"stats\";\n",
    "and \"writing/tools/old\" contains a file \"oldtool\"](../fig/find-file-tree.svg)\n",
    "\n",
    "Nelle's `writing` directory contains one file called `haiku.txt` and three subdirectories:\n",
    "`thesis` (which contains a sadly empty file, `empty-draft.md`);\n",
    "`data` (which contains three files `LittleWomen.txt`, `one.txt` and `two.txt`);\n",
    "and a `tools` directory that contains the programs `format` and `stats`,\n",
    "and a subdirectory called `old`, with a file `oldtool`.\n",
    "For our first command,\n",
    "let's run `find .` (remember to run this command from the `shell-lesson-data/writing` folder)."
   ]
  },
  {
   "cell_type": "code",
   "execution_count": null,
   "id": "ca31ec21",
   "metadata": {},
   "outputs": [],
   "source": [
    "%%bash\n",
    "$ find ."
   ]
  },
  {
   "cell_type": "markdown",
   "id": "1f3f5c69",
   "metadata": {},
   "source": [
    "{: .language-bash}\n",
    "\n",
    "```\n",
    ".\n",
    "./data\n",
    "./data/one.txt\n",
    "./data/LittleWomen.txt\n",
    "./data/two.txt\n",
    "./tools\n",
    "./tools/format\n",
    "./tools/old\n",
    "./tools/old/oldtool\n",
    "./tools/stats\n",
    "./haiku.txt\n",
    "./thesis\n",
    "./thesis/empty-draft.md\n",
    "```\n",
    "\n",
    "{: .output}\n",
    "As always,\n",
    "the `.` on its own means the current working directory,\n",
    "which is where we want our search to start.\n",
    "`find`'s output is the names of every file **and** directory\n",
    "under the current working directory.\n",
    "This can seem useless at first but `find` has many options\n",
    "to filter the output and in this lesson we will discover some\n",
    "of them.\n",
    "The first option in our list is\n",
    "`-type d` that means 'things that are directories'.\n",
    "Sure enough,\n",
    "`find`'s output is the names of the five directories in our little tree\n",
    "(including `.`):"
   ]
  },
  {
   "cell_type": "code",
   "execution_count": null,
   "id": "2afe9ede",
   "metadata": {},
   "outputs": [],
   "source": [
    "%%bash\n",
    "$ find . -type d"
   ]
  },
  {
   "cell_type": "markdown",
   "id": "ccb8d719",
   "metadata": {},
   "source": [
    "{: .language-bash}\n",
    "\n",
    "```\n",
    "./\n",
    "./data\n",
    "./thesis\n",
    "./tools\n",
    "./tools/old\n",
    "```\n",
    "\n",
    "{: .output}\n",
    "Notice that the objects `find` finds are not listed in any particular order.\n",
    "If we change `-type d` to `-type f`,\n",
    "we get a listing of all the files instead:"
   ]
  },
  {
   "cell_type": "code",
   "execution_count": null,
   "id": "741e8ecf",
   "metadata": {},
   "outputs": [],
   "source": [
    "%%bash\n",
    "$ find . -type f"
   ]
  },
  {
   "cell_type": "markdown",
   "id": "0955f74f",
   "metadata": {},
   "source": [
    "{: .language-bash}\n",
    "\n",
    "```\n",
    "./haiku.txt\n",
    "./tools/stats\n",
    "./tools/old/oldtool\n",
    "./tools/format\n",
    "./thesis/empty-draft.md\n",
    "./data/one.txt\n",
    "./data/LittleWomen.txt\n",
    "./data/two.txt\n",
    "```\n",
    "\n",
    "{: .output}\n",
    "Now let's try matching by name:"
   ]
  },
  {
   "cell_type": "code",
   "execution_count": null,
   "id": "9b1a32bc",
   "metadata": {},
   "outputs": [],
   "source": [
    "%%bash\n",
    "$ find . -name *.txt"
   ]
  },
  {
   "cell_type": "markdown",
   "id": "beafadc5",
   "metadata": {},
   "source": [
    "{: .language-bash}\n",
    "\n",
    "```\n",
    "./haiku.txt\n",
    "```\n",
    "\n",
    "{: .output}\n",
    "We expected it to find all the text files,\n",
    "but it only prints out `./haiku.txt`.\n",
    "The problem is that the shell expands wildcard characters like `*` *before* commands run.\n",
    "Since `*.txt` in the current directory expands to `haiku.txt`,\n",
    "the command we actually ran was:"
   ]
  },
  {
   "cell_type": "code",
   "execution_count": null,
   "id": "98f70c83",
   "metadata": {},
   "outputs": [],
   "source": [
    "%%bash\n",
    "$ find . -name haiku.txt"
   ]
  },
  {
   "cell_type": "markdown",
   "id": "0849e679",
   "metadata": {},
   "source": [
    "```\n",
    "```\n",
    "\n",
    "{: .language-bash}\n",
    "`find` did what we asked; we just asked for the wrong thing.\n",
    "To get what we want,\n",
    "let's do what we did with `grep`:\n",
    "put `*.txt` in quotes to prevent the shell from expanding the `*` wildcard.\n",
    "This way,\n",
    "`find` actually gets the pattern `*.txt`, not the expanded filename `haiku.txt`:"
   ]
  },
  {
   "cell_type": "code",
   "execution_count": null,
   "id": "81f48d41",
   "metadata": {},
   "outputs": [],
   "source": [
    "%%bash\n",
    "$ find . -name \"*.txt\""
   ]
  },
  {
   "cell_type": "markdown",
   "id": "53924cf9",
   "metadata": {},
   "source": [
    "{: .language-bash}\n",
    "\n",
    "```\n",
    "./data/one.txt\n",
    "./data/LittleWomen.txt\n",
    "./data/two.txt\n",
    "./haiku.txt\n",
    "```\n",
    "\n",
    "{: .output}\n",
    "> ## Listing vs. Finding\n",
    ">\n",
    "> `ls` and `find` can be made to do similar things given the right options,\n",
    "> but under normal circumstances,\n",
    "> `ls` lists everything it can,\n",
    "> while `find` searches for things with certain properties and shows them.\n",
    "{: .callout}\n",
    "As we said earlier,\n",
    "the command line's power lies in combining tools.\n",
    "We've seen how to do that with pipes;\n",
    "let's look at another technique.\n",
    "As we just saw,\n",
    "`find . -name \"*.txt\"` gives us a list of all text files in or below the current directory.\n",
    "How can we combine that with `wc -l` to count the lines in all those files?\n",
    "The simplest way is to put the `find` command inside `$()`:"
   ]
  },
  {
   "cell_type": "code",
   "execution_count": null,
   "id": "9612140c",
   "metadata": {},
   "outputs": [],
   "source": [
    "%%bash\n",
    "$ wc -l $(find . -name \"*.txt\")"
   ]
  },
  {
   "cell_type": "markdown",
   "id": "ddf75d1e",
   "metadata": {},
   "source": [
    "{: .language-bash}\n",
    "\n",
    "```\n",
    "11 ./haiku.txt\n",
    "300 ./data/two.txt\n",
    "21022 ./data/LittleWomen.txt\n",
    "70 ./data/one.txt\n",
    "21403 total\n",
    "```\n",
    "\n",
    "{: .output}\n",
    "When the shell executes this command,\n",
    "the first thing it does is run whatever is inside the `$()`.\n",
    "It then replaces the `$()` expression with that command's output.\n",
    "Since the output of `find` is the four filenames `./data/one.txt`, `./data/LittleWomen.txt`,\n",
    "`./data/two.txt`, and `./haiku.txt`, the shell constructs the command:"
   ]
  },
  {
   "cell_type": "code",
   "execution_count": null,
   "id": "c3af481c",
   "metadata": {},
   "outputs": [],
   "source": [
    "%%bash\n",
    "$ wc -l ./data/one.txt ./data/LittleWomen.txt ./data/two.txt ./haiku.txt"
   ]
  },
  {
   "cell_type": "markdown",
   "id": "5f9c35ba",
   "metadata": {},
   "source": [
    "```\n",
    "```\n",
    "\n",
    "{: .language-bash}\n",
    "which is what we wanted.\n",
    "This expansion is exactly what the shell does when it expands wildcards like `*` and `?`,\n",
    "but lets us use any command we want as our own 'wildcard'.\n",
    "It's very common to use `find` and `grep` together.\n",
    "The first finds files that match a pattern;\n",
    "the second looks for lines inside those files that match another pattern.\n",
    "Here, for example, we can find PDB files that contain iron atoms\n",
    "by looking for the string 'FE' in all the `.pdb` files above the current directory:"
   ]
  },
  {
   "cell_type": "code",
   "execution_count": null,
   "id": "7ea8cfca",
   "metadata": {},
   "outputs": [],
   "source": [
    "%%bash\n",
    "$ grep \"FE\" $(find .. -name \"*.pdb\")"
   ]
  },
  {
   "cell_type": "markdown",
   "id": "a760e78e",
   "metadata": {},
   "source": [
    "```\n",
    "../data/pdb/heme.pdb:ATOM     25 FE           1      -0.924   0.535  -0.518\n",
    "```\n",
    "\n",
    "> ## Binary Files\n",
    ">\n",
    "> We have focused exclusively on finding patterns in text files. What if\n",
    "> your data is stored as images, in databases, or in some other format?\n",
    ">\n",
    "> A handful of tools extend `grep` to handle a few non text formats. But a\n",
    "> more generalizable approach is to convert the data to text, or\n",
    "> extract the text-like elements from the data. On the one hand, it makes simple\n",
    "> things easy to do. On the other hand, complex things are usually impossible. For\n",
    "> example, it's easy enough to write a program that will extract X and Y\n",
    "> dimensions from image files for `grep` to play with, but how would you\n",
    "> write something to find values in a spreadsheet whose cells contained\n",
    "> formulas?\n",
    ">\n",
    "> A last option is to recognize that the shell and text processing have\n",
    "> their limits, and to use another programming language.\n",
    "> When the time comes to do this, don't be too hard on the shell: many\n",
    "> modern programming languages have borrowed a lot of\n",
    "> ideas from it, and imitation is also the sincerest form of praise.\n",
    "\n",
    "{: .callout}\n",
    "\n",
    "The Unix shell is older than most of the people who use it. It has\n",
    "survived so long because it is one of the most productive programming\n",
    "environments ever created --- maybe even *the* most productive. Its syntax\n",
    "may be cryptic, but people who have mastered it can experiment with\n",
    "different commands interactively, then use what they have learned to\n",
    "automate their work. Graphical user interfaces may be easier to use at\n",
    "first, but once learned, the productivity in the shell is unbeatable.\n",
    "And as Alfred North Whitehead wrote in 1911, 'Civilization advances by\n",
    "extending the number of important operations which we can perform\n",
    "without thinking about them.'\n",
    "\n",
    "> ## `find` Pipeline Reading Comprehension\n",
    ">\n",
    "> Write a short explanatory comment for the following shell script:\n",
    ">"
   ]
  },
  {
   "cell_type": "code",
   "execution_count": null,
   "id": "33f20e51",
   "metadata": {
    "lines_to_next_cell": 0
   },
   "outputs": [],
   "source": [
    "%%bash\n",
    "> wc -l $(find . -name \"*.dat\") | sort -n"
   ]
  },
  {
   "cell_type": "markdown",
   "id": "ec790b5f",
   "metadata": {},
   "source": []
  }
 ],
 "metadata": {
  "jupytext": {
   "formats": "ipynb,md"
  },
  "kernelspec": {
   "display_name": "Python 3 (ipykernel)",
   "language": "python",
   "name": "python3"
  }
 },
 "nbformat": 4,
 "nbformat_minor": 5
}
