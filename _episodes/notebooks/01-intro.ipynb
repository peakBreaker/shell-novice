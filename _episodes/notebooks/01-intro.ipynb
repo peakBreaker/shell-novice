{
 "cells": [
  {
   "cell_type": "raw",
   "id": "88b854bd",
   "metadata": {},
   "source": [
    "---\n",
    "\n",
    "---"
   ]
  },
  {
   "cell_type": "markdown",
   "id": "6e7d5ea8",
   "metadata": {},
   "source": [
    "\n",
    "```\n",
    "```\n",
    "\n",
    "---\n",
    "title: \"Introducing the Shell\"\n",
    "teaching: 5\n",
    "exercises: 0\n",
    "questions:\n",
    "- \"What is a command shell and why would I use one?\"\n",
    "objectives:\n",
    "- \"Explain how the shell relates to the keyboard, the screen, the operating system, and users' programs.\"\n",
    "- \"Explain when and why command-line interfaces should be used instead of graphical interfaces.\"\n",
    "keypoints:\n",
    "- \"A shell is a program whose primary purpose is to read commands and run other programs.\"\n",
    "-  \"This lesson uses Bash, the default shell in many implementations of Unix.\"\n",
    "-  \"Programs can be run in Bash by entering commands at the command-line prompt.\"\n",
    "- \"The shell's main advantages are its high action-to-keystroke ratio, its support for\n",
    "automating repetitive tasks, and its capacity to access networked machines.\"\n",
    "- \"The shell's main disadvantages are its primarily textual nature and how\n",
    "cryptic its commands and operation can be.\"\n",
    "---\n",
    "### Background\n",
    "Humans and computers commonly interact in many different ways, such as through a keyboard and mouse,\n",
    "touch screen interfaces, or using speech recognition systems.\n",
    "The most widely used way to interact with personal computers is called a\n",
    "**graphical user interface** (GUI).\n",
    "With a GUI, we give instructions by clicking a mouse and using menu-driven interactions.\n",
    "While the visual aid of a GUI makes it intuitive to learn,\n",
    "this way of delivering instructions to a computer scales very poorly.\n",
    "Imagine the following task:\n",
    "for a literature search, you have to copy the third line of one thousand text files in one thousand\n",
    "different directories and paste it into a single file.\n",
    "Using a GUI, you would not only be clicking at your desk for several hours,\n",
    "but you could potentially also commit an error in the process of completing this repetitive task.\n",
    "This is where we take advantage of the Unix shell.\n",
    "The Unix shell is both a **command-line interface** (CLI) and a scripting language,\n",
    "allowing such repetitive tasks to be done automatically and fast.\n",
    "With the proper commands, the shell can repeat tasks with or without some modification\n",
    "as many times as we want.\n",
    "Using the shell, the task in the literature example can be accomplished in seconds.\n",
    "### The Shell\n",
    "The shell is a program where users can type commands.\n",
    "With the shell, it's possible to invoke complicated programs like climate modeling software\n",
    "or simple commands that create an empty directory with only one line of code.\n",
    "The most popular Unix shell is Bash (the Bourne Again SHell ---\n",
    "so-called because it's derived from a shell written by Stephen Bourne).\n",
    "Bash is the default shell on most modern implementations of Unix and in most packages that provide\n",
    "Unix-like tools for Windows.\n",
    "Using the shell will take some effort and some time to learn.\n",
    "While a GUI presents you with choices to select, CLI choices are not automatically presented to you,\n",
    "so you must learn a few commands like new vocabulary in a language you're studying.\n",
    "However, unlike a spoken language, a small number of \"words\" (i.e. commands) gets you a long way,\n",
    "and we'll cover those essential few today.\n",
    "The grammar of a shell allows you to combine existing tools into powerful\n",
    "pipelines and handle large volumes of data automatically. Sequences of\n",
    "commands can be written into a *script*, improving the reproducibility of\n",
    "workflows.\n",
    "In addition, the command line is often the easiest way to interact with remote machines\n",
    "and supercomputers.\n",
    "Familiarity with the shell is near essential to run a variety of specialized tools and resources\n",
    "including high-performance computing systems.\n",
    "As clusters and cloud computing systems become more popular for scientific data crunching,\n",
    "being able to interact with the shell is becoming a necessary skill.\n",
    "We can build on the command-line skills covered here\n",
    "to tackle a wide range of scientific questions and computational challenges.\n",
    "Let's get started.\n",
    "When the shell is first opened, you are presented with a **prompt**,\n",
    "indicating that the shell is waiting for input."
   ]
  },
  {
   "cell_type": "code",
   "execution_count": null,
   "id": "746b0a80",
   "metadata": {},
   "outputs": [],
   "source": [
    "%%bash\n",
    "$"
   ]
  },
  {
   "cell_type": "markdown",
   "id": "9d770bd1",
   "metadata": {},
   "source": [
    "```\n",
    "```\n",
    "\n",
    "{: .language-bash}\n",
    "The shell typically uses `$ ` as the prompt, but may use a different symbol.\n",
    "In the examples for this lesson, we'll show the prompt as `$ `.\n",
    "Most importantly:\n",
    "when typing commands, either from these lessons or from other sources,\n",
    "*do not type the prompt*, only the commands that follow it.\n",
    "Also note that after you type a command, you have to press the <kbd>Enter</kbd> key to execute it.\n",
    "The prompt is followed by a **text cursor**, a character that indicates the position where your\n",
    "typing will appear.\n",
    "The cursor is usually a flashing or solid block, but it can also be an underscore or a pipe.\n",
    "You may have seen it in a text editor program, for example.\n",
    "So let's try our first command, `ls` which is short for listing.\n",
    "This command will list the contents of the current directory:"
   ]
  },
  {
   "cell_type": "code",
   "execution_count": null,
   "id": "d07af543",
   "metadata": {},
   "outputs": [],
   "source": [
    "%%bash\n",
    "$ ls"
   ]
  },
  {
   "cell_type": "markdown",
   "id": "e1b6c8c1",
   "metadata": {},
   "source": [
    "{: .language-bash}\n",
    "\n",
    "```\n",
    "Desktop     Downloads   Movies      Pictures\n",
    "Documents   Library     Music       Public\n",
    "```\n",
    "\n",
    "{: .output}\n",
    "> ## Command not found\n",
    "> If the shell can't find a program whose name is the command you typed, it\n",
    "> will print an error message such as:\n",
    ">"
   ]
  },
  {
   "cell_type": "code",
   "execution_count": null,
   "id": "e398214c",
   "metadata": {},
   "outputs": [],
   "source": [
    "%%bash\n",
    "> $ ks"
   ]
  },
  {
   "cell_type": "markdown",
   "id": "59d14fc7",
   "metadata": {},
   "source": [
    "> {: .language-bash}\n"
   ]
  }
 ],
 "metadata": {
  "jupytext": {
   "formats": "ipynb,md"
  },
  "kernelspec": {
   "display_name": "Python 3 (ipykernel)",
   "language": "python",
   "name": "python3"
  }
 },
 "nbformat": 4,
 "nbformat_minor": 5
}
