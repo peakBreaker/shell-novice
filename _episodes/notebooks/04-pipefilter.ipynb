{
 "cells": [
  {
   "cell_type": "raw",
   "id": "05f9659b",
   "metadata": {},
   "source": [
    "---\n",
    "\n",
    "---"
   ]
  },
  {
   "cell_type": "markdown",
   "id": "2d70e82e",
   "metadata": {},
   "source": [
    "\n",
    "```\n",
    "```\n",
    "\n",
    "---\n",
    "title: \"Pipes and Filters\"\n",
    "teaching: 25\n",
    "exercises: 10\n",
    "questions:\n",
    "- \"How can I combine existing commands to do new things?\"\n",
    "objectives:\n",
    "- \"Redirect a command's output to a file.\"\n",
    "- \"Process a file instead of keyboard input using redirection.\"\n",
    "- \"Construct command pipelines with two or more stages.\"\n",
    "- \"Explain what usually happens if a program or pipeline isn't given any input to process.\"\n",
    "- \"Explain Unix's 'small pieces, loosely joined' philosophy.\"\n",
    "keypoints:\n",
    "- \"`wc` counts lines, words, and characters in its inputs.\"\n",
    "- \"`cat` displays the contents of its inputs.\"\n",
    "- \"`sort` sorts its inputs.\"\n",
    "- \"`head` displays the first 10 lines of its input.\"\n",
    "- \"`tail` displays the last 10 lines of its input.\"\n",
    "- \"`command > [file]` redirects a command's output to a file (overwriting any existing content).\"\n",
    "- \"`command >> [file]` appends a command's output to a file.\"\n",
    "- \"`[first] | [second]` is a pipeline: the output of the first command is used as the input to the second.\"\n",
    "- \"The best way to use the shell is to use pipes to combine simple single-purpose programs (filters).\"\n",
    "---\n",
    "Now that we know a few basic commands,\n",
    "we can finally look at the shell's most powerful feature:\n",
    "the ease with which it lets us combine existing programs in new ways.\n",
    "We'll start with the directory called `shell-lesson-data/molecules`\n",
    "that contains six files describing some simple organic molecules.\n",
    "The `.pdb` extension indicates that these files are in Protein Data Bank format,\n",
    "a simple text format that specifies the type and position of each atom in the molecule."
   ]
  },
  {
   "cell_type": "code",
   "execution_count": null,
   "id": "52e90726",
   "metadata": {},
   "outputs": [],
   "source": [
    "%%bash\n",
    "$ ls molecules"
   ]
  },
  {
   "cell_type": "markdown",
   "id": "93960fb8",
   "metadata": {},
   "source": [
    "{: .language-bash}\n",
    "\n",
    "```\n",
    "cubane.pdb    ethane.pdb    methane.pdb\n",
    "octane.pdb    pentane.pdb   propane.pdb\n",
    "```\n",
    "\n",
    "{: .output}\n",
    "Let's go into that directory with `cd` and run an example  command `wc cubane.pdb`:"
   ]
  },
  {
   "cell_type": "code",
   "execution_count": null,
   "id": "625b8b27",
   "metadata": {},
   "outputs": [],
   "source": [
    "%%bash\n",
    "$ cd molecules\n",
    "$ wc cubane.pdb"
   ]
  },
  {
   "cell_type": "markdown",
   "id": "99e58c04",
   "metadata": {},
   "source": [
    "{: .language-bash}\n",
    "\n",
    "```\n",
    "20  156 1158 cubane.pdb\n",
    "```\n",
    "\n",
    "{: .output}\n",
    "`wc` is the 'word count' command:\n",
    "it counts the number of lines, words, and characters in files (from left to right, in that order).\n",
    "If we run the command `wc *.pdb`, the `*` in `*.pdb` matches zero or more characters,\n",
    "so the shell turns `*.pdb` into a list of all `.pdb` files in the current directory:"
   ]
  },
  {
   "cell_type": "code",
   "execution_count": null,
   "id": "b26aca34",
   "metadata": {},
   "outputs": [],
   "source": [
    "%%bash\n",
    "$ wc *.pdb"
   ]
  },
  {
   "cell_type": "markdown",
   "id": "9958604a",
   "metadata": {},
   "source": [
    "{: .language-bash}\n",
    "\n",
    "```\n",
    "20  156  1158  cubane.pdb\n",
    "12  84   622   ethane.pdb\n",
    "9  57   422   methane.pdb\n",
    "30  246  1828  octane.pdb\n",
    "21  165  1226  pentane.pdb\n",
    "15  111  825   propane.pdb\n",
    "107  819  6081  total\n",
    "```\n",
    "\n",
    "{: .output}\n",
    "Note that `wc *.pdb` also shows the total number of all lines in the last line of the output.\n",
    "If we run `wc -l` instead of just `wc`,\n",
    "the output shows only the number of lines per file:"
   ]
  },
  {
   "cell_type": "code",
   "execution_count": null,
   "id": "9b95ecdb",
   "metadata": {},
   "outputs": [],
   "source": [
    "%%bash\n",
    "$ wc -l *.pdb"
   ]
  },
  {
   "cell_type": "markdown",
   "id": "45597d00",
   "metadata": {},
   "source": [
    "{: .language-bash}\n",
    "\n",
    "```\n",
    "20  cubane.pdb\n",
    "12  ethane.pdb\n",
    "9  methane.pdb\n",
    "30  octane.pdb\n",
    "21  pentane.pdb\n",
    "15  propane.pdb\n",
    "107  total\n",
    "```\n",
    "\n",
    "{: .output}\n",
    "The `-m` and `-w` options can also be used with the `wc` command, to show\n",
    "only the number of characters or the number of words in the files.\n",
    "> ## Why Isn't It Doing Anything?\n",
    ">\n",
    "> What happens if a command is supposed to process a file, but we\n",
    "> don't give it a filename? For example, what if we type:\n",
    ">"
   ]
  },
  {
   "cell_type": "code",
   "execution_count": null,
   "id": "c825c639",
   "metadata": {},
   "outputs": [],
   "source": [
    "%%bash\n",
    "> $ wc -l"
   ]
  },
  {
   "cell_type": "markdown",
   "id": "f9ef397b",
   "metadata": {},
   "source": [
    "```\n",
    "```\n",
    "\n",
    "> {: .language-bash}\n",
    ">\n",
    "> but don't type `*.pdb` (or anything else) after the command?\n",
    "> Since it doesn't have any filenames, `wc` assumes it is supposed to\n",
    "> process input given at the command prompt, so it just sits there and waits for us to give\n",
    "> it some data interactively. From the outside, though, all we see is it\n",
    "> sitting there: the command doesn't appear to do anything.\n",
    ">\n",
    "> If you make this kind of mistake, you can escape out of this state by holding down\n",
    "> the control key (<kbd>Ctrl</kbd>) and typing the letter <kbd>C</kbd> once and\n",
    "> letting go of the <kbd>Ctrl</kbd> key.\n",
    "> <kbd>Ctrl</kbd>+<kbd>C</kbd>\n",
    "{: .callout}\n",
    "## Capturing output from commands\n",
    "Which of these files contains the fewest lines?\n",
    "It's an easy question to answer when there are only six files,\n",
    "but what if there were 6000?\n",
    "Our first step toward a solution is to run the command:"
   ]
  },
  {
   "cell_type": "code",
   "execution_count": null,
   "id": "ec514616",
   "metadata": {},
   "outputs": [],
   "source": [
    "%%bash\n",
    "$ wc -l *.pdb > lengths.txt"
   ]
  },
  {
   "cell_type": "markdown",
   "id": "deb3dc26",
   "metadata": {},
   "source": [
    "```\n",
    "```\n",
    "\n",
    "{: .language-bash}\n",
    "The greater than symbol, `>`, tells the shell to **redirect** the command's output\n",
    "to a file instead of printing it to the screen. (This is why there is no screen output:\n",
    "everything that `wc` would have printed has gone into the\n",
    "file `lengths.txt` instead.)  The shell will create\n",
    "the file if it doesn't exist. If the file exists, it will be\n",
    "silently overwritten, which may lead to data loss and thus requires\n",
    "some caution.\n",
    "`ls lengths.txt` confirms that the file exists:"
   ]
  },
  {
   "cell_type": "code",
   "execution_count": null,
   "id": "f6cbb8a5",
   "metadata": {},
   "outputs": [],
   "source": [
    "%%bash\n",
    "$ ls lengths.txt"
   ]
  },
  {
   "cell_type": "markdown",
   "id": "1794ebb7",
   "metadata": {},
   "source": [
    "{: .language-bash}\n",
    "\n",
    "```\n",
    "lengths.txt\n",
    "```\n",
    "\n",
    "{: .output}\n",
    "We can now send the content of `lengths.txt` to the screen using `cat lengths.txt`.\n",
    "The `cat` command gets its name from 'concatenate' i.e. join together,\n",
    "and it prints the contents of files one after another.\n",
    "There's only one file in this case,\n",
    "so `cat` just shows us what it contains:"
   ]
  },
  {
   "cell_type": "code",
   "execution_count": null,
   "id": "373c4365",
   "metadata": {},
   "outputs": [],
   "source": [
    "%%bash\n",
    "$ cat lengths.txt"
   ]
  },
  {
   "cell_type": "markdown",
   "id": "29577a66",
   "metadata": {},
   "source": [
    "{: .language-bash}\n",
    "\n",
    "```\n",
    "20  cubane.pdb\n",
    "12  ethane.pdb\n",
    "9  methane.pdb\n",
    "30  octane.pdb\n",
    "21  pentane.pdb\n",
    "15  propane.pdb\n",
    "107  total\n",
    "```\n",
    "\n",
    "{: .output}\n",
    "> ## Output Page by Page\n",
    ">\n",
    "> We'll continue to use `cat` in this lesson, for convenience and consistency,\n",
    "> but it has the disadvantage that it always dumps the whole file onto your screen.\n",
    "> More useful in practice is the command `less`,\n",
    "> which you use with `less lengths.txt`.\n",
    "> This displays a screenful of the file, and then stops.\n",
    "> You can go forward one screenful by pressing the spacebar,\n",
    "> or back one by pressing `b`.  Press `q` to quit.\n",
    "{: .callout}\n",
    "## Filtering output\n",
    "Next we'll use the `sort` command to sort the contents of the `lengths.txt` file.\n",
    "But first we'll use an exercise to learn a little about the sort command:\n",
    "> ## What Does `sort -n` Do?\n",
    ">\n",
    "> The file [`shell-lesson-data/numbers.txt`](../shell-lesson-data/numbers.txt)\n",
    "> contains the following lines:\n",
    ">\n",
    "\n",
    "```\n",
    "> 10\n",
    "> 2\n",
    "> 19\n",
    "> 22\n",
    "> 6\n",
    "```\n",
    "\n",
    "> {: .source}\n",
    ">\n",
    "> If we run `sort` on this file, the output is:\n",
    ">\n",
    "\n",
    "```\n",
    "> 10\n",
    "> 19\n",
    "> 2\n",
    "> 22\n",
    "> 6\n",
    "```\n",
    "\n",
    "> {: .output}\n",
    ">\n",
    "> If we run `sort -n` on the same file, we get this instead:\n",
    ">\n",
    "\n",
    "```\n",
    "> 2\n",
    "> 6\n",
    "> 10\n",
    "> 19\n",
    "> 22\n",
    "```\n",
    "\n",
    "> {: .output}\n",
    ">\n",
    "> Explain why `-n` has this effect.\n",
    ">\n",
    "> > ## Solution\n",
    "> > The `-n` option specifies a numerical rather than an alphanumerical sort.\n",
    "> {: .solution}\n",
    "{: .challenge}\n",
    "We will also use the `-n` option to specify that the sort is\n",
    "numerical instead of alphanumerical.\n",
    "This does *not* change the file;\n",
    "instead, it sends the sorted result to the screen:"
   ]
  },
  {
   "cell_type": "code",
   "execution_count": null,
   "id": "42587852",
   "metadata": {},
   "outputs": [],
   "source": [
    "%%bash\n",
    "$ sort -n lengths.txt"
   ]
  },
  {
   "cell_type": "markdown",
   "id": "232383b4",
   "metadata": {},
   "source": [
    "{: .language-bash}\n",
    "\n",
    "```\n",
    "9  methane.pdb\n",
    "12  ethane.pdb\n",
    "15  propane.pdb\n",
    "20  cubane.pdb\n",
    "21  pentane.pdb\n",
    "30  octane.pdb\n",
    "107  total\n",
    "```\n",
    "\n",
    "{: .output}\n",
    "We can put the sorted list of lines in another temporary file called `sorted-lengths.txt`\n",
    "by putting `> sorted-lengths.txt` after the command,\n",
    "just as we used `> lengths.txt` to put the output of `wc` into `lengths.txt`.\n",
    "Once we've done that,\n",
    "we can run another command called `head` to get the first few lines in `sorted-lengths.txt`:"
   ]
  },
  {
   "cell_type": "code",
   "execution_count": null,
   "id": "0ab0a86a",
   "metadata": {},
   "outputs": [],
   "source": [
    "%%bash\n",
    "$ sort -n lengths.txt > sorted-lengths.txt\n",
    "$ head -n 1 sorted-lengths.txt"
   ]
  },
  {
   "cell_type": "markdown",
   "id": "790a92b9",
   "metadata": {},
   "source": [
    "{: .language-bash}\n",
    "\n",
    "```\n",
    "9  methane.pdb\n",
    "```\n",
    "\n",
    "{: .output}\n",
    "Using `-n 1` with `head` tells it that\n",
    "we only want the first line of the file;\n",
    "`-n 20` would get the first 20,\n",
    "and so on.\n",
    "Since `sorted-lengths.txt` contains the lengths of our files ordered from least to greatest,\n",
    "the output of `head` must be the file with the fewest lines.\n",
    "> ## Redirecting to the same file\n",
    ">\n",
    "> It's a very bad idea to try redirecting\n",
    "> the output of a command that operates on a file\n",
    "> to the same file. For example:\n",
    ">"
   ]
  },
  {
   "cell_type": "code",
   "execution_count": null,
   "id": "052162d6",
   "metadata": {},
   "outputs": [],
   "source": [
    "%%bash\n",
    "> $ sort -n lengths.txt > lengths.txt"
   ]
  },
  {
   "cell_type": "markdown",
   "id": "2dd6d130",
   "metadata": {},
   "source": [
    "```\n",
    "```\n",
    "\n",
    "> {: .language-bash}\n",
    ">\n",
    "> Doing something like this may give you\n",
    "> incorrect results and/or delete\n",
    "> the contents of `lengths.txt`.\n",
    "{: .callout}\n",
    "> ## What Does `>>` Mean?\n",
    ">\n",
    "> We have seen the use of `>`, but there is a similar operator `>>`\n",
    "> which works slightly differently.\n",
    "> We'll learn about the differences between these two operators by printing some strings.\n",
    "> We can use the `echo` command to print strings e.g.\n",
    ">"
   ]
  },
  {
   "cell_type": "code",
   "execution_count": null,
   "id": "ad9c4167",
   "metadata": {},
   "outputs": [],
   "source": [
    "%%bash\n",
    "> $ echo The echo command prints text"
   ]
  },
  {
   "cell_type": "markdown",
   "id": "f05b3d6e",
   "metadata": {},
   "source": [
    "> {: .language-bash}\n",
    "\n",
    "```\n",
    "> The echo command prints text\n",
    "```\n",
    "\n",
    "> {: .output}\n",
    ">\n",
    "> Now test the commands below to reveal the difference between the two operators:\n",
    ">"
   ]
  },
  {
   "cell_type": "code",
   "execution_count": null,
   "id": "8c884c42",
   "metadata": {},
   "outputs": [],
   "source": [
    "%%bash\n",
    "> $ echo hello > testfile01.txt"
   ]
  },
  {
   "cell_type": "markdown",
   "id": "5487e93b",
   "metadata": {},
   "source": [
    "```\n",
    "```\n",
    "\n",
    "> {: .language-bash}\n",
    ">\n",
    "> and:\n",
    ">"
   ]
  },
  {
   "cell_type": "code",
   "execution_count": null,
   "id": "40b3e681",
   "metadata": {},
   "outputs": [],
   "source": [
    "%%bash\n",
    "> $ echo hello >> testfile02.txt"
   ]
  },
  {
   "cell_type": "markdown",
   "id": "08f33fbc",
   "metadata": {},
   "source": [
    "```\n",
    "```\n",
    "\n",
    "> {: .language-bash}\n",
    ">\n",
    "> Hint: Try executing each command twice in a row and then examining the output files.\n",
    ">\n",
    "> > ## Solution\n",
    "> > In the first example with `>`, the string 'hello' is written to `testfile01.txt`,\n",
    "> > but the file gets overwritten each time we run the command.\n",
    "> >\n",
    "> > We see from the second example that the `>>` operator also writes 'hello' to a file\n",
    "> > (in this case`testfile02.txt`),\n",
    "> > but appends the string to the file if it already exists\n",
    "> > (i.e. when we run it for the second time).\n",
    "> {: .solution}\n",
    "{: .challenge}\n",
    "> ## Appending Data\n",
    ">\n",
    "> We have already met the `head` command, which prints lines from the start of a file.\n",
    "> `tail` is similar, but prints lines from the end of a file instead.\n",
    ">\n",
    "> Consider the file `shell-lesson-data/data/animals.txt`.\n",
    "> After these commands, select the answer that\n",
    "> corresponds to the file `animals-subset.txt`:\n",
    ">"
   ]
  },
  {
   "cell_type": "code",
   "execution_count": null,
   "id": "9e7d98ab",
   "metadata": {},
   "outputs": [],
   "source": [
    "%%bash\n",
    "> $ head -n 3 animals.txt > animals-subset.txt\n",
    "> $ tail -n 2 animals.txt >> animals-subset.txt"
   ]
  },
  {
   "cell_type": "markdown",
   "id": "1ba7edbd",
   "metadata": {},
   "source": [
    "```\n",
    "```\n",
    "\n",
    "> {: .language-bash}\n",
    ">\n",
    "> 1. The first three lines of `animals.txt`\n",
    "> 2. The last two lines of `animals.txt`\n",
    "> 3. The first three lines and the last two lines of `animals.txt`\n",
    "> 4. The second and third lines of `animals.txt`\n",
    ">\n",
    "> > ## Solution\n",
    "> > Option 3 is correct.\n",
    "> > For option 1 to be correct we would only run the `head` command.\n",
    "> > For option 2 to be correct we would only run the `tail` command.\n",
    "> > For option 4 to be correct we would have to pipe the output of `head` into `tail -n 2`\n",
    "> > by doing `head -n 3 animals.txt | tail -n 2 > animals-subset.txt`\n",
    "> {: .solution}\n",
    "{: .challenge}\n",
    "## Passing output to another command\n",
    "In our example of finding the file with the fewest lines,\n",
    "we are using two intermediate files `lengths.txt` and `sorted-lengths.txt` to store output.\n",
    "This is a confusing way to work because\n",
    "even once you understand what `wc`, `sort`, and `head` do,\n",
    "those intermediate files make it hard to follow what's going on.\n",
    "We can make it easier to understand by running `sort` and `head` together:"
   ]
  },
  {
   "cell_type": "code",
   "execution_count": null,
   "id": "22e700d4",
   "metadata": {},
   "outputs": [],
   "source": [
    "%%bash\n",
    "$ sort -n lengths.txt | head -n 1"
   ]
  },
  {
   "cell_type": "markdown",
   "id": "6efcdedd",
   "metadata": {},
   "source": [
    "{: .language-bash}\n",
    "\n",
    "```\n",
    "9  methane.pdb\n",
    "```\n",
    "\n",
    "{: .output}\n",
    "The vertical bar, `|`, between the two commands is called a **pipe**.\n",
    "It tells the shell that we want to use\n",
    "the output of the command on the left\n",
    "as the input to the command on the right.\n",
    "This has removed the need for the `sorted-lengths.txt` file.\n",
    "## Combining multiple commands\n",
    "Nothing prevents us from chaining pipes consecutively.\n",
    "We can for example send the output of `wc` directly to `sort`,\n",
    "and then the resulting output to `head`.\n",
    "This removes the need for any intermediate files.\n",
    "We'll start by using a pipe to send the output of `wc` to `sort`:"
   ]
  },
  {
   "cell_type": "code",
   "execution_count": null,
   "id": "179b2626",
   "metadata": {},
   "outputs": [],
   "source": [
    "%%bash\n",
    "$ wc -l *.pdb | sort -n"
   ]
  },
  {
   "cell_type": "markdown",
   "id": "1fe5dc69",
   "metadata": {},
   "source": [
    "{: .language-bash}\n",
    "\n",
    "```\n",
    "9 methane.pdb\n",
    "12 ethane.pdb\n",
    "15 propane.pdb\n",
    "20 cubane.pdb\n",
    "21 pentane.pdb\n",
    "30 octane.pdb\n",
    "107 total\n",
    "```\n",
    "\n",
    "{: .output}\n",
    "We can then send that output through another pipe, to `head`, so that the full pipeline becomes:"
   ]
  },
  {
   "cell_type": "code",
   "execution_count": null,
   "id": "7539edfc",
   "metadata": {},
   "outputs": [],
   "source": [
    "%%bash\n",
    "$ wc -l *.pdb | sort -n | head -n 1"
   ]
  },
  {
   "cell_type": "markdown",
   "id": "e727c873",
   "metadata": {},
   "source": [
    "{: .language-bash}\n",
    "\n",
    "```\n",
    "9  methane.pdb\n",
    "```\n",
    "\n",
    "{: .output}\n",
    "This is exactly like a mathematician nesting functions like *log(3x)*\n",
    "and saying 'the log of three times *x*'.\n",
    "In our case,\n",
    "the calculation is 'head of sort of line count of `*.pdb`'.\n",
    "The redirection and pipes used in the last few commands are illustrated below:\n",
    "![Redirects and Pipes of different commands: \"wc -l *.pdb\" will direct the\n",
    "output to the shell. \"wc -l *.pdb > lengths\" will direct output to the file\n",
    "\"lengths\". \"wc -l *.pdb | sort -n | head -n 1\" will build a pipeline where the\n",
    "output of the \"wc\" command is the input to the \"sort\" command, the output of\n",
    "the \"sort\" command is the input to the \"head\" command and the output of the\n",
    "\"head\" command is directed to the shell](../fig/redirects-and-pipes.svg)\n",
    "> ## Piping Commands Together\n",
    ">\n",
    "> In our current directory, we want to find the 3 files which have the least number of\n",
    "> lines. Which command listed below would work?\n",
    ">\n",
    "> 1. `wc -l * > sort -n > head -n 3`\n",
    "> 2. `wc -l * | sort -n | head -n 1-3`\n",
    "> 3. `wc -l * | head -n 3 | sort -n`\n",
    "> 4. `wc -l * | sort -n | head -n 3`\n",
    ">\n",
    "> > ## Solution\n",
    "> > Option 4 is the solution.\n",
    "> > The pipe character `|` is used to connect the output from one command to\n",
    "> > the input of another.\n",
    "> > `>` is used to redirect standard output to a file.\n",
    "> > Try it in the `shell-lesson-data/molecules` directory!\n",
    "> {: .solution}\n",
    "{: .challenge}\n",
    "## Tools designed to work together\n",
    "This idea of linking programs together is why Unix has been so successful.\n",
    "Instead of creating enormous programs that try to do many different things,\n",
    "Unix programmers focus on creating lots of simple tools that each do one job well,\n",
    "and that work well with each other.\n",
    "This programming model is called 'pipes and filters'.\n",
    "We've already seen pipes;\n",
    "a **filter** is a program like `wc` or `sort`\n",
    "that transforms a stream of input into a stream of output.\n",
    "Almost all of the standard Unix tools can work this way:\n",
    "unless told to do otherwise,\n",
    "they read from standard input,\n",
    "do something with what they've read,\n",
    "and write to standard output.\n",
    "The key is that any program that reads lines of text from standard input\n",
    "and writes lines of text to standard output\n",
    "can be combined with every other program that behaves this way as well.\n",
    "You can *and should* write your programs this way\n",
    "so that you and other people can put those programs into pipes to multiply their power.\n",
    "> ## Pipe Reading Comprehension\n",
    ">\n",
    "> A file called `animals.txt` (in the `shell-lesson-data/data` folder) contains the following data:\n",
    ">\n",
    "\n",
    "```\n",
    "> 2012-11-05,deer\n",
    "> 2012-11-05,rabbit\n",
    "> 2012-11-05,raccoon\n",
    "> 2012-11-06,rabbit\n",
    "> 2012-11-06,deer\n",
    "> 2012-11-06,fox\n",
    "> 2012-11-07,rabbit\n",
    "> 2012-11-07,bear\n",
    "```\n",
    "\n",
    "> {: .source}\n",
    ">\n",
    "> What text passes through each of the pipes and the final redirect in the pipeline below?\n",
    ">"
   ]
  },
  {
   "cell_type": "code",
   "execution_count": null,
   "id": "ba21aaaa",
   "metadata": {},
   "outputs": [],
   "source": [
    "%%bash\n",
    "> $ cat animals.txt | head -n 5 | tail -n 3 | sort -r > final.txt"
   ]
  },
  {
   "cell_type": "markdown",
   "id": "8adc1a4b",
   "metadata": {},
   "source": [
    "```\n",
    "```\n",
    "\n",
    "> {: .language-bash}\n",
    "> Hint: build the pipeline up one command at a time to test your understanding\n",
    "> > ## Solution\n",
    "> > The `head` command extracts the first 5 lines from `animals.txt`.\n",
    "> > Then, the last 3 lines are extracted from the previous 5 by using the `tail` command.\n",
    "> > With the `sort -r` command those 3 lines are sorted in reverse order and finally,\n",
    "> > the output is redirected to a file `final.txt`.\n",
    "> > The content of this file can be checked by executing `cat final.txt`.\n",
    "> > The file should contain the following lines:\n",
    "> > ```\n",
    "> > 2012-11-06,rabbit\n",
    "> > 2012-11-06,deer\n",
    "> > 2012-11-05,raccoon\n",
    "> > ```\n",
    "> > {: .source}\n",
    "> {: .solution}\n",
    "{: .challenge}\n",
    "> ## Pipe Construction\n",
    ">\n",
    "> For the file `animals.txt` from the previous exercise, consider the following command:\n",
    ">"
   ]
  },
  {
   "cell_type": "code",
   "execution_count": null,
   "id": "28fb11df",
   "metadata": {},
   "outputs": [],
   "source": [
    "%%bash\n",
    "> $ cut -d , -f 2 animals.txt"
   ]
  },
  {
   "cell_type": "markdown",
   "id": "ffbdb91e",
   "metadata": {},
   "source": [
    "```\n",
    "```\n",
    "\n",
    "> {: .language-bash}\n",
    ">\n",
    "> The `cut` command is used to remove or 'cut out' certain sections of each line in the file,\n",
    "> and `cut` expects the lines to be separated into columns by a <kbd>Tab</kbd> character.\n",
    "> A character used in this way is a called a **delimiter**.\n",
    "> In the example above we use the `-d` option to specify the comma as our delimiter character.\n",
    "> We have also used the `-f` option to specify that we want to extract the second field (column).\n",
    "> This gives the following output:\n",
    ">"
   ]
  },
  {
   "cell_type": "code",
   "execution_count": null,
   "id": "c7684a96",
   "metadata": {},
   "outputs": [],
   "source": [
    "%%bash\n",
    "> deer\n",
    "> rabbit\n",
    "> raccoon\n",
    "> rabbit\n",
    "> deer\n",
    "> fox\n",
    "> rabbit\n",
    "> bear"
   ]
  },
  {
   "cell_type": "markdown",
   "id": "5c3c03ac",
   "metadata": {},
   "source": [
    "```\n",
    "```\n",
    "\n",
    "> {: .output}\n",
    ">\n",
    "> The `uniq` command filters out adjacent matching lines in a file.\n",
    "> How could you extend this pipeline (using `uniq` and another command) to find\n",
    "> out what animals the file contains (without any duplicates in their\n",
    "> names)?\n",
    ">\n",
    "> > ## Solution\n",
    "> > ```\n",
    "> > $ cut -d , -f 2 animals.txt | sort | uniq\n",
    "> > ```\n",
    "> > {: .language-bash}\n",
    "> {: .solution}\n",
    "{: .challenge}\n",
    "> ## Which Pipe?\n",
    ">\n",
    "> The file `animals.txt` contains 8 lines of data formatted as follows:\n",
    ">\n",
    "\n",
    "```\n",
    "> 2012-11-05,deer\n",
    "> 2012-11-05,rabbit\n",
    "> 2012-11-05,raccoon\n",
    "> 2012-11-06,rabbit\n",
    "> ...\n",
    "```\n",
    "\n",
    "> {: .output}\n",
    ">\n",
    "> The `uniq` command has a `-c` option which gives a count of the\n",
    "> number of times a line occurs in its input.  Assuming your current\n",
    "> directory is `shell-lesson-data/data/`, what command would you use to produce\n",
    "> a table that shows the total count of each type of animal in the file?\n",
    ">\n",
    "> 1.  `sort animals.txt | uniq -c`\n",
    "> 2.  `sort -t, -k2,2 animals.txt | uniq -c`\n",
    "> 3.  `cut -d, -f 2 animals.txt | uniq -c`\n",
    "> 4.  `cut -d, -f 2 animals.txt | sort | uniq -c`\n",
    "> 5.  `cut -d, -f 2 animals.txt | sort | uniq -c | wc -l`\n",
    ">\n",
    "> > ## Solution\n",
    "> > Option 4. is the correct answer.\n",
    "> > If you have difficulty understanding why, try running the commands, or sub-sections of\n",
    "> > the pipelines (make sure you are in the `shell-lesson-data/data` directory).\n",
    "> {: .solution}\n",
    "{: .challenge}\n",
    "## Nelle's Pipeline: Checking Files\n",
    "Nelle has run her samples through the assay machines\n",
    "and created 17 files in the `north-pacific-gyre/2012-07-03` directory described earlier.\n",
    "As a quick check, starting from her home directory, Nelle types:"
   ]
  },
  {
   "cell_type": "code",
   "execution_count": null,
   "id": "4ff54ed5",
   "metadata": {},
   "outputs": [],
   "source": [
    "%%bash\n",
    "$ cd north-pacific-gyre/2012-07-03\n",
    "$ wc -l *.txt"
   ]
  },
  {
   "cell_type": "markdown",
   "id": "27a04187",
   "metadata": {},
   "source": [
    "```\n",
    "```\n",
    "\n",
    "{: .language-bash}\n",
    "The output is 18 lines that look like this:\n",
    "\n",
    "```\n",
    "300 NENE01729A.txt\n",
    "300 NENE01729B.txt\n",
    "300 NENE01736A.txt\n",
    "300 NENE01751A.txt\n",
    "300 NENE01751B.txt\n",
    "300 NENE01812A.txt\n",
    "... ...\n",
    "```\n",
    "\n",
    "{: .output}\n",
    "Now she types this:"
   ]
  },
  {
   "cell_type": "code",
   "execution_count": null,
   "id": "6115a3b4",
   "metadata": {},
   "outputs": [],
   "source": [
    "%%bash\n",
    "$ wc -l *.txt | sort -n | head -n 5"
   ]
  },
  {
   "cell_type": "markdown",
   "id": "af3d784d",
   "metadata": {},
   "source": [
    "{: .language-bash}\n",
    "\n",
    "```\n",
    "240 NENE02018B.txt\n",
    "300 NENE01729A.txt\n",
    "300 NENE01729B.txt\n",
    "300 NENE01736A.txt\n",
    "300 NENE01751A.txt\n",
    "```\n",
    "\n",
    "{: .output}\n",
    "Whoops: one of the files is 60 lines shorter than the others.\n",
    "When she goes back and checks it,\n",
    "she sees that she did that assay at 8:00 on a Monday morning --- someone\n",
    "was probably in using the machine on the weekend,\n",
    "and she forgot to reset it.\n",
    "Before re-running that sample,\n",
    "she checks to see if any files have too much data:"
   ]
  },
  {
   "cell_type": "code",
   "execution_count": null,
   "id": "c7cb8e51",
   "metadata": {},
   "outputs": [],
   "source": [
    "%%bash\n",
    "$ wc -l *.txt | sort -n | tail -n 5"
   ]
  },
  {
   "cell_type": "markdown",
   "id": "d3098115",
   "metadata": {},
   "source": [
    "{: .language-bash}\n",
    "\n",
    "```\n",
    "300 NENE02040B.txt\n",
    "300 NENE02040Z.txt\n",
    "300 NENE02043A.txt\n",
    "300 NENE02043B.txt\n",
    "5040 total\n",
    "```\n",
    "\n",
    "{: .output}\n",
    "Those numbers look good --- but what's that 'Z' doing there in the third-to-last line?\n",
    "All of her samples should be marked 'A' or 'B';\n",
    "by convention,\n",
    "her lab uses 'Z' to indicate samples with missing information.\n",
    "To find others like it, she does this:"
   ]
  },
  {
   "cell_type": "code",
   "execution_count": null,
   "id": "d4784b3d",
   "metadata": {},
   "outputs": [],
   "source": [
    "%%bash\n",
    "$ ls *Z.txt"
   ]
  },
  {
   "cell_type": "markdown",
   "id": "b351b4d3",
   "metadata": {},
   "source": [
    "{: .language-bash}\n"
   ]
  }
 ],
 "metadata": {
  "jupytext": {
   "formats": "ipynb,md"
  },
  "kernelspec": {
   "display_name": "Python 3 (ipykernel)",
   "language": "python",
   "name": "python3"
  }
 },
 "nbformat": 4,
 "nbformat_minor": 5
}
