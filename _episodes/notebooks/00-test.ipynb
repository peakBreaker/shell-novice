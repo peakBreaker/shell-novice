{
 "cells": [
  {
   "cell_type": "raw",
   "id": "393be8d3",
   "metadata": {},
   "source": [
    "---\n",
    "\n",
    "---"
   ]
  },
  {
   "cell_type": "markdown",
   "id": "95f72b09",
   "metadata": {},
   "source": [
    "\n",
    "```\n",
    "```\n",
    "\n",
    "introduction"
   ]
  },
  {
   "cell_type": "code",
   "execution_count": null,
   "id": "9c8b09aa",
   "metadata": {},
   "outputs": [],
   "source": [
    "%%bash\n",
    "> $ ks\n",
    "> something else"
   ]
  },
  {
   "cell_type": "markdown",
   "id": "90b64688",
   "metadata": {},
   "source": [
    "> {: .language-bash}\n"
   ]
  }
 ],
 "metadata": {
  "jupytext": {
   "formats": "ipynb,md"
  },
  "kernelspec": {
   "display_name": "Python 3 (ipykernel)",
   "language": "python",
   "name": "python3"
  }
 },
 "nbformat": 4,
 "nbformat_minor": 5
}
