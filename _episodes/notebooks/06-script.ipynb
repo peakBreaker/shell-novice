{
 "cells": [
  {
   "cell_type": "raw",
   "id": "ed804c4f",
   "metadata": {},
   "source": [
    "---\n",
    "\n",
    "---"
   ]
  },
  {
   "cell_type": "markdown",
   "id": "15aedc09",
   "metadata": {},
   "source": [
    "\n",
    "```\n",
    "```\n",
    "\n",
    "---\n",
    "title: \"Shell Scripts\"\n",
    "teaching: 30\n",
    "exercises: 15\n",
    "questions:\n",
    "- \"How can I save and re-use commands?\"\n",
    "objectives:\n",
    "- \"Write a shell script that runs a command or series of commands for a fixed set of files.\"\n",
    "- \"Run a shell script from the command line.\"\n",
    "- \"Write a shell script that operates on a set of files defined by the user on the command line.\"\n",
    "- \"Create pipelines that include shell scripts you, and others, have written.\"\n",
    "keypoints:\n",
    "- \"Save commands in files (usually called shell scripts) for re-use.\"\n",
    "- \"`bash [filename]` runs the commands saved in a file.\"\n",
    "- \"`$@` refers to all of a shell script's command-line arguments.\"\n",
    "- \"`$1`, `$2`, etc., refer to the first command-line argument, the second command-line argument, etc.\"\n",
    "- \"Place variables in quotes if the values might have spaces in them.\"\n",
    "- \"Letting users decide what files to process is more flexible and more consistent with built-in Unix commands.\"\n",
    "---\n",
    "We are finally ready to see what makes the shell such a powerful programming environment.\n",
    "We are going to take the commands we repeat frequently and save them in files\n",
    "so that we can re-run all those operations again later by typing a single command.\n",
    "For historical reasons,\n",
    "a bunch of commands saved in a file is usually called a **shell script**,\n",
    "but make no mistake:\n",
    "these are actually small programs.\n",
    "Not only will writing shell scripts make your work faster ---\n",
    "you won't have to retype the same commands over and over again ---\n",
    "it will also make it more accurate (fewer chances for typos) and more reproducible.\n",
    "If you come back to your work later (or if someone else finds your work and wants to build on it)\n",
    "you will be able to reproduce the same results simply by running your script,\n",
    "rather than having to remember or retype a long list of commands.\n",
    "Let's start by going back to `molecules/` and creating a new file, `middle.sh` which will\n",
    "become our shell script:"
   ]
  },
  {
   "cell_type": "code",
   "execution_count": null,
   "id": "efc7ffc8",
   "metadata": {},
   "outputs": [],
   "source": [
    "%%bash\n",
    "$ cd molecules\n",
    "$ nano middle.sh"
   ]
  },
  {
   "cell_type": "markdown",
   "id": "b30bcb61",
   "metadata": {},
   "source": [
    "```\n",
    "```\n",
    "\n",
    "{: .language-bash}\n",
    "The command `nano middle.sh` opens the file `middle.sh` within the text editor 'nano'\n",
    "(which runs within the shell).\n",
    "If the file does not exist, it will be created.\n",
    "We can use the text editor to directly edit the file -- we'll simply insert the following line:"
   ]
  },
  {
   "cell_type": "code",
   "execution_count": null,
   "id": "db0293da",
   "metadata": {},
   "outputs": [],
   "source": [
    "%%bash\n",
    "head -n 15 octane.pdb | tail -n 5"
   ]
  },
  {
   "cell_type": "markdown",
   "id": "27037011",
   "metadata": {},
   "source": [
    "```\n",
    "```\n",
    "\n",
    "{: .language-bash}\n",
    "This is a variation on the pipe we constructed earlier:\n",
    "it selects lines 11-15 of the file `octane.pdb`.\n",
    "Remember, we are *not* running it as a command just yet:\n",
    "we are putting the commands in a file.\n",
    "Then we save the file (`Ctrl-O` in nano),\n",
    "and exit the text editor (`Ctrl-X` in nano).\n",
    "Check that the directory `molecules` now contains a file called `middle.sh`.\n",
    "Once we have saved the file,\n",
    "we can ask the shell to execute the commands it contains.\n",
    "Our shell is called `bash`, so we run the following command:"
   ]
  },
  {
   "cell_type": "code",
   "execution_count": null,
   "id": "eb1bef69",
   "metadata": {},
   "outputs": [],
   "source": [
    "%%bash\n",
    "$ bash middle.sh"
   ]
  },
  {
   "cell_type": "markdown",
   "id": "8fa21874",
   "metadata": {},
   "source": [
    "{: .language-bash}\n",
    "\n",
    "```\n",
    "ATOM      9  H           1      -4.502   0.681   0.785  1.00  0.00\n",
    "ATOM     10  H           1      -5.254  -0.243  -0.537  1.00  0.00\n",
    "ATOM     11  H           1      -4.357   1.252  -0.895  1.00  0.00\n",
    "ATOM     12  H           1      -3.009  -0.741  -1.467  1.00  0.00\n",
    "ATOM     13  H           1      -3.172  -1.337   0.206  1.00  0.00\n",
    "```\n",
    "\n",
    "{: .output}\n",
    "Sure enough,\n",
    "our script's output is exactly what we would get if we ran that pipeline directly.\n",
    "> ## Text vs. Whatever\n",
    ">\n",
    "> We usually call programs like Microsoft Word or LibreOffice Writer \"text\n",
    "> editors\", but we need to be a bit more careful when it comes to\n",
    "> programming. By default, Microsoft Word uses `.docx` files to store not\n",
    "> only text, but also formatting information about fonts, headings, and so\n",
    "> on. This extra information isn't stored as characters and doesn't mean\n",
    "> anything to tools like `head`: they expect input files to contain\n",
    "> nothing but the letters, digits, and punctuation on a standard computer\n",
    "> keyboard. When editing programs, therefore, you must either use a plain\n",
    "> text editor, or be careful to save files as plain text.\n",
    "{: .callout}\n",
    "What if we want to select lines from an arbitrary file?\n",
    "We could edit `middle.sh` each time to change the filename,\n",
    "but that would probably take longer than typing the command out again\n",
    "in the shell and executing it with a new file name.\n",
    "Instead, let's edit `middle.sh` and make it more versatile:"
   ]
  },
  {
   "cell_type": "code",
   "execution_count": null,
   "id": "6f0cc23c",
   "metadata": {},
   "outputs": [],
   "source": [
    "%%bash\n",
    "$ nano middle.sh"
   ]
  },
  {
   "cell_type": "markdown",
   "id": "51a10e95",
   "metadata": {},
   "source": [
    "```\n",
    "```\n",
    "\n",
    "{: .language-bash}\n",
    "Now, within \"nano\", replace the text `octane.pdb` with the special variable called `$1`:\n",
    "\n",
    "```\n",
    "head -n 15 \"$1\" | tail -n 5\n",
    "```\n",
    "\n",
    "{: .output}\n",
    "Inside a shell script,\n",
    "`$1` means 'the first filename (or other argument) on the command line'.\n",
    "We can now run our script like this:"
   ]
  },
  {
   "cell_type": "code",
   "execution_count": null,
   "id": "38a50543",
   "metadata": {},
   "outputs": [],
   "source": [
    "%%bash\n",
    "$ bash middle.sh octane.pdb"
   ]
  },
  {
   "cell_type": "markdown",
   "id": "9bc94cd1",
   "metadata": {},
   "source": [
    "{: .language-bash}\n",
    "\n",
    "```\n",
    "ATOM      9  H           1      -4.502   0.681   0.785  1.00  0.00\n",
    "ATOM     10  H           1      -5.254  -0.243  -0.537  1.00  0.00\n",
    "ATOM     11  H           1      -4.357   1.252  -0.895  1.00  0.00\n",
    "ATOM     12  H           1      -3.009  -0.741  -1.467  1.00  0.00\n",
    "ATOM     13  H           1      -3.172  -1.337   0.206  1.00  0.00\n",
    "```\n",
    "\n",
    "{: .output}\n",
    "or on a different file like this:"
   ]
  },
  {
   "cell_type": "code",
   "execution_count": null,
   "id": "cecd9a73",
   "metadata": {},
   "outputs": [],
   "source": [
    "%%bash\n",
    "$ bash middle.sh pentane.pdb"
   ]
  },
  {
   "cell_type": "markdown",
   "id": "182ef8be",
   "metadata": {},
   "source": [
    "{: .language-bash}\n",
    "\n",
    "```\n",
    "ATOM      9  H           1       1.324   0.350  -1.332  1.00  0.00\n",
    "ATOM     10  H           1       1.271   1.378   0.122  1.00  0.00\n",
    "ATOM     11  H           1      -0.074  -0.384   1.288  1.00  0.00\n",
    "ATOM     12  H           1      -0.048  -1.362  -0.205  1.00  0.00\n",
    "ATOM     13  H           1      -1.183   0.500  -1.412  1.00  0.00\n",
    "```\n",
    "\n",
    "{: .output}\n",
    "> ## Double-Quotes Around Arguments\n",
    ">\n",
    "> For the same reason that we put the loop variable inside double-quotes,\n",
    "> in case the filename happens to contain any spaces,\n",
    "> we surround `$1` with double-quotes.\n",
    "{: .callout}\n",
    "Currently, we need to edit `middle.sh` each time we want to adjust the range of\n",
    "lines that is returned.\n",
    "Let's fix that by configuring our script to instead use three command-line arguments.\n",
    "After the first command-line argument (`$1`), each additional argument that we\n",
    "provide will be accessible via the special variables `$1`, `$2`, `$3`,\n",
    "which refer to the first, second, third command-line arguments, respectively.\n",
    "Knowing this, we can use additional arguments to define the range of lines to\n",
    "be passed to `head` and `tail` respectively:"
   ]
  },
  {
   "cell_type": "code",
   "execution_count": null,
   "id": "870802ef",
   "metadata": {},
   "outputs": [],
   "source": [
    "%%bash\n",
    "$ nano middle.sh"
   ]
  },
  {
   "cell_type": "markdown",
   "id": "ed197248",
   "metadata": {},
   "source": [
    "{: .language-bash}\n",
    "\n",
    "```\n",
    "head -n \"$2\" \"$1\" | tail -n \"$3\"\n",
    "```\n",
    "\n",
    "{: .output}\n",
    "We can now run:"
   ]
  },
  {
   "cell_type": "code",
   "execution_count": null,
   "id": "3d2a0552",
   "metadata": {},
   "outputs": [],
   "source": [
    "%%bash\n",
    "$ bash middle.sh pentane.pdb 15 5"
   ]
  },
  {
   "cell_type": "markdown",
   "id": "86ac8a2f",
   "metadata": {},
   "source": [
    "{: .language-bash}\n",
    "\n",
    "```\n",
    "ATOM      9  H           1       1.324   0.350  -1.332  1.00  0.00\n",
    "ATOM     10  H           1       1.271   1.378   0.122  1.00  0.00\n",
    "ATOM     11  H           1      -0.074  -0.384   1.288  1.00  0.00\n",
    "ATOM     12  H           1      -0.048  -1.362  -0.205  1.00  0.00\n",
    "ATOM     13  H           1      -1.183   0.500  -1.412  1.00  0.00\n",
    "```\n",
    "\n",
    "{: .output}\n",
    "By changing the arguments to our command we can change our script's\n",
    "behaviour:"
   ]
  },
  {
   "cell_type": "code",
   "execution_count": null,
   "id": "e1d8d47c",
   "metadata": {},
   "outputs": [],
   "source": [
    "%%bash\n",
    "$ bash middle.sh pentane.pdb 20 5"
   ]
  },
  {
   "cell_type": "markdown",
   "id": "72b1f858",
   "metadata": {},
   "source": [
    "{: .language-bash}\n",
    "\n",
    "```\n",
    "ATOM     14  H           1      -1.259   1.420   0.112  1.00  0.00\n",
    "ATOM     15  H           1      -2.608  -0.407   1.130  1.00  0.00\n",
    "ATOM     16  H           1      -2.540  -1.303  -0.404  1.00  0.00\n",
    "ATOM     17  H           1      -3.393   0.254  -0.321  1.00  0.00\n",
    "TER      18              1\n",
    "```\n",
    "\n",
    "{: .output}\n",
    "This works,\n",
    "but it may take the next person who reads `middle.sh` a moment to figure out what it does.\n",
    "We can improve our script by adding some **comments** at the top:"
   ]
  },
  {
   "cell_type": "code",
   "execution_count": null,
   "id": "191dd6a7",
   "metadata": {},
   "outputs": [],
   "source": [
    "%%bash\n",
    "$ nano middle.sh"
   ]
  },
  {
   "cell_type": "markdown",
   "id": "1ab56245",
   "metadata": {},
   "source": [
    "{: .language-bash}\n",
    "\n",
    "```\n",
    "# Select lines from the middle of a file.\n",
    "# Usage: bash middle.sh filename end_line num_lines\n",
    "head -n \"$2\" \"$1\" | tail -n \"$3\"\n",
    "```\n",
    "\n",
    "{: .output}\n",
    "A comment starts with a `#` character and runs to the end of the line.\n",
    "The computer ignores comments,\n",
    "but they're invaluable for helping people (including your future self) understand and use scripts.\n",
    "The only caveat is that each time you modify the script,\n",
    "you should check that the comment is still accurate:\n",
    "an explanation that sends the reader in the wrong direction is worse than none at all.\n",
    "What if we want to process many files in a single pipeline?\n",
    "For example, if we want to sort our `.pdb` files by length, we would type:"
   ]
  },
  {
   "cell_type": "code",
   "execution_count": null,
   "id": "e1ad0917",
   "metadata": {},
   "outputs": [],
   "source": [
    "%%bash\n",
    "$ wc -l *.pdb | sort -n"
   ]
  },
  {
   "cell_type": "markdown",
   "id": "be4745db",
   "metadata": {},
   "source": [
    "```\n",
    "```\n",
    "\n",
    "{: .language-bash}\n",
    "because `wc -l` lists the number of lines in the files\n",
    "(recall that `wc` stands for 'word count', adding the `-l` option means 'count lines' instead)\n",
    "and `sort -n` sorts things numerically.\n",
    "We could put this in a file,\n",
    "but then it would only ever sort a list of `.pdb` files in the current directory.\n",
    "If we want to be able to get a sorted list of other kinds of files,\n",
    "we need a way to get all those names into the script.\n",
    "We can't use `$1`, `$2`, and so on\n",
    "because we don't know how many files there are.\n",
    "Instead, we use the special variable `$@`,\n",
    "which means,\n",
    "'All of the command-line arguments to the shell script'.\n",
    "We also should put `$@` inside double-quotes\n",
    "to handle the case of arguments containing spaces\n",
    "(`\"$@\"` is special syntax and is equivalent to `\"$1\"` `\"$2\"` ...).\n",
    "Here's an example:"
   ]
  },
  {
   "cell_type": "code",
   "execution_count": null,
   "id": "019d9e6e",
   "metadata": {},
   "outputs": [],
   "source": [
    "%%bash\n",
    "$ nano sorted.sh"
   ]
  },
  {
   "cell_type": "markdown",
   "id": "8478441e",
   "metadata": {},
   "source": [
    "{: .language-bash}\n",
    "\n",
    "```\n",
    "# Sort files by their length.\n",
    "# Usage: bash sorted.sh one_or_more_filenames\n",
    "wc -l \"$@\" | sort -n\n",
    "```\n",
    "\n",
    "{: .output}"
   ]
  },
  {
   "cell_type": "code",
   "execution_count": null,
   "id": "c2007da4",
   "metadata": {},
   "outputs": [],
   "source": [
    "%%bash\n",
    "$ bash sorted.sh *.pdb ../creatures/*.dat"
   ]
  },
  {
   "cell_type": "markdown",
   "id": "a652cc3f",
   "metadata": {},
   "source": [
    "{: .language-bash}\n",
    "\n",
    "```\n",
    "9 methane.pdb\n",
    "12 ethane.pdb\n",
    "15 propane.pdb\n",
    "20 cubane.pdb\n",
    "21 pentane.pdb\n",
    "30 octane.pdb\n",
    "163 ../creatures/basilisk.dat\n",
    "163 ../creatures/minotaur.dat\n",
    "163 ../creatures/unicorn.dat\n",
    "596 total\n",
    "```\n",
    "\n",
    "{: .output}\n",
    "> ## List Unique Species\n",
    ">\n",
    "> Leah has several hundred data files, each of which is formatted like this:\n",
    ">"
   ]
  },
  {
   "cell_type": "code",
   "execution_count": null,
   "id": "1c07ecc1",
   "metadata": {},
   "outputs": [],
   "source": [
    "%%bash\n",
    "> 2013-11-05,deer,5\n",
    "> 2013-11-05,rabbit,22\n",
    "> 2013-11-05,raccoon,7\n",
    "> 2013-11-06,rabbit,19\n",
    "> 2013-11-06,deer,2\n",
    "> 2013-11-06,fox,1\n",
    "> 2013-11-07,rabbit,18\n",
    "> 2013-11-07,bear,1"
   ]
  },
  {
   "cell_type": "markdown",
   "id": "818be357",
   "metadata": {},
   "source": [
    "```\n",
    "```\n",
    "\n",
    "> {: .source}\n",
    ">\n",
    "> An example of this type of file is given in `shell-lesson-data/data/animal-counts/animals.txt`.\n",
    ">\n",
    "> We can use the command `cut -d , -f 2 animals.txt | sort | uniq` to produce\n",
    "> the unique species in `animals.txt`.\n",
    "> In order to avoid having to type out this series of commands every time,\n",
    "> a scientist may choose to write a shell script instead.\n",
    ">\n",
    "> Write a shell script called `species.sh` that takes any number of\n",
    "> filenames as command-line arguments, and uses a variation of the above command\n",
    "> to print a list of the unique species appearing in each of those files separately.\n",
    ">\n",
    "> > ## Solution\n",
    "> >\n",
    "> > ```\n",
    "> > # Script to find unique species in csv files where species is the second data field\n",
    "> > # This script accepts any number of file names as command line arguments\n",
    "> >\n",
    "> > # Loop over all files\n",
    "> > for file in $@\n",
    "> > do\n",
    "> > \techo \"Unique species in $file:\"\n",
    "> > \t# Extract species names\n",
    "> > \tcut -d , -f 2 $file | sort | uniq\n",
    "> > done\n",
    "> > ```\n",
    "> > {: .language-bash}\n",
    "> {: .solution}\n",
    "{: .challenge}\n",
    "Suppose we have just run a series of commands that did something useful --- for example,\n",
    "that created a graph we'd like to use in a paper.\n",
    "We'd like to be able to re-create the graph later if we need to,\n",
    "so we want to save the commands in a file.\n",
    "Instead of typing them in again\n",
    "(and potentially getting them wrong)\n",
    "we can do this:"
   ]
  },
  {
   "cell_type": "code",
   "execution_count": null,
   "id": "55793150",
   "metadata": {},
   "outputs": [],
   "source": [
    "%%bash\n",
    "$ history | tail -n 5 > redo-figure-3.sh"
   ]
  },
  {
   "cell_type": "markdown",
   "id": "52746df0",
   "metadata": {},
   "source": [
    "```\n",
    "```\n",
    "\n",
    "{: .language-bash}\n",
    "The file `redo-figure-3.sh` now contains:\n",
    "\n",
    "```\n",
    "297 bash goostats.sh NENE01729B.txt stats-NENE01729B.txt\n",
    "298 bash goodiff.sh stats-NENE01729B.txt /data/validated/01729.txt > 01729-differences.txt\n",
    "299 cut -d ',' -f 2-3 01729-differences.txt > 01729-time-series.txt\n",
    "300 ygraph --format scatter --color bw --borders none 01729-time-series.txt figure-3.png\n",
    "301 history | tail -n 5 > redo-figure-3.sh\n",
    "```\n",
    "\n",
    "{: .source}\n",
    "After a moment's work in an editor to remove the serial numbers on the commands,\n",
    "and to remove the final line where we called the `history` command,\n",
    "we have a completely accurate record of how we created that figure.\n",
    "> ## Why Record Commands in the History Before Running Them?\n",
    ">\n",
    "> If you run the command:\n",
    ">"
   ]
  },
  {
   "cell_type": "code",
   "execution_count": null,
   "id": "4b25f0f0",
   "metadata": {},
   "outputs": [],
   "source": [
    "%%bash\n",
    "> $ history | tail -n 5 > recent.sh"
   ]
  },
  {
   "cell_type": "code",
   "execution_count": null,
   "id": "e7c144b1",
   "metadata": {},
   "outputs": [],
   "source": [
    "%%bash\n"
   ]
  },
  {
   "cell_type": "markdown",
   "id": "c52ad860",
   "metadata": {},
   "source": [
    "```\n",
    "```\n",
    "\n",
    "> {: .language-bash}\n",
    ">\n",
    "> the last command in the file is the `history` command itself, i.e.,\n",
    "> the shell has added `history` to the command log before actually\n",
    "> running it. In fact, the shell *always* adds commands to the log\n",
    "> before running them. Why do you think it does this?\n",
    ">\n",
    "> > ## Solution\n",
    "> > If a command causes something to crash or hang, it might be useful\n",
    "> > to know what that command was, in order to investigate the problem.\n",
    "> > Were the command only be recorded after running it, we would not\n",
    "> > have a record of the last command run in the event of a crash.\n",
    "> {: .solution}\n",
    "{: .challenge}\n",
    "In practice, most people develop shell scripts by running commands at the shell prompt a few times\n",
    "to make sure they're doing the right thing,\n",
    "then saving them in a file for re-use.\n",
    "This style of work allows people to recycle\n",
    "what they discover about their data and their workflow with one call to `history`\n",
    "and a bit of editing to clean up the output\n",
    "and save it as a shell script.\n",
    "## Nelle's Pipeline: Creating a Script\n",
    "Nelle's supervisor insisted that all her analytics must be reproducible.\n",
    "The easiest way to capture all the steps is in a script.\n",
    "First we return to Nelle's data directory:\n",
    "```\n",
    "$ cd ../north-pacific-gyre/2012-07-03/\n",
    "```\n",
    "{: .language-bash}\n",
    "She runs the editor and writes the following:"
   ]
  },
  {
   "cell_type": "code",
   "execution_count": null,
   "id": "e8f11f99",
   "metadata": {},
   "outputs": [],
   "source": [
    "%%bash\n",
    "# Calculate stats for data files.\n",
    "for datafile in \"$@\"\n",
    "do\n",
    "echo $datafile\n",
    "bash goostats.sh $datafile stats-$datafile\n",
    "done"
   ]
  },
  {
   "cell_type": "markdown",
   "id": "146e28fe",
   "metadata": {},
   "source": [
    "```\n",
    "```\n",
    "\n",
    "{: .language-bash}\n",
    "She saves this in a file called `do-stats.sh`\n",
    "so that she can now re-do the first stage of her analysis by typing:"
   ]
  },
  {
   "cell_type": "code",
   "execution_count": null,
   "id": "5b542ed3",
   "metadata": {},
   "outputs": [],
   "source": [
    "%%bash\n",
    "$ bash do-stats.sh NENE*A.txt NENE*B.txt"
   ]
  },
  {
   "cell_type": "markdown",
   "id": "5c66118e",
   "metadata": {},
   "source": [
    "```\n",
    "```\n",
    "\n",
    "{: .language-bash}\n",
    "She can also do this:"
   ]
  },
  {
   "cell_type": "code",
   "execution_count": null,
   "id": "55175af5",
   "metadata": {},
   "outputs": [],
   "source": [
    "%%bash\n",
    "$ bash do-stats.sh NENE*A.txt NENE*B.txt | wc -l"
   ]
  },
  {
   "cell_type": "markdown",
   "id": "1bdcb31f",
   "metadata": {},
   "source": [
    "```\n",
    "```\n",
    "\n",
    "{: .language-bash}\n",
    "so that the output is just the number of files processed\n",
    "rather than the names of the files that were processed.\n",
    "One thing to note about Nelle's script is that\n",
    "it lets the person running it decide what files to process.\n",
    "She could have written it as:"
   ]
  },
  {
   "cell_type": "code",
   "execution_count": null,
   "id": "f54be65a",
   "metadata": {},
   "outputs": [],
   "source": [
    "%%bash\n",
    "# Calculate stats for Site A and Site B data files.\n",
    "for datafile in NENE*A.txt NENE*B.txt\n",
    "do\n",
    "echo $datafile\n",
    "bash goostats.sh $datafile stats-$datafile\n",
    "done"
   ]
  },
  {
   "cell_type": "markdown",
   "id": "742d7856",
   "metadata": {},
   "source": [
    "```\n",
    "```\n",
    "\n",
    "{: .language-bash}\n",
    "The advantage is that this always selects the right files:\n",
    "she doesn't have to remember to exclude the 'Z' files.\n",
    "The disadvantage is that it *always* selects just those files --- she can't run it on all files\n",
    "(including the 'Z' files),\n",
    "or on the 'G' or 'H' files her colleagues in Antarctica are producing,\n",
    "without editing the script.\n",
    "If she wanted to be more adventurous,\n",
    "she could modify her script to check for command-line arguments,\n",
    "and use `NENE*A.txt NENE*B.txt` if none were provided.\n",
    "Of course, this introduces another tradeoff between flexibility and complexity.\n",
    "> ## Variables in Shell Scripts\n",
    ">\n",
    "> In the `molecules` directory, imagine you have a shell script called `script.sh` containing the\n",
    "> following commands:\n",
    ">"
   ]
  },
  {
   "cell_type": "code",
   "execution_count": null,
   "id": "6a2e6b34",
   "metadata": {},
   "outputs": [],
   "source": [
    "%%bash\n",
    "> head -n $2 $1\n",
    "> tail -n $3 $1"
   ]
  },
  {
   "cell_type": "markdown",
   "id": "fbac7182",
   "metadata": {},
   "source": [
    "```\n",
    "```\n",
    "\n",
    "> {: .language-bash}\n",
    ">\n",
    "> While you are in the `molecules` directory, you type the following command:\n",
    ">"
   ]
  },
  {
   "cell_type": "code",
   "execution_count": null,
   "id": "87e984eb",
   "metadata": {},
   "outputs": [],
   "source": [
    "%%bash\n",
    "> bash script.sh '*.pdb' 1 1"
   ]
  },
  {
   "cell_type": "code",
   "execution_count": null,
   "id": "053c4654",
   "metadata": {},
   "outputs": [],
   "source": [
    "%%bash\n"
   ]
  },
  {
   "cell_type": "markdown",
   "id": "da426489",
   "metadata": {},
   "source": [
    "```\n",
    "```\n",
    "\n",
    "> {: .language-bash}\n",
    ">\n",
    "> Which of the following outputs would you expect to see?\n",
    ">\n",
    "> 1. All of the lines between the first and the last lines of each file ending in `.pdb`\n",
    ">    in the `molecules` directory\n",
    "> 2. The first and the last line of each file ending in `.pdb` in the `molecules` directory\n",
    "> 3. The first and the last line of each file in the `molecules` directory\n",
    "> 4. An error because of the quotes around `*.pdb`\n",
    ">\n",
    "> > ## Solution\n",
    "> > The correct answer is 2.\n",
    "> >\n",
    "> > The special variables $1, $2 and $3 represent the command line arguments given to the\n",
    "> > script, such that the commands run are:\n",
    "> >\n",
    "> > ```\n",
    "> > $ head -n 1 cubane.pdb ethane.pdb octane.pdb pentane.pdb propane.pdb\n",
    "> > $ tail -n 1 cubane.pdb ethane.pdb octane.pdb pentane.pdb propane.pdb\n",
    "> > ```\n",
    "> > {: .language-bash}\n",
    "> > The shell does not expand `'*.pdb'` because it is enclosed by quote marks.\n",
    "> > As such, the first argument to the script is `'*.pdb'` which gets expanded within the\n",
    "> > script by `head` and `tail`.\n",
    "> {: .solution}\n",
    "{: .challenge}\n",
    "> ## Find the Longest File With a Given Extension\n",
    ">\n",
    "> Write a shell script called `longest.sh` that takes the name of a\n",
    "> directory and a filename extension as its arguments, and prints\n",
    "> out the name of the file with the most lines in that directory\n",
    "> with that extension. For example:\n",
    ">"
   ]
  },
  {
   "cell_type": "code",
   "execution_count": null,
   "id": "5c3f0962",
   "metadata": {},
   "outputs": [],
   "source": [
    "%%bash\n",
    "> $ bash longest.sh shell-lesson-data/exercise-data/proteins pdb"
   ]
  },
  {
   "cell_type": "markdown",
   "id": "fb6547a5",
   "metadata": {},
   "source": [
    "```\n",
    "```\n",
    "\n",
    "> {: .language-bash}\n",
    ">\n",
    "> would print the name of the `.pdb` file in `shell-lesson-data/exercise-data/proteins` that has\n",
    "> the most lines.\n",
    ">\n",
    "> Feel free to test your script on another directory e.g."
   ]
  },
  {
   "cell_type": "code",
   "execution_count": null,
   "id": "f1e3bf0e",
   "metadata": {},
   "outputs": [],
   "source": [
    "%%bash\n",
    "> $ bash longest.sh shell-lesson-data/exercise-data/writing txt"
   ]
  },
  {
   "cell_type": "code",
   "execution_count": null,
   "id": "d23a7809",
   "metadata": {},
   "outputs": [],
   "source": [
    "%%bash\n"
   ]
  },
  {
   "cell_type": "markdown",
   "id": "f3f687f0",
   "metadata": {},
   "source": [
    "```\n",
    "```\n",
    "\n",
    "> {: .language-bash}\n",
    ">\n",
    "> > ## Solution\n",
    "> >\n",
    "> > ```\n",
    "> > # Shell script which takes two arguments:\n",
    "> > #    1. a directory name\n",
    "> > #    2. a file extension\n",
    "> > # and prints the name of the file in that directory\n",
    "> > # with the most lines which matches the file extension.\n",
    "> >\n",
    "> > wc -l $1/*.$2 | sort -n | tail -n 2 | head -n 1\n",
    "> > ```\n",
    "> > {: .language-bash}\n",
    "> >\n",
    "> > The first part of the pipeline, `wc -l $1/*.$2 | sort -n`, counts\n",
    "> > the lines in each file and sorts them numerically (largest last). When\n",
    "> > there's more than one file, `wc` also outputs a final summary line,\n",
    "> > giving the total number of lines across _all_ files.  We use `tail\n",
    "> > -n 2 | head -n 1` to throw away this last line.\n",
    "> >\n",
    "> > With `wc -l $1/*.$2 | sort -n | tail -n 1` we'll see the final summary\n",
    "> > line: we can build our pipeline up in pieces to be sure we understand\n",
    "> > the output.\n",
    "> >\n",
    "> {: .solution}\n",
    "{: .challenge}\n",
    "> ## Script Reading Comprehension\n",
    ">\n",
    "> For this question, consider the `shell-lesson-data/molecules` directory once again.\n",
    "> This contains a number of `.pdb` files in addition to any other files you\n",
    "> may have created.\n",
    "> Explain what each of the following three scripts would do when run as\n",
    "> `bash script1.sh *.pdb`, `bash script2.sh *.pdb`, and `bash script3.sh *.pdb` respectively.\n",
    ">"
   ]
  },
  {
   "cell_type": "code",
   "execution_count": null,
   "id": "bafa1eaf",
   "metadata": {},
   "outputs": [],
   "source": [
    "%%bash\n",
    "> # Script 1\n",
    "> echo *.*"
   ]
  },
  {
   "cell_type": "markdown",
   "id": "97b08a97",
   "metadata": {},
   "source": [
    "```\n",
    "```\n",
    "\n",
    "> {: .language-bash}\n",
    ">"
   ]
  },
  {
   "cell_type": "code",
   "execution_count": null,
   "id": "26fd48e3",
   "metadata": {},
   "outputs": [],
   "source": [
    "%%bash\n",
    "> # Script 2\n",
    "> for filename in $1 $2 $3\n",
    "> do\n",
    ">     cat $filename\n",
    "> done"
   ]
  },
  {
   "cell_type": "markdown",
   "id": "df593be6",
   "metadata": {},
   "source": [
    "```\n",
    "```\n",
    "\n",
    "> {: .language-bash}\n",
    ">"
   ]
  },
  {
   "cell_type": "code",
   "execution_count": null,
   "id": "4497d758",
   "metadata": {},
   "outputs": [],
   "source": [
    "%%bash\n",
    "> # Script 3\n",
    "> echo $@.pdb"
   ]
  },
  {
   "cell_type": "markdown",
   "id": "e5ae4059",
   "metadata": {},
   "source": [
    "```\n",
    "```\n",
    "\n",
    "> {: .language-bash}\n",
    ">\n",
    "> > ## Solutions\n",
    "> > In each case, the shell expands the wildcard in `*.pdb` before passing the resulting\n",
    "> > list of file names as arguments to the script.\n",
    "> >\n",
    "> > Script 1 would print out a list of all files containing a dot in their name.\n",
    "> > The arguments passed to the script are not actually used anywhere in the script.\n",
    "> >\n",
    "> > Script 2 would print the contents of the first 3 files with a `.pdb` file extension.\n",
    "> > `$1`, `$2`, and `$3` refer to the first, second, and third argument respectively.\n",
    "> >\n",
    "> > Script 3 would print all the arguments to the script (i.e. all the `.pdb` files),\n",
    "> > followed by `.pdb`.\n",
    "> > `$@` refers to *all* the arguments given to a shell script.\n",
    "> > ```\n",
    "> > cubane.pdb ethane.pdb methane.pdb octane.pdb pentane.pdb propane.pdb.pdb\n",
    "> > ```\n",
    "> > {: .output}\n",
    "> {: .solution}\n",
    "{: .challenge}\n",
    "> ## Debugging Scripts\n",
    ">\n",
    "> Suppose you have saved the following script in a file called `do-errors.sh`\n",
    "> in Nelle's `north-pacific-gyre/2012-07-03` directory:\n",
    ">"
   ]
  },
  {
   "cell_type": "code",
   "execution_count": null,
   "id": "75c1f0e3",
   "metadata": {},
   "outputs": [],
   "source": [
    "%%bash\n",
    "> # Calculate stats for data files.\n",
    "> for datafile in \"$@\"\n",
    "> do\n",
    ">     echo $datfile\n",
    ">     bash goostats.sh $datafile stats-$datafile\n",
    "> done"
   ]
  },
  {
   "cell_type": "markdown",
   "id": "9d27215d",
   "metadata": {},
   "source": [
    "```\n",
    "```\n",
    "\n",
    "> {: .language-bash}\n",
    ">\n",
    "> When you run it:\n",
    ">"
   ]
  },
  {
   "cell_type": "code",
   "execution_count": null,
   "id": "0e02ff46",
   "metadata": {},
   "outputs": [],
   "source": [
    "%%bash\n",
    "> $ bash do-errors.sh NENE*A.txt NENE*B.txt"
   ]
  },
  {
   "cell_type": "markdown",
   "id": "04d39137",
   "metadata": {},
   "source": [
    "```\n",
    "```\n",
    "\n",
    "> {: .language-bash}\n",
    ">\n",
    "> the output is blank.\n",
    "> To figure out why, re-run the script using the `-x` option:\n",
    ">"
   ]
  },
  {
   "cell_type": "code",
   "execution_count": null,
   "id": "4938e991",
   "metadata": {
    "lines_to_next_cell": 0
   },
   "outputs": [],
   "source": [
    "%%bash\n",
    "> bash -x do-errors.sh NENE*A.txt NENE*B.txt"
   ]
  },
  {
   "cell_type": "markdown",
   "id": "cc2c7a6d",
   "metadata": {},
   "source": []
  }
 ],
 "metadata": {
  "jupytext": {
   "formats": "ipynb,md"
  },
  "kernelspec": {
   "display_name": "Python 3 (ipykernel)",
   "language": "python",
   "name": "python3"
  }
 },
 "nbformat": 4,
 "nbformat_minor": 5
}
