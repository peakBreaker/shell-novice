{
 "cells": [
  {
   "cell_type": "markdown",
   "id": "5ba103e4",
   "metadata": {},
   "source": [
    "The part of the operating system responsible for managing files and directories\n",
    "is called the **file system**.'\n",
    "It organizes our data into files,\n",
    "which hold information,\n",
    "and directories (also called 'folders'),\n",
    "which hold files or other directories.\n",
    "Several commands are frequently used to create, inspect, rename, and delete files and directories.\n",
    "To start exploring them, we'll go to our open shell window.\n",
    "First, let's find out where we are by running a command called `pwd`\n",
    "(which stands for 'print working directory'). Directories are like *places* — at any time\n",
    "while we are using the shell, we are in exactly one place called\n",
    "our **current working directory**. Commands mostly read and write files in the\n",
    "current working directory, i.e. 'here', so knowing where you are before running\n",
    "a command is important. `pwd` shows you where you are:"
   ]
  },
  {
   "cell_type": "code",
   "execution_count": null,
   "id": "cc043614",
   "metadata": {},
   "outputs": [],
   "source": [
    "%%bash\n",
    "$ pwd"
   ]
  },
  {
   "cell_type": "markdown",
   "id": "3c988d45",
   "metadata": {},
   "source": [
    "{: .language-bash}\n",
    "\n",
    "```\n",
    "/Users/nelle\n",
    "```\n",
    "\n",
    "{: .output}\n",
    "Here,\n",
    "the computer's response is `/Users/nelle`,\n",
    "which is Nelle's **home directory**:\n",
    "> ## Home Directory Variation\n",
    ">\n",
    "> The home directory path will look different on different operating systems.\n",
    "> On Linux, it may look like `/home/nelle`,\n",
    "> and on Windows, it will be similar to `C:\\Documents and Settings\\nelle` or\n",
    "> `C:\\Users\\nelle`.\n",
    "> (Note that it may look slightly different for different versions of Windows.)\n",
    "> In future examples, we've used Mac output as the default - Linux and Windows\n",
    "> output may differ slightly but should be generally similar.\n",
    ">\n",
    "> We will also assume that your `pwd` command returns your user's home directory.\n",
    "> If `pwd` returns something different, you may need to navigate there using `cd`\n",
    "> or some commands in this lesson will not work as written.\n",
    "> See [Exploring Other Directories](#exploring-other-directories) for more details\n",
    "> on the `cd` command.\n",
    "{: .callout}\n",
    "To understand what a 'home directory' is,\n",
    "let's have a look at how the file system as a whole is organized.  For the\n",
    "sake of this example, we'll be\n",
    "illustrating the filesystem on our scientist Nelle's computer.  After this\n",
    "illustration, you'll be learning commands to explore your own filesystem,\n",
    "which will be constructed in a similar way, but not be exactly identical.\n",
    "On Nelle's computer, the filesystem looks like this:\n",
    "\n",
    "![The file system is made up of a root directory that contains sub-directories\n",
    "titled bin, data, users, and tmp](../fig/filesystem.svg)\n",
    "\n",
    "At the top is the **root directory**\n",
    "that holds everything else.\n",
    "We refer to it using a slash character, `/`, on its own;\n",
    "this character is the leading slash in `/Users/nelle`.\n",
    "Inside that directory are several other directories:\n",
    "`bin` (which is where some built-in programs are stored),\n",
    "`data` (for miscellaneous data files),\n",
    "`Users` (where users' personal directories are located),\n",
    "`tmp` (for temporary files that don't need to be stored long-term),\n",
    "and so on.\n",
    "We know that our current working directory `/Users/nelle` is stored inside `/Users`\n",
    "because `/Users` is the first part of its name.\n",
    "Similarly,\n",
    "we know that `/Users` is stored inside the root directory `/`\n",
    "because its name begins with `/`.\n",
    "\n",
    "> ## Slashes\n",
    ">\n",
    "> Notice that there are two meanings for the `/` character.\n",
    "> When it appears at the front of a file or directory name,\n",
    "> it refers to the root directory. When it appears *inside* a path,\n",
    "> it's just a separator.\n",
    "\n",
    "{: .callout}\n",
    "Underneath `/Users`,\n",
    "we find one directory for each user with an account on Nelle's machine,\n",
    "her colleagues *imhotep* and *larry*.\n",
    "![Like other directories, home directories are sub-directories underneath\n",
    "\"/Users\" like \"/Users/imhotep\", \"/Users/larry\" or\n",
    "\"/Users/nelle\"](../fig/home-directories.svg)\n",
    "The user *imhotep*'s files are stored in `/Users/imhotep`,\n",
    "user *larry*'s in `/Users/larry`,\n",
    "and Nelle's in `/Users/nelle`.  Because Nelle is the user in our\n",
    "examples here, therefore we get `/Users/nelle` as our home directory.\n",
    "Typically, when you open a new command prompt, you will be in\n",
    "your home directory to start.\n",
    "Now let's learn the command that will let us see the contents of our\n",
    "own filesystem.  We can see what's in our home directory by running `ls`:"
   ]
  },
  {
   "cell_type": "code",
   "execution_count": null,
   "id": "d75f76c1",
   "metadata": {},
   "outputs": [],
   "source": [
    "%%bash\n",
    "$ ls"
   ]
  },
  {
   "cell_type": "markdown",
   "id": "70772ca1",
   "metadata": {},
   "source": [
    "{: .language-bash}\n",
    "\n",
    "```\n",
    "Applications Documents    Library      Music        Public\n",
    "Desktop      Downloads    Movies       Pictures\n",
    "```\n",
    "\n",
    "{: .output}\n",
    "(Again, your results may be slightly different depending on your operating\n",
    "system and how you have customized your filesystem.)\n",
    "`ls` prints the names of the files and directories in the current directory.\n",
    "We can make its output more comprehensible by using the `-F` **option**\n",
    "which tells `ls` to classify the output\n",
    "by adding a marker to file and directory names to indicate what they are:\n",
    "- a trailing `/` indicates that this is a directory\n",
    "- `@` indicates a link\n",
    "- `*` indicates an executable\n",
    "Depending on your shell's default settings,\n",
    "the shell might also use colors to indicate whether each entry is a file or\n",
    "directory."
   ]
  },
  {
   "cell_type": "code",
   "execution_count": null,
   "id": "d2b7f299",
   "metadata": {},
   "outputs": [],
   "source": [
    "%%bash\n",
    "$ ls -F"
   ]
  },
  {
   "cell_type": "markdown",
   "id": "f8552923",
   "metadata": {},
   "source": [
    "{: .language-bash}\n",
    "\n",
    "```\n",
    "Applications/ Documents/    Library/      Music/        Public/\n",
    "Desktop/      Downloads/    Movies/       Pictures/\n",
    "```\n",
    "\n",
    "{: .output}\n",
    "Here,\n",
    "we can see that our home directory contains only **sub-directories**.\n",
    "Any names in our output that don't have a classification symbol\n",
    "are plain old **files**.\n",
    "> ## Clearing your terminal\n",
    ">\n",
    "> If your screen gets too cluttered, you can clear your terminal using the\n",
    "> `clear` command. You can still access previous commands using <kbd>↑</kbd>\n",
    "> and <kbd>↓</kbd> to move line-by-line, or by scrolling in your terminal.\n",
    "{: .callout}\n",
    "### Getting help\n",
    "`ls` has lots of other **options**. There are two common ways to find out how\n",
    "to use a command and what options it accepts ---\n",
    "**depending on your environment, you might find that only one of these ways works:**\n",
    "1. We can pass a `--help` option to the command (not available on macOS), such as:"
   ]
  },
  {
   "cell_type": "code",
   "execution_count": null,
   "id": "e9c5e814",
   "metadata": {},
   "outputs": [],
   "source": [
    "%%bash\n",
    "$ ls --help"
   ]
  },
  {
   "cell_type": "markdown",
   "id": "79dced7a",
   "metadata": {},
   "source": [
    "```\n",
    "```\n",
    "\n",
    "{: .language-bash}\n",
    "2. We can read its manual with `man` (not available in Git Bash), such as:"
   ]
  },
  {
   "cell_type": "code",
   "execution_count": null,
   "id": "d854c123",
   "metadata": {},
   "outputs": [],
   "source": [
    "%%bash\n",
    "$ man ls"
   ]
  },
  {
   "cell_type": "markdown",
   "id": "bd8470aa",
   "metadata": {},
   "source": [
    "```\n",
    "```\n",
    "\n",
    "{: .language-bash}\n",
    "We'll describe both ways next.\n",
    "#### The `--help` option\n",
    "Most bash commands and programs that people have written to be\n",
    "run from within bash, support a `--help` option that displays more\n",
    "information on how to use the command or program."
   ]
  },
  {
   "cell_type": "code",
   "execution_count": null,
   "id": "c31fec92",
   "metadata": {},
   "outputs": [],
   "source": [
    "%%bash\n",
    "$ ls --help"
   ]
  },
  {
   "cell_type": "markdown",
   "id": "3ebdcacb",
   "metadata": {},
   "source": [
    "{: .language-bash}\n",
    "\n",
    "```\n",
    "Usage: ls [OPTION]... [FILE]...\n",
    "List information about the FILEs (the current directory by default).\n",
    "Sort entries alphabetically if neither -cftuvSUX nor --sort is specified.\n",
    "Mandatory arguments to long options are mandatory for short options, too.\n",
    "-a, --all                  do not ignore entries starting with .\n",
    "-A, --almost-all           do not list implied . and ..\n",
    "--author               with -l, print the author of each file\n",
    "-b, --escape               print C-style escapes for nongraphic characters\n",
    "--block-size=SIZE      scale sizes by SIZE before printing them; e.g.,\n",
    "'--block-size=M' prints sizes in units of\n",
    "1,048,576 bytes; see SIZE format below\n",
    "-B, --ignore-backups       do not list implied entries ending with ~\n",
    "-c                         with -lt: sort by, and show, ctime (time of last\n",
    "modification of file status information);\n",
    "with -l: show ctime and sort by name;\n",
    "otherwise: sort by ctime, newest first\n",
    "-C                         list entries by columns\n",
    "--color[=WHEN]         colorize the output; WHEN can be 'always' (default\n",
    "if omitted), 'auto', or 'never'; more info below\n",
    "-d, --directory            list directories themselves, not their contents\n",
    "-D, --dired                generate output designed for Emacs' dired mode\n",
    "-f                         do not sort, enable -aU, disable -ls --color\n",
    "-F, --classify             append indicator (one of */=>@|) to entries\n",
    "...        ...        ...\n",
    "```\n",
    "\n",
    "{: .output}\n",
    "> ## Unsupported command-line options\n",
    "> If you try to use an option that is not supported, `ls` and other commands\n",
    "> will usually print an error message similar to:\n",
    ">"
   ]
  },
  {
   "cell_type": "code",
   "execution_count": null,
   "id": "c1a91a1a",
   "metadata": {},
   "outputs": [],
   "source": [
    "%%bash\n",
    "> $ ls -j"
   ]
  },
  {
   "cell_type": "markdown",
   "id": "5477ee9d",
   "metadata": {},
   "source": [
    "```\n",
    "```\n",
    "\n",
    "> {: .language-bash}\n",
    ">\n",
    "\n",
    "```\n",
    "> ls: invalid option -- 'j'\n",
    "> Try 'ls --help' for more information.\n",
    "```\n",
    "\n",
    "> {: .error}\n",
    "{: .callout}\n",
    "#### The `man` command\n",
    "The other way to learn about `ls` is to type"
   ]
  },
  {
   "cell_type": "code",
   "execution_count": null,
   "id": "3e0efd0b",
   "metadata": {},
   "outputs": [],
   "source": [
    "%%bash\n",
    "$ man ls"
   ]
  },
  {
   "cell_type": "markdown",
   "id": "389e38c9",
   "metadata": {},
   "source": [
    "```\n",
    "```\n",
    "\n",
    "{: .language-bash}\n",
    "This command will turn your terminal into a page with a description\n",
    "of the `ls` command and its options.\n",
    "To navigate through the `man` pages,\n",
    "you may use <kbd>↑</kbd> and <kbd>↓</kbd> to move line-by-line,\n",
    "or try <kbd>B</kbd> and <kbd>Spacebar</kbd> to skip up and down by a full page.\n",
    "To search for a character or word in the `man` pages,\n",
    "use <kbd>/</kbd> followed by the character or word you are searching for.\n",
    "Sometimes a search will result in multiple hits.\n",
    "If so, you can move between hits using <kbd>N</kbd> (for moving forward) and\n",
    "<kbd>Shift</kbd>+<kbd>N</kbd> (for moving backward).\n",
    "To **quit** the `man` pages, press <kbd>Q</kbd>.\n",
    "> ## Manual pages on the web\n",
    ">\n",
    "> Of course, there is a third way to access help for commands:\n",
    "> searching the internet via your web browser.\n",
    "> When using internet search, including the phrase `unix man page` in your search\n",
    "> query will help to find relevant results.\n",
    ">\n",
    "> GNU provides links to its\n",
    "> [manuals](http://www.gnu.org/manual/manual.html) including the\n",
    "> [core GNU utilities](http://www.gnu.org/software/coreutils/manual/coreutils.html),\n",
    "> which covers many commands introduced within this lesson.\n",
    "{: .callout}\n",
    "> ## Exploring More `ls` Flags\n",
    ">\n",
    "> You can also use two options at the same time. What does the command `ls` do when used\n",
    "> with the `-l` option? What about if you use both the `-l` and the `-h` option?\n",
    ">\n",
    "> Some of its output is about properties that we do not cover in this lesson (such\n",
    "> as file permissions and ownership), but the rest should be useful\n",
    "> nevertheless.\n",
    ">\n",
    "<details>\n",
    "<summary>Solution</summary>\n",
    "> > The `-l` option makes `ls` use a **l**ong listing format, showing not only\n",
    "> > the file/directory names but also additional information, such as the file size\n",
    "> > and the time of its last modification. If you use both the `-h` option and the `-l` option,\n",
    "> > this makes the file size '**h**uman readable', i.e. displaying something like `5.3K`\n",
    "> > instead of `5369`.\n",
    "> {: .solution}\n",
    "</details>\n",
    "{: .challenge}\n",
    "> ## Listing in Reverse Chronological Order\n",
    ">\n",
    "> By default, `ls` lists the contents of a directory in alphabetical\n",
    "> order by name. The command `ls -t` lists items by time of last\n",
    "> change instead of alphabetically. The command `ls -r` lists the\n",
    "> contents of a directory in reverse order.\n",
    "> Which file is displayed last when you combine the `-t` and `-r` options?\n",
    "> Hint: You may need to use the `-l` option to see the\n",
    "> last changed dates.\n",
    ">\n",
    "\n",
    "<details>\n",
    "<summary>Solution</summary>\n",
    "> > ## Solution\n",
    "> > The most recently changed file is listed last when using `-rt`. This\n",
    "> > can be very useful for finding your most recent edits or checking to\n",
    "> > see if a new output file was written.\n",
    "> {: .solution}\n",
    "</details>\n",
    "\n",
    "{: .challenge}\n",
    "### Exploring Other Directories\n",
    "Not only can we use `ls` on the current working directory,\n",
    "but we can use it to list the contents of a different directory.\n",
    "Let's take a look at our `Desktop` directory by running `ls -F Desktop`,\n",
    "i.e.,\n",
    "the command `ls` with the `-F` **option** and the [**argument**][Arguments]  `Desktop`.\n",
    "The argument `Desktop` tells `ls` that\n",
    "we want a listing of something other than our current working directory:"
   ]
  },
  {
   "cell_type": "code",
   "execution_count": null,
   "id": "d9759de9",
   "metadata": {},
   "outputs": [],
   "source": [
    "%%bash\n",
    "$ ls -F Desktop"
   ]
  },
  {
   "cell_type": "markdown",
   "id": "ad2e4fc0",
   "metadata": {},
   "source": [
    "{: .language-bash}\n",
    "\n",
    "```\n",
    "shell-lesson-data/\n",
    "```\n",
    "\n",
    "{: .output}\n",
    "Note that if a directory named `Desktop` does not exist in your current working directory,\n",
    "this command will return an error. Typically, a `Desktop` directory exists in your\n",
    "home directory, which we assume is the current working directory of your bash shell.\n",
    "Your output should be a list of all the files and sub-directories in your\n",
    "Desktop directory, including the `shell-lesson-data` directory you downloaded at\n",
    "the [setup for this lesson]({{ page.root }}{% link setup.md %}).\n",
    "On many systems,\n",
    "the command line Desktop directory is the same as your GUI Desktop.\n",
    "Take a look at your Desktop to confirm that your output is accurate.\n",
    "As you may now see, using a bash shell is strongly dependent on the idea that\n",
    "your files are organized in a hierarchical file system.\n",
    "Organizing things hierarchically in this way helps us keep track of our work:\n",
    "it's possible to put hundreds of files in our home directory,\n",
    "just as it's possible to pile hundreds of printed papers on our desk,\n",
    "but it's a self-defeating strategy.\n",
    "Now that we know the `shell-lesson-data` directory is located in our Desktop directory, we\n",
    "can do two things.\n",
    "First, we can look at its contents, using the same strategy as before, passing\n",
    "a directory name to `ls`:"
   ]
  },
  {
   "cell_type": "code",
   "execution_count": null,
   "id": "1eea2e63",
   "metadata": {},
   "outputs": [],
   "source": [
    "%%bash\n",
    "$ ls -F Desktop/shell-lesson-data"
   ]
  },
  {
   "cell_type": "markdown",
   "id": "c77817e9",
   "metadata": {},
   "source": [
    "{: .language-bash}\n",
    "\n",
    "```\n",
    "creatures/          molecules/          notes.txt           solar.pdf\n",
    "data/               north-pacific-gyre/ pizza.cfg           writing/\n",
    "```\n",
    "\n",
    "{: .output}\n",
    "Second, we can actually change our location to a different directory, so\n",
    "we are no longer located in\n",
    "our home directory.\n",
    "The command to change locations is `cd` followed by a\n",
    "directory name to change our working directory.\n",
    "`cd` stands for 'change directory',\n",
    "which is a bit misleading:\n",
    "the command doesn't change the directory;\n",
    "it changes the shell's idea of what directory we are in.\n",
    "The `cd` command is akin to double clicking a folder in a graphical interface to get into a folder.\n",
    "Let's say we want to move to the `data` directory we saw above. We can\n",
    "use the following series of commands to get there:"
   ]
  },
  {
   "cell_type": "code",
   "execution_count": null,
   "id": "775797b4",
   "metadata": {},
   "outputs": [],
   "source": [
    "%%bash\n",
    "$ cd Desktop\n",
    "$ cd shell-lesson-data\n",
    "$ cd data"
   ]
  },
  {
   "cell_type": "markdown",
   "id": "e167475e",
   "metadata": {},
   "source": [
    "```\n",
    "```\n",
    "\n",
    "{: .language-bash}\n",
    "These commands will move us from our home directory into our Desktop directory, then into\n",
    "the `shell-lesson-data` directory, then into the `data` directory.\n",
    "You will notice that `cd` doesn't print anything. This is normal.\n",
    "Many shell commands will not output anything to the screen when successfully executed.\n",
    "But if we run `pwd` after it, we can see that we are now\n",
    "in `/Users/nelle/Desktop/shell-lesson-data/data`.\n",
    "If we run `ls -F` without arguments now,\n",
    "it lists the contents of `/Users/nelle/Desktop/shell-lesson-data/data`,\n",
    "because that's where we now are:"
   ]
  },
  {
   "cell_type": "code",
   "execution_count": null,
   "id": "54aa0131",
   "metadata": {},
   "outputs": [],
   "source": [
    "%%bash\n",
    "$ pwd"
   ]
  },
  {
   "cell_type": "markdown",
   "id": "fd8e1595",
   "metadata": {},
   "source": [
    "{: .language-bash}\n",
    "\n",
    "```\n",
    "/Users/nelle/Desktop/shell-lesson-data/data\n",
    "```\n",
    "\n",
    "{: .output}"
   ]
  },
  {
   "cell_type": "code",
   "execution_count": null,
   "id": "7f56566e",
   "metadata": {},
   "outputs": [],
   "source": [
    "%%bash\n",
    "$ ls -F"
   ]
  },
  {
   "cell_type": "markdown",
   "id": "f83f781a",
   "metadata": {},
   "source": [
    "{: .language-bash}\n",
    "\n",
    "```\n",
    "amino-acids.txt   elements/     pdb/\t        salmon.txt\n",
    "animals.txt       morse.txt     planets.txt     sunspot.txt\n",
    "```\n",
    "\n",
    "{: .output}\n",
    "We now know how to go down the directory tree (i.e. how to go into a subdirectory),\n",
    "but how do we go up (i.e. how do we leave a directory and go into its parent directory)?\n",
    "We might try the following:"
   ]
  },
  {
   "cell_type": "code",
   "execution_count": null,
   "id": "f9c3ab2a",
   "metadata": {},
   "outputs": [],
   "source": [
    "%%bash\n",
    "$ cd shell-lesson-data"
   ]
  },
  {
   "cell_type": "markdown",
   "id": "a8ae3cef",
   "metadata": {},
   "source": [
    "{: .language-bash}\n",
    "\n",
    "```\n",
    "-bash: cd: shell-lesson-data: No such file or directory\n",
    "```\n",
    "\n",
    "{: .error}\n",
    "But we get an error! Why is this?\n",
    "With our methods so far,\n",
    "`cd` can only see sub-directories inside your current directory. There are\n",
    "different ways to see directories above your current location; we'll start\n",
    "with the simplest.\n",
    "There is a shortcut in the shell to move up one directory level\n",
    "that looks like this:"
   ]
  },
  {
   "cell_type": "code",
   "execution_count": null,
   "id": "61331774",
   "metadata": {},
   "outputs": [],
   "source": [
    "%%bash\n",
    "$ cd .."
   ]
  },
  {
   "cell_type": "markdown",
   "id": "5bc3c517",
   "metadata": {},
   "source": [
    "```\n",
    "```\n",
    "\n",
    "{: .language-bash}\n",
    "`..` is a special directory name meaning\n",
    "\"the directory containing this one\",\n",
    "or more succinctly,\n",
    "the **parent** of the current directory.\n",
    "Sure enough,\n",
    "if we run `pwd` after running `cd ..`, we're back in `/Users/nelle/Desktop/shell-lesson-data`:"
   ]
  },
  {
   "cell_type": "code",
   "execution_count": null,
   "id": "2550fbc0",
   "metadata": {},
   "outputs": [],
   "source": [
    "%%bash\n",
    "$ pwd"
   ]
  },
  {
   "cell_type": "markdown",
   "id": "7d92f8c1",
   "metadata": {},
   "source": [
    "{: .language-bash}\n",
    "\n",
    "```\n",
    "/Users/nelle/Desktop/shell-lesson-data\n",
    "```\n",
    "\n",
    "{: .output}\n",
    "The special directory `..` doesn't usually show up when we run `ls`. If we want\n",
    "to display it, we can add the `-a` option to `ls -F`:"
   ]
  },
  {
   "cell_type": "code",
   "execution_count": null,
   "id": "02786e7f",
   "metadata": {},
   "outputs": [],
   "source": [
    "%%bash\n",
    "$ ls -F -a"
   ]
  },
  {
   "cell_type": "markdown",
   "id": "15d89adf",
   "metadata": {},
   "source": [
    "{: .language-bash}\n",
    "\n",
    "```\n",
    "./   .bash_profile  data/       north-pacific-gyre/  pizza.cfg  thesis/\n",
    "../  creatures/     molecules/  notes.txt            solar.pdf  writing/\n",
    "```\n",
    "\n",
    "{: .output}\n",
    "`-a` stands for 'show all';\n",
    "it forces `ls` to show us file and directory names that begin with `.`,\n",
    "such as `..` (which, if we're in `/Users/nelle`, refers to the `/Users` directory).\n",
    "As you can see,\n",
    "it also displays another special directory that's just called `.`,\n",
    "which means 'the current working directory'.\n",
    "It may seem redundant to have a name for it,\n",
    "but we'll see some uses for it soon.\n",
    "Note that in most command line tools, multiple options can be combined\n",
    "with a single `-` and no spaces between the options: `ls -F -a` is\n",
    "equivalent to `ls -Fa`.\n",
    "> ## Other Hidden Files\n",
    ">\n",
    "> In addition to the hidden directories `..` and `.`, you may also see a file\n",
    "> called `.bash_profile`. This file usually contains shell configuration\n",
    "> settings. You may also see other files and directories beginning\n",
    "> with `.`. These are usually files and directories that are used to configure\n",
    "> different programs on your computer. The prefix `.` is used to prevent these\n",
    "> configuration files from cluttering the terminal when a standard `ls` command\n",
    "> is used.\n",
    "{: .callout}\n",
    "These three commands are the basic commands for navigating the filesystem on your computer:\n",
    "`pwd`, `ls`, and `cd`. Let's explore some variations on those commands. What happens\n",
    "if you type `cd` on its own, without giving\n",
    "a directory?"
   ]
  },
  {
   "cell_type": "code",
   "execution_count": null,
   "id": "b7c4bba3",
   "metadata": {},
   "outputs": [],
   "source": [
    "%%bash\n",
    "$ cd"
   ]
  },
  {
   "cell_type": "markdown",
   "id": "8ad60359",
   "metadata": {},
   "source": [
    "```\n",
    "```\n",
    "\n",
    "{: .language-bash}\n",
    "How can you check what happened? `pwd` gives us the answer!"
   ]
  },
  {
   "cell_type": "code",
   "execution_count": null,
   "id": "a877a263",
   "metadata": {},
   "outputs": [],
   "source": [
    "%%bash\n",
    "$ pwd"
   ]
  },
  {
   "cell_type": "markdown",
   "id": "1289da55",
   "metadata": {},
   "source": [
    "{: .language-bash}\n",
    "\n",
    "```\n",
    "/Users/nelle\n",
    "```\n",
    "\n",
    "{: .output}\n",
    "It turns out that `cd` without an argument will return you to your home directory,\n",
    "which is great if you've gotten lost in your own filesystem.\n",
    "Let's try returning to the `data` directory from before. Last time, we used\n",
    "three commands, but we can actually string together the list of directories\n",
    "to move to `data` in one step:"
   ]
  },
  {
   "cell_type": "code",
   "execution_count": null,
   "id": "9c3828be",
   "metadata": {},
   "outputs": [],
   "source": [
    "%%bash\n",
    "$ cd Desktop/shell-lesson-data/data"
   ]
  },
  {
   "cell_type": "markdown",
   "id": "30c0b166",
   "metadata": {},
   "source": [
    "```\n",
    "```\n",
    "\n",
    "{: .language-bash}\n",
    "Check that we've moved to the right place by running `pwd` and `ls -F`.\n",
    "If we want to move up one level from the data directory, we could use `cd ..`.  But\n",
    "there is another way to move to any directory, regardless of your\n",
    "current location.\n",
    "So far, when specifying directory names, or even a directory path (as above),\n",
    "we have been using **relative paths**.  When you use a relative path with a command\n",
    "like `ls` or `cd`, it tries to find that location from where we are,\n",
    "rather than from the root of the file system.\n",
    "However, it is possible to specify the **absolute path** to a directory by\n",
    "including its entire path from the root directory, which is indicated by a\n",
    "leading slash. The leading `/` tells the computer to follow the path from\n",
    "the root of the file system, so it always refers to exactly one directory,\n",
    "no matter where we are when we run the command.\n",
    "This allows us to move to our `shell-lesson-data` directory from anywhere on\n",
    "the filesystem (including from inside `data`). To find the absolute path\n",
    "we're looking for, we can use `pwd` and then extract the piece we need\n",
    "to move to `shell-lesson-data`."
   ]
  },
  {
   "cell_type": "code",
   "execution_count": null,
   "id": "c3e80f82",
   "metadata": {},
   "outputs": [],
   "source": [
    "%%bash\n",
    "$ pwd"
   ]
  },
  {
   "cell_type": "markdown",
   "id": "54c4d781",
   "metadata": {},
   "source": [
    "{: .language-bash}\n",
    "\n",
    "```\n",
    "/Users/nelle/Desktop/shell-lesson-data/data\n",
    "```\n",
    "\n",
    "{: .output}"
   ]
  },
  {
   "cell_type": "code",
   "execution_count": null,
   "id": "80cfdda6",
   "metadata": {},
   "outputs": [],
   "source": [
    "%%bash\n",
    "$ cd /Users/nelle/Desktop/shell-lesson-data"
   ]
  },
  {
   "cell_type": "markdown",
   "id": "28be4a23",
   "metadata": {},
   "source": [
    "```\n",
    "```\n",
    "\n",
    "{: .language-bash}\n",
    "Run `pwd` and `ls -F` to ensure that we're in the directory we expect.\n",
    "> ## Two More Shortcuts\n",
    ">\n",
    "> The shell interprets a tilde (`~`) character at the start of a path to\n",
    "> mean \"the current user's home directory\". For example, if Nelle's home\n",
    "> directory is `/Users/nelle`, then `~/data` is equivalent to\n",
    "> `/Users/nelle/data`. This only works if it is the first character in the\n",
    "> path: `here/there/~/elsewhere` is *not* `here/there/Users/nelle/elsewhere`.\n",
    ">\n",
    "> Another shortcut is the `-` (dash) character. `cd` will translate `-` into\n",
    "> *the previous directory I was in*, which is faster than having to remember,\n",
    "> then type, the full path.  This is a *very* efficient way of moving\n",
    "> *back and forth between two directories* -- i.e. if you execute `cd -` twice,\n",
    "> you end up back in the starting directory.\n",
    ">\n",
    "> The difference between `cd ..` and `cd -` is\n",
    "> that the former brings you *up*, while the latter brings you *back*.\n",
    ">\n",
    "> ----\n",
    "> Try it!\n",
    "> First navigate to `~/Desktop/shell-lesson-data` (you should already be there)."
   ]
  },
  {
   "cell_type": "code",
   "execution_count": null,
   "id": "7c90b8cc",
   "metadata": {},
   "outputs": [],
   "source": [
    "%%bash\n",
    "> $ cd ~/Desktop/shell-lesson-data"
   ]
  },
  {
   "cell_type": "markdown",
   "id": "0850a59a",
   "metadata": {},
   "source": [
    "```\n",
    "```\n",
    "\n",
    "> {: .language-bash}\n",
    ">\n",
    "> Then `cd` into the `creatures` directory"
   ]
  },
  {
   "cell_type": "code",
   "execution_count": null,
   "id": "e010bb2a",
   "metadata": {},
   "outputs": [],
   "source": [
    "%%bash\n",
    "> $ cd creatures"
   ]
  },
  {
   "cell_type": "markdown",
   "id": "32a3d0ae",
   "metadata": {},
   "source": [
    "```\n",
    "```\n",
    "\n",
    "> {: .language-bash}\n",
    ">\n",
    "> Now if you run"
   ]
  },
  {
   "cell_type": "code",
   "execution_count": null,
   "id": "493f835e",
   "metadata": {},
   "outputs": [],
   "source": [
    "%%bash\n",
    "> $ cd -"
   ]
  },
  {
   "cell_type": "markdown",
   "id": "29d68061",
   "metadata": {},
   "source": [
    "```\n",
    "```\n",
    "\n",
    "> {: .language-bash}\n",
    "> you'll see you're back in `~/Desktop/shell-lesson-data`.\n",
    "> Run `cd -` again and you're back in `~/Desktop/shell-lesson-data/creatures`\n",
    "{: .callout}\n",
    "> ## Absolute vs Relative Paths\n",
    ">\n",
    "> Starting from `/Users/amanda/data`,\n",
    "> which of the following commands could Amanda use to navigate to her home directory,\n",
    "> which is `/Users/amanda`?\n",
    ">\n",
    "> 1. `cd .`\n",
    "> 2. `cd /`\n",
    "> 3. `cd /home/amanda`\n",
    "> 4. `cd ../..`\n",
    "> 5. `cd ~`\n",
    "> 6. `cd home`\n",
    "> 7. `cd ~/data/..`\n",
    "> 8. `cd`\n",
    "> 9. `cd ..`\n",
    ">\n",
    "\n",
    "<details>\n",
    "<summary>Solution</summary>\n",
    "> > ## Solution\n",
    "> > 1. No: `.` stands for the current directory.\n",
    "> > 2. No: `/` stands for the root directory.\n",
    "> > 3. No: Amanda's home directory is `/Users/amanda`.\n",
    "> > 4. No: this command goes up two levels, i.e. ends in `/Users`.\n",
    "> > 5. Yes: `~` stands for the user's home directory, in this case `/Users/amanda`.\n",
    "> > 6. No: this command would navigate into a directory `home` in the current directory\n",
    "> >     if it exists.\n",
    "> > 7. Yes: unnecessarily complicated, but correct.\n",
    "> > 8. Yes: shortcut to go back to the user's home directory.\n",
    "> > 9. Yes: goes up one level.\n",
    "> {: .solution}\n",
    "</details>\n",
    "\n",
    "{: .challenge}\n",
    "> ## Relative Path Resolution\n",
    ">\n",
    "> Using the filesystem diagram below, if `pwd` displays `/Users/thing`,\n",
    "> what will `ls -F ../backup` display?\n",
    ">\n",
    "> 1.  `../backup: No such file or directory`\n",
    "> 2.  `2012-12-01 2013-01-08 2013-01-27`\n",
    "> 3.  `2012-12-01/ 2013-01-08/ 2013-01-27/`\n",
    "> 4.  `original/ pnas_final/ pnas_sub/`\n",
    ">\n",
    "> ![A directory tree below the Users directory where \"/Users\" contains the\n",
    "directories \"backup\" and \"thing\"; \"/Users/backup\" contains \"original\",\n",
    "\"pnas_final\" and \"pnas_sub\"; \"/Users/thing\" contains \"backup\"; and\n",
    "\"/Users/thing/backup\" contains \"2012-12-01\", \"2013-01-08\" and\n",
    "\"2013-01-27\"](../fig/filesystem-challenge.svg)\n",
    ">\n",
    "\n",
    "<details>\n",
    "<summary>Solution</summary>\n",
    "> > ## Solution\n",
    "> > 1. No: there *is* a directory `backup` in `/Users`.\n",
    "> > 2. No: this is the content of `Users/thing/backup`,\n",
    "> >    but with `..`, we asked for one level further up.\n",
    "> > 3. No: see previous explanation.\n",
    "> > 4. Yes: `../backup/` refers to `/Users/backup/`.\n",
    "> {: .solution}\n",
    "</details>\n",
    "\n",
    "{: .challenge}\n",
    "> ## `ls` Reading Comprehension\n",
    ">\n",
    "> Using the filesystem diagram below,\n",
    "> if `pwd` displays `/Users/backup`,\n",
    "> and `-r` tells `ls` to display things in reverse order,\n",
    "> what command(s) will result in the following output:\n",
    ">\n",
    "\n",
    "```\n",
    "> pnas_sub/ pnas_final/ original/\n",
    "```\n",
    "\n",
    "> {: .output}\n",
    ">\n",
    "> ![A directory tree below the Users directory where \"/Users\" contains the\n",
    "directories \"backup\" and \"thing\"; \"/Users/backup\" contains \"original\",\n",
    "\"pnas_final\" and \"pnas_sub\"; \"/Users/thing\" contains \"backup\"; and\n",
    "\"/Users/thing/backup\" contains \"2012-12-01\", \"2013-01-08\" and\n",
    "\"2013-01-27\"](../fig/filesystem-challenge.svg)\n",
    ">\n",
    "> 1.  `ls pwd`\n",
    "> 2.  `ls -r -F`\n",
    "> 3.  `ls -r -F /Users/backup`\n",
    ">\n",
    "\n",
    "<details>\n",
    "<summary>Solution</summary>\n",
    "> > ## Solution\n",
    "> >  1. No: `pwd` is not the name of a directory.\n",
    "> >  2. Yes: `ls` without directory argument lists files and directories\n",
    "> >     in the current directory.\n",
    "> >  3. Yes: uses the absolute path explicitly.\n",
    "> {: .solution}\n",
    "</details>\n",
    "{: .challenge}\n",
    "## General Syntax of a Shell Command\n",
    "We have now encountered commands, options, and arguments,\n",
    "but it is perhaps useful to formalise some terminology.\n",
    "Consider the command below as a general example of a command,\n",
    "which we will dissect into its component parts:"
   ]
  },
  {
   "cell_type": "code",
   "execution_count": null,
   "id": "ced147fa",
   "metadata": {},
   "outputs": [],
   "source": [
    "%%bash\n",
    "$ ls -F /"
   ]
  },
  {
   "cell_type": "markdown",
   "id": "7036b08d",
   "metadata": {},
   "source": [
    "```\n",
    "```\n",
    "\n",
    "{: .language-bash}\n",
    "![General syntax of a shell command](../fig/shell_command_syntax.svg)\n",
    "`ls` is the **command**, with an **option** `-F` and an\n",
    "**argument** `/`.\n",
    "We've already encountered options  which\n",
    "either start with a single dash (`-`) or two dashes (`--`),\n",
    "and they change the behavior of a command.\n",
    "[Arguments] tell the command what to operate on (e.g. files and directories).\n",
    "Sometimes options and arguments are referred to as **parameters**.\n",
    "A command can be called with more than one option and more than one argument, but a\n",
    "command doesn't always require an argument or an option.\n",
    "You might sometimes see options being referred to as **switches** or **flags**,\n",
    "especially for options that take no argument. In this lesson we will stick with\n",
    "using the term *option*.\n",
    "Each part is separated by spaces: if you omit the space\n",
    "between `ls` and `-F` the shell will look for a command called `ls-F`, which\n",
    "doesn't exist. Also, capitalization can be important.\n",
    "For example, `ls -s` will display the size of files and directories alongside the names,\n",
    "while `ls -S` will sort the files and directories by size, as shown below:\n",
    "\n",
    "```\n",
    "$ ls -s Desktop/shell-lesson-data/data\n",
    "total 116\n",
    "4 amino-acids.txt   4 animals.txt   4 morse.txt  12 planets.txt  76 sunspot.txt\n",
    "4 animal-counts     4 elements      4 pdb         4 salmon.txt\n",
    "$ ls -S Desktop/shell-lesson-data/data\n",
    "sunspot.txt  animal-counts  pdb        amino-acids.txt  salmon.txt\n",
    "planets.txt  elements       morse.txt  animals.txt\n",
    "```\n",
    "\n",
    "{: .output}\n",
    "Putting all that together, our command above gives us a listing\n",
    "of files and directories in the root directory `/`.\n",
    "An example of the output you might get from the above command is given below:"
   ]
  },
  {
   "cell_type": "code",
   "execution_count": null,
   "id": "912491af",
   "metadata": {},
   "outputs": [],
   "source": [
    "%%bash\n",
    "$ ls -F /"
   ]
  },
  {
   "cell_type": "markdown",
   "id": "7f713861",
   "metadata": {},
   "source": [
    "{: .language-bash}\n",
    "\n",
    "```\n",
    "Applications/         System/\n",
    "Library/              Users/\n",
    "Network/              Volumes/\n",
    "```\n",
    "\n",
    "{: .output}\n",
    "### Nelle's Pipeline: Organizing Files\n",
    "Knowing this much about files and directories,\n",
    "Nelle is ready to organize the files that the protein assay machine will create.\n",
    "First,\n",
    "she creates a directory called `north-pacific-gyre`\n",
    "(to remind herself where the data came from).\n",
    "Inside that,\n",
    "she creates a directory called `2012-07-03`,\n",
    "which is the date she started processing the samples.\n",
    "She used to use names like `conference-paper` and `revised-results`,\n",
    "but she found them hard to understand after a couple of years.\n",
    "(The final straw was when she found herself creating\n",
    "a directory called `revised-revised-results-3`.)\n",
    "> ## Sorting Output\n",
    ">\n",
    "> Nelle names her directories 'year-month-day',\n",
    "> with leading zeroes for months and days,\n",
    "> because the shell displays file and directory names in alphabetical order.\n",
    "> If she used month names,\n",
    "> December would come before July;\n",
    "> if she didn't use leading zeroes,\n",
    "> November ('11') would come before July ('7'). Similarly, putting the year first\n",
    "> means that June 2012 will come before June 2013.\n",
    "{: .callout}\n",
    "Each of her physical samples is labelled according to her lab's convention\n",
    "with a unique ten-character ID,\n",
    "such as 'NENE01729A'.\n",
    "This ID is what she used in her collection log\n",
    "to record the location, time, depth, and other characteristics of the sample,\n",
    "so she decides to use it as part of each data file's name.\n",
    "Since the assay machine's output is plain text,\n",
    "she will call her files `NENE01729A.txt`, `NENE01812A.txt`, and so on.\n",
    "All 1520 files will go into the same directory.\n",
    "Now in her current directory `shell-lesson-data`,\n",
    "Nelle can see what files she has using the command:"
   ]
  },
  {
   "cell_type": "code",
   "execution_count": null,
   "id": "019a459c",
   "metadata": {},
   "outputs": [],
   "source": [
    "%%bash\n",
    "$ ls north-pacific-gyre/2012-07-03/"
   ]
  },
  {
   "cell_type": "markdown",
   "id": "21207f4c",
   "metadata": {},
   "source": [
    "```\n",
    "```\n",
    "\n",
    "{: .language-bash}\n",
    "This command is a lot to type,\n",
    "but she can let the shell do most of the work through what is called **tab completion**.\n",
    "If she types:"
   ]
  },
  {
   "cell_type": "code",
   "execution_count": null,
   "id": "b03261c8",
   "metadata": {},
   "outputs": [],
   "source": [
    "%%bash\n",
    "$ ls nor"
   ]
  },
  {
   "cell_type": "markdown",
   "id": "28ba32b0",
   "metadata": {},
   "source": [
    "```\n",
    "```\n",
    "\n",
    "{: .language-bash}\n",
    "and then presses <kbd>Tab</kbd> (the tab key on her keyboard),\n",
    "the shell automatically completes the directory name for her:"
   ]
  },
  {
   "cell_type": "code",
   "execution_count": null,
   "id": "f18fbf9c",
   "metadata": {
    "lines_to_next_cell": 0
   },
   "outputs": [],
   "source": [
    "%%bash\n",
    "$ ls north-pacific-gyre/"
   ]
  },
  {
   "cell_type": "markdown",
   "id": "a9af55cf",
   "metadata": {},
   "source": []
  }
 ],
 "metadata": {
  "jupytext": {
   "formats": "ipynb,md"
  },
  "kernelspec": {
   "display_name": "Python 3 (ipykernel)",
   "language": "python",
   "name": "python3"
  }
 },
 "nbformat": 4,
 "nbformat_minor": 5
}
